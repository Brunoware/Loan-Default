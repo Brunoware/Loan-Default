{
 "cells": [
  {
   "cell_type": "markdown",
   "metadata": {},
   "source": [
    "# Preprocessing"
   ]
  },
  {
   "cell_type": "markdown",
   "metadata": {},
   "source": [
    "Importing base libraries"
   ]
  },
  {
   "cell_type": "code",
   "execution_count": 75,
   "id": "ba2cdf6c-deb9-4d40-afb2-37bb28c38778",
   "metadata": {
    "tags": []
   },
   "outputs": [],
   "source": [
    "import pandas as pd\n",
    "import numpy as np\n",
    "import os\n",
    "import matplotlib.pyplot as plt\n",
    "import seaborn as sns\n",
    "import warnings\n",
    "from sklearn.linear_model import LogisticRegression\n",
    "from sklearn.pipeline import make_pipeline\n",
    "from sklearn.preprocessing import OneHotEncoder\n",
    "from sklearn.compose import ColumnTransformer\n",
    "from sklearn.impute import SimpleImputer\n",
    "from sklearn.model_selection import train_test_split\n",
    "warnings.filterwarnings('ignore')"
   ]
  },
  {
   "cell_type": "markdown",
   "metadata": {},
   "source": [
    "Reading csv file"
   ]
  },
  {
   "cell_type": "code",
   "execution_count": 29,
   "id": "9060d868-af6b-4785-b7ed-bb7a13cd2293",
   "metadata": {
    "tags": []
   },
   "outputs": [
    {
     "data": {
      "text/html": [
       "<div>\n",
       "<style scoped>\n",
       "    .dataframe tbody tr th:only-of-type {\n",
       "        vertical-align: middle;\n",
       "    }\n",
       "\n",
       "    .dataframe tbody tr th {\n",
       "        vertical-align: top;\n",
       "    }\n",
       "\n",
       "    .dataframe thead th {\n",
       "        text-align: right;\n",
       "    }\n",
       "</style>\n",
       "<table border=\"1\" class=\"dataframe\">\n",
       "  <thead>\n",
       "    <tr style=\"text-align: right;\">\n",
       "      <th></th>\n",
       "      <th>BAD</th>\n",
       "      <th>LOAN</th>\n",
       "      <th>MORTDUE</th>\n",
       "      <th>VALUE</th>\n",
       "      <th>REASON</th>\n",
       "      <th>JOB</th>\n",
       "      <th>YOJ</th>\n",
       "      <th>DEROG</th>\n",
       "      <th>DELINQ</th>\n",
       "      <th>CLAGE</th>\n",
       "      <th>NINQ</th>\n",
       "      <th>CLNO</th>\n",
       "      <th>DEBTINC</th>\n",
       "    </tr>\n",
       "  </thead>\n",
       "  <tbody>\n",
       "    <tr>\n",
       "      <th>0</th>\n",
       "      <td>1</td>\n",
       "      <td>1100</td>\n",
       "      <td>25860.0</td>\n",
       "      <td>39025.0</td>\n",
       "      <td>HomeImp</td>\n",
       "      <td>Other</td>\n",
       "      <td>10.5</td>\n",
       "      <td>0.0</td>\n",
       "      <td>0.0</td>\n",
       "      <td>94.366667</td>\n",
       "      <td>1.0</td>\n",
       "      <td>9.0</td>\n",
       "      <td>NaN</td>\n",
       "    </tr>\n",
       "    <tr>\n",
       "      <th>1</th>\n",
       "      <td>1</td>\n",
       "      <td>1300</td>\n",
       "      <td>70053.0</td>\n",
       "      <td>68400.0</td>\n",
       "      <td>HomeImp</td>\n",
       "      <td>Other</td>\n",
       "      <td>7.0</td>\n",
       "      <td>0.0</td>\n",
       "      <td>2.0</td>\n",
       "      <td>121.833333</td>\n",
       "      <td>0.0</td>\n",
       "      <td>14.0</td>\n",
       "      <td>NaN</td>\n",
       "    </tr>\n",
       "    <tr>\n",
       "      <th>2</th>\n",
       "      <td>1</td>\n",
       "      <td>1500</td>\n",
       "      <td>13500.0</td>\n",
       "      <td>16700.0</td>\n",
       "      <td>HomeImp</td>\n",
       "      <td>Other</td>\n",
       "      <td>4.0</td>\n",
       "      <td>0.0</td>\n",
       "      <td>0.0</td>\n",
       "      <td>149.466667</td>\n",
       "      <td>1.0</td>\n",
       "      <td>10.0</td>\n",
       "      <td>NaN</td>\n",
       "    </tr>\n",
       "    <tr>\n",
       "      <th>3</th>\n",
       "      <td>1</td>\n",
       "      <td>1500</td>\n",
       "      <td>NaN</td>\n",
       "      <td>NaN</td>\n",
       "      <td>NaN</td>\n",
       "      <td>NaN</td>\n",
       "      <td>NaN</td>\n",
       "      <td>NaN</td>\n",
       "      <td>NaN</td>\n",
       "      <td>NaN</td>\n",
       "      <td>NaN</td>\n",
       "      <td>NaN</td>\n",
       "      <td>NaN</td>\n",
       "    </tr>\n",
       "    <tr>\n",
       "      <th>4</th>\n",
       "      <td>0</td>\n",
       "      <td>1700</td>\n",
       "      <td>97800.0</td>\n",
       "      <td>112000.0</td>\n",
       "      <td>HomeImp</td>\n",
       "      <td>Office</td>\n",
       "      <td>3.0</td>\n",
       "      <td>0.0</td>\n",
       "      <td>0.0</td>\n",
       "      <td>93.333333</td>\n",
       "      <td>0.0</td>\n",
       "      <td>14.0</td>\n",
       "      <td>NaN</td>\n",
       "    </tr>\n",
       "  </tbody>\n",
       "</table>\n",
       "</div>"
      ],
      "text/plain": [
       "   BAD  LOAN  MORTDUE     VALUE   REASON     JOB   YOJ  DEROG  DELINQ  \\\n",
       "0    1  1100  25860.0   39025.0  HomeImp   Other  10.5    0.0     0.0   \n",
       "1    1  1300  70053.0   68400.0  HomeImp   Other   7.0    0.0     2.0   \n",
       "2    1  1500  13500.0   16700.0  HomeImp   Other   4.0    0.0     0.0   \n",
       "3    1  1500      NaN       NaN      NaN     NaN   NaN    NaN     NaN   \n",
       "4    0  1700  97800.0  112000.0  HomeImp  Office   3.0    0.0     0.0   \n",
       "\n",
       "        CLAGE  NINQ  CLNO  DEBTINC  \n",
       "0   94.366667   1.0   9.0      NaN  \n",
       "1  121.833333   0.0  14.0      NaN  \n",
       "2  149.466667   1.0  10.0      NaN  \n",
       "3         NaN   NaN   NaN      NaN  \n",
       "4   93.333333   0.0  14.0      NaN  "
      ]
     },
     "execution_count": 29,
     "metadata": {},
     "output_type": "execute_result"
    }
   ],
   "source": [
    "data = pd.read_csv('database/hmeq.csv')\n",
    "# mostrar primeros registros\n",
    "data.head()"
   ]
  },
  {
   "cell_type": "markdown",
   "metadata": {},
   "source": [
    "Observing that DEROG and DELINQ are integer values, so they are removed from all transformation on numerical features"
   ]
  },
  {
   "cell_type": "code",
   "execution_count": 30,
   "metadata": {},
   "outputs": [],
   "source": [
    "data['DEROG'] = data['DEROG'].astype(object)\n",
    "data['DELINQ'] = data['DELINQ'].astype(object)"
   ]
  },
  {
   "cell_type": "markdown",
   "metadata": {},
   "source": [
    "Dtypes and null values"
   ]
  },
  {
   "cell_type": "code",
   "execution_count": 31,
   "id": "0169c086-b328-42dd-a077-cec13d53a27d",
   "metadata": {},
   "outputs": [
    {
     "name": "stdout",
     "output_type": "stream",
     "text": [
      "<class 'pandas.core.frame.DataFrame'>\n",
      "RangeIndex: 5960 entries, 0 to 5959\n",
      "Data columns (total 13 columns):\n",
      " #   Column   Non-Null Count  Dtype  \n",
      "---  ------   --------------  -----  \n",
      " 0   BAD      5960 non-null   int64  \n",
      " 1   LOAN     5960 non-null   int64  \n",
      " 2   MORTDUE  5442 non-null   float64\n",
      " 3   VALUE    5848 non-null   float64\n",
      " 4   REASON   5708 non-null   object \n",
      " 5   JOB      5681 non-null   object \n",
      " 6   YOJ      5445 non-null   float64\n",
      " 7   DEROG    5252 non-null   object \n",
      " 8   DELINQ   5380 non-null   object \n",
      " 9   CLAGE    5652 non-null   float64\n",
      " 10  NINQ     5450 non-null   float64\n",
      " 11  CLNO     5738 non-null   float64\n",
      " 12  DEBTINC  4693 non-null   float64\n",
      "dtypes: float64(7), int64(2), object(4)\n",
      "memory usage: 605.4+ KB\n"
     ]
    }
   ],
   "source": [
    "data.info()"
   ]
  },
  {
   "cell_type": "markdown",
   "metadata": {},
   "source": [
    "Dataframe dimension"
   ]
  },
  {
   "cell_type": "code",
   "execution_count": 4,
   "id": "e4e4561f-6189-4f8f-8c9b-ed663c3cd3c9",
   "metadata": {
    "tags": []
   },
   "outputs": [
    {
     "name": "stdout",
     "output_type": "stream",
     "text": [
      "(5960,)\n",
      "(2,)\n"
     ]
    }
   ],
   "source": [
    "print(data['BAD'].shape)\n",
    "print(data['BAD'].unique().shape)"
   ]
  },
  {
   "cell_type": "markdown",
   "metadata": {},
   "source": [
    "Checking on main statistics values"
   ]
  },
  {
   "cell_type": "code",
   "execution_count": 32,
   "id": "94a7f77e-d01f-400c-9786-2b44060d79e8",
   "metadata": {
    "tags": []
   },
   "outputs": [
    {
     "data": {
      "text/html": [
       "<div>\n",
       "<style scoped>\n",
       "    .dataframe tbody tr th:only-of-type {\n",
       "        vertical-align: middle;\n",
       "    }\n",
       "\n",
       "    .dataframe tbody tr th {\n",
       "        vertical-align: top;\n",
       "    }\n",
       "\n",
       "    .dataframe thead th {\n",
       "        text-align: right;\n",
       "    }\n",
       "</style>\n",
       "<table border=\"1\" class=\"dataframe\">\n",
       "  <thead>\n",
       "    <tr style=\"text-align: right;\">\n",
       "      <th></th>\n",
       "      <th>BAD</th>\n",
       "      <th>LOAN</th>\n",
       "      <th>MORTDUE</th>\n",
       "      <th>VALUE</th>\n",
       "      <th>YOJ</th>\n",
       "      <th>CLAGE</th>\n",
       "      <th>NINQ</th>\n",
       "      <th>CLNO</th>\n",
       "      <th>DEBTINC</th>\n",
       "    </tr>\n",
       "  </thead>\n",
       "  <tbody>\n",
       "    <tr>\n",
       "      <th>count</th>\n",
       "      <td>5960.000000</td>\n",
       "      <td>5960.000000</td>\n",
       "      <td>5442.000000</td>\n",
       "      <td>5848.000000</td>\n",
       "      <td>5445.000000</td>\n",
       "      <td>5652.000000</td>\n",
       "      <td>5450.000000</td>\n",
       "      <td>5738.000000</td>\n",
       "      <td>4693.000000</td>\n",
       "    </tr>\n",
       "    <tr>\n",
       "      <th>mean</th>\n",
       "      <td>0.199497</td>\n",
       "      <td>18607.969799</td>\n",
       "      <td>73760.817200</td>\n",
       "      <td>101776.048741</td>\n",
       "      <td>8.922268</td>\n",
       "      <td>179.766275</td>\n",
       "      <td>1.186055</td>\n",
       "      <td>21.296096</td>\n",
       "      <td>33.779915</td>\n",
       "    </tr>\n",
       "    <tr>\n",
       "      <th>std</th>\n",
       "      <td>0.399656</td>\n",
       "      <td>11207.480417</td>\n",
       "      <td>44457.609458</td>\n",
       "      <td>57385.775334</td>\n",
       "      <td>7.573982</td>\n",
       "      <td>85.810092</td>\n",
       "      <td>1.728675</td>\n",
       "      <td>10.138933</td>\n",
       "      <td>8.601746</td>\n",
       "    </tr>\n",
       "    <tr>\n",
       "      <th>min</th>\n",
       "      <td>0.000000</td>\n",
       "      <td>1100.000000</td>\n",
       "      <td>2063.000000</td>\n",
       "      <td>8000.000000</td>\n",
       "      <td>0.000000</td>\n",
       "      <td>0.000000</td>\n",
       "      <td>0.000000</td>\n",
       "      <td>0.000000</td>\n",
       "      <td>0.524499</td>\n",
       "    </tr>\n",
       "    <tr>\n",
       "      <th>25%</th>\n",
       "      <td>0.000000</td>\n",
       "      <td>11100.000000</td>\n",
       "      <td>46276.000000</td>\n",
       "      <td>66075.500000</td>\n",
       "      <td>3.000000</td>\n",
       "      <td>115.116702</td>\n",
       "      <td>0.000000</td>\n",
       "      <td>15.000000</td>\n",
       "      <td>29.140031</td>\n",
       "    </tr>\n",
       "    <tr>\n",
       "      <th>50%</th>\n",
       "      <td>0.000000</td>\n",
       "      <td>16300.000000</td>\n",
       "      <td>65019.000000</td>\n",
       "      <td>89235.500000</td>\n",
       "      <td>7.000000</td>\n",
       "      <td>173.466667</td>\n",
       "      <td>1.000000</td>\n",
       "      <td>20.000000</td>\n",
       "      <td>34.818262</td>\n",
       "    </tr>\n",
       "    <tr>\n",
       "      <th>75%</th>\n",
       "      <td>0.000000</td>\n",
       "      <td>23300.000000</td>\n",
       "      <td>91488.000000</td>\n",
       "      <td>119824.250000</td>\n",
       "      <td>13.000000</td>\n",
       "      <td>231.562278</td>\n",
       "      <td>2.000000</td>\n",
       "      <td>26.000000</td>\n",
       "      <td>39.003141</td>\n",
       "    </tr>\n",
       "    <tr>\n",
       "      <th>max</th>\n",
       "      <td>1.000000</td>\n",
       "      <td>89900.000000</td>\n",
       "      <td>399550.000000</td>\n",
       "      <td>855909.000000</td>\n",
       "      <td>41.000000</td>\n",
       "      <td>1168.233561</td>\n",
       "      <td>17.000000</td>\n",
       "      <td>71.000000</td>\n",
       "      <td>203.312149</td>\n",
       "    </tr>\n",
       "  </tbody>\n",
       "</table>\n",
       "</div>"
      ],
      "text/plain": [
       "               BAD          LOAN        MORTDUE          VALUE          YOJ  \\\n",
       "count  5960.000000   5960.000000    5442.000000    5848.000000  5445.000000   \n",
       "mean      0.199497  18607.969799   73760.817200  101776.048741     8.922268   \n",
       "std       0.399656  11207.480417   44457.609458   57385.775334     7.573982   \n",
       "min       0.000000   1100.000000    2063.000000    8000.000000     0.000000   \n",
       "25%       0.000000  11100.000000   46276.000000   66075.500000     3.000000   \n",
       "50%       0.000000  16300.000000   65019.000000   89235.500000     7.000000   \n",
       "75%       0.000000  23300.000000   91488.000000  119824.250000    13.000000   \n",
       "max       1.000000  89900.000000  399550.000000  855909.000000    41.000000   \n",
       "\n",
       "             CLAGE         NINQ         CLNO      DEBTINC  \n",
       "count  5652.000000  5450.000000  5738.000000  4693.000000  \n",
       "mean    179.766275     1.186055    21.296096    33.779915  \n",
       "std      85.810092     1.728675    10.138933     8.601746  \n",
       "min       0.000000     0.000000     0.000000     0.524499  \n",
       "25%     115.116702     0.000000    15.000000    29.140031  \n",
       "50%     173.466667     1.000000    20.000000    34.818262  \n",
       "75%     231.562278     2.000000    26.000000    39.003141  \n",
       "max    1168.233561    17.000000    71.000000   203.312149  "
      ]
     },
     "execution_count": 32,
     "metadata": {},
     "output_type": "execute_result"
    }
   ],
   "source": [
    "data.describe()"
   ]
  },
  {
   "cell_type": "markdown",
   "metadata": {},
   "source": [
    "Dividing dataframe into X and y matrices"
   ]
  },
  {
   "cell_type": "code",
   "execution_count": 35,
   "metadata": {},
   "outputs": [],
   "source": [
    "X = data.drop(columns = 'BAD')\n",
    "y = data.BAD"
   ]
  },
  {
   "cell_type": "markdown",
   "metadata": {},
   "source": [
    "Creating a function to replace outliers in order to impute null values afterwards"
   ]
  },
  {
   "cell_type": "code",
   "execution_count": 28,
   "metadata": {},
   "outputs": [],
   "source": [
    "def clean_outliers(df, column):\n",
    "    q1 = df[column].quantile(0.25)\n",
    "    q3 = df[column].quantile(0.75)\n",
    "    iqr = q3 - q1\n",
    "    upper_bound = q3 + 1.5 * iqr\n",
    "    lower_bound = q1 - 1.5 * iqr\n",
    "    return df[column].clip(lower = lower_bound, upper = upper_bound)"
   ]
  },
  {
   "cell_type": "markdown",
   "metadata": {},
   "source": [
    "Before applying outliers detection and removal"
   ]
  },
  {
   "cell_type": "code",
   "execution_count": 36,
   "metadata": {},
   "outputs": [
    {
     "data": {
      "image/png": "[encoded data removed]",
      "text/plain": [
       "<Figure size 1600x600 with 8 Axes>"
      ]
     },
     "metadata": {},
     "output_type": "display_data"
    }
   ],
   "source": [
    "fig, axis = plt.subplots(2, 4, figsize = (16, 6))\n",
    "\n",
    "actual_columns = X.select_dtypes(include = np.number).columns.tolist()\n",
    "\n",
    "for index, column in enumerate(actual_columns):\n",
    "    row = index // 4\n",
    "    col = index % 4\n",
    "    ax = axis[row][col]\n",
    "    sns.boxplot(x = X[column], palette='Set3', ax = ax)\n",
    "    ax.set_xlabel('Value')\n",
    "    ax.set_ylabel(f'Feature {column}')\n",
    "plt.show()"
   ]
  },
  {
   "cell_type": "markdown",
   "metadata": {},
   "source": [
    "Removing outlliers in numerical columns"
   ]
  },
  {
   "cell_type": "code",
   "execution_count": 37,
   "metadata": {},
   "outputs": [],
   "source": [
    "for column in actual_columns:\n",
    "    X[column] = clean_outliers(X, column)"
   ]
  },
  {
   "cell_type": "markdown",
   "metadata": {},
   "source": [
    "After applyting outliers removal"
   ]
  },
  {
   "cell_type": "code",
   "execution_count": 41,
   "metadata": {},
   "outputs": [
    {
     "data": {
      "image/png": "[encoded data removed]",
      "text/plain": [
       "<Figure size 1600x600 with 8 Axes>"
      ]
     },
     "metadata": {},
     "output_type": "display_data"
    }
   ],
   "source": [
    "fig, axis = plt.subplots(2, 4, figsize = (16, 6))\n",
    "\n",
    "actual_columns = X.select_dtypes(include = np.number).columns.tolist()\n",
    "\n",
    "for index, column in enumerate(actual_columns):\n",
    "    row = index // 4\n",
    "    col = index % 4\n",
    "    ax = axis[row][col]\n",
    "    sns.boxplot(x = X[column], palette='Set3', ax = ax)\n",
    "    ax.set_xlabel('Value')\n",
    "    ax.set_ylabel(f'Feature {column}')\n",
    "plt.show()"
   ]
  },
  {
   "cell_type": "markdown",
   "metadata": {},
   "source": [
    "Analyzing distributionS so that it gets easier to decide the imputer"
   ]
  },
  {
   "cell_type": "code",
   "execution_count": 69,
   "id": "7ded7af2-0a24-4a7a-8e92-fc7d3fe97a69",
   "metadata": {
    "tags": []
   },
   "outputs": [
    {
     "data": {
      "image/png": "[encoded data removed]",
      "text/plain": [
       "<Figure size 1200x400 with 2 Axes>"
      ]
     },
     "metadata": {},
     "output_type": "display_data"
    }
   ],
   "source": [
    "fig, axes = plt.subplots(nrows=1, ncols=2, figsize=(12, 4))\n",
    "axes[0].hist(X['LOAN'], bins=20, color='blue', alpha=0.5)\n",
    "axes[0].set_title('LOAN')\n",
    "axes[1].hist(X[data['LOAN']<41000]['LOAN'], bins=20, color='green', alpha=0.5)\n",
    "axes[1].set_title('LOAN<41000')\n",
    "plt.tight_layout()\n",
    "plt.show()"
   ]
  },
  {
   "cell_type": "code",
   "execution_count": 70,
   "id": "49099276-8fca-419e-91ca-f70f97493344",
   "metadata": {
    "tags": []
   },
   "outputs": [
    {
     "data": {
      "image/png": "[encoded data removed]",
      "text/plain": [
       "<Figure size 1200x400 with 2 Axes>"
      ]
     },
     "metadata": {},
     "output_type": "display_data"
    }
   ],
   "source": [
    "fig, axes = plt.subplots(nrows=1, ncols=2, figsize=(12, 4)) \n",
    "axes[0].hist(X['MORTDUE'], bins=20, color='blue', alpha=0.5)\n",
    "axes[0].set_title('MORTDUE')\n",
    "axes[1].hist(X[X['MORTDUE']<25000]['MORTDUE'], bins=20, color='green', alpha=0.5)\n",
    "axes[1].set_title('MORTDUE<25000')\n",
    "plt.tight_layout()\n",
    "plt.show()"
   ]
  },
  {
   "cell_type": "code",
   "execution_count": 71,
   "id": "0dc0ec04-8ea0-48ba-b18a-1538566455d7",
   "metadata": {
    "tags": []
   },
   "outputs": [
    {
     "data": {
      "image/png": "[encoded data removed]",
      "text/plain": [
       "<Figure size 1200x400 with 2 Axes>"
      ]
     },
     "metadata": {},
     "output_type": "display_data"
    }
   ],
   "source": [
    "fig, axes = plt.subplots(nrows=1, ncols=2, figsize=(12, 4)) \n",
    "axes[0].hist(X['VALUE'], bins=20, color='blue', alpha=0.5)\n",
    "axes[0].set_title('VALUE')\n",
    "axes[1].hist(X[X['VALUE']<30000]['VALUE'], bins=20, color='green', alpha=0.5)\n",
    "axes[1].set_title('VALUE<25000')\n",
    "plt.tight_layout()\n",
    "plt.show()"
   ]
  },
  {
   "cell_type": "code",
   "execution_count": 72,
   "id": "b39541b8-b412-47a4-b121-99b961570699",
   "metadata": {
    "tags": []
   },
   "outputs": [
    {
     "data": {
      "image/png": "[encoded data removed]",
      "text/plain": [
       "<Figure size 1200x400 with 2 Axes>"
      ]
     },
     "metadata": {},
     "output_type": "display_data"
    }
   ],
   "source": [
    "fig, axes = plt.subplots(nrows=1, ncols=2, figsize=(12, 4)) \n",
    "axes[0].hist(X['DELINQ'], bins=20, color='blue', alpha=0.5)\n",
    "axes[0].set_title('DELINQ')\n",
    "axes[1].hist(X[X['DELINQ']<7]['DELINQ'], bins=20, color='green', alpha=0.5)\n",
    "axes[1].set_title('DELINQ<7')\n",
    "plt.tight_layout()\n",
    "plt.show()"
   ]
  },
  {
   "cell_type": "code",
   "execution_count": 73,
   "id": "3abfbebc-b227-4ed1-87a0-3f14900dab52",
   "metadata": {
    "tags": []
   },
   "outputs": [
    {
     "data": {
      "image/png": "[encoded data removed]",
      "text/plain": [
       "<Figure size 1200x400 with 2 Axes>"
      ]
     },
     "metadata": {},
     "output_type": "display_data"
    }
   ],
   "source": [
    "fig, axes = plt.subplots(nrows=1, ncols=2, figsize=(12, 4)) \n",
    "axes[0].hist(X['CLAGE'], bins=20, color='blue', alpha=0.5)\n",
    "axes[0].set_title('CLAGE')\n",
    "axes[1].hist(X[X['CLAGE']<450]['CLAGE'], bins=20, color='green', alpha=0.5)\n",
    "axes[1].set_title('CLAGE<450')\n",
    "plt.tight_layout()\n",
    "plt.show()"
   ]
  },
  {
   "cell_type": "code",
   "execution_count": 74,
   "id": "41c883c6-9d31-42b4-a2fa-d0b765f0ec65",
   "metadata": {
    "tags": []
   },
   "outputs": [
    {
     "data": {
      "image/png": "[encoded data removed]",
      "text/plain": [
       "<Figure size 1200x400 with 2 Axes>"
      ]
     },
     "metadata": {},
     "output_type": "display_data"
    }
   ],
   "source": [
    "fig, axes = plt.subplots(nrows=1, ncols=2, figsize=(12, 4))\n",
    "axes[0].hist(X['NINQ'], bins=20, color='blue', alpha=0.5)\n",
    "axes[0].set_title('NINQ')\n",
    "axes[1].hist(X[X['NINQ']<10]['NINQ'], bins=20, color='green', alpha=0.5)\n",
    "axes[1].set_title('NINQ<10')\n",
    "plt.tight_layout()\n",
    "plt.show()"
   ]
  },
  {
   "cell_type": "markdown",
   "metadata": {},
   "source": [
    "Getting back intger features"
   ]
  },
  {
   "cell_type": "code",
   "execution_count": 58,
   "metadata": {},
   "outputs": [],
   "source": [
    "X['DEROG'] = X['DEROG'].astype(float)\n",
    "X['DELINQ'] = X['DELINQ'].astype(float)"
   ]
  },
  {
   "cell_type": "markdown",
   "metadata": {},
   "source": [
    "Imputing X null values with median and encoding cat-object features"
   ]
  },
  {
   "cell_type": "code",
   "execution_count": 67,
   "id": "ea0ad833-d00b-440e-ace3-369c5e2a581e",
   "metadata": {
    "tags": []
   },
   "outputs": [],
   "source": [
    "# divide columns by their dtype\n",
    "num_col = X.select_dtypes(include = np.number).columns.tolist()\n",
    "cat_col = X.select_dtypes(exclude = np.number).columns.tolist()\n",
    "\n",
    "# declaring imputers\n",
    "imputer = SimpleImputer(strategy = 'median').set_output(transform = 'pandas')\n",
    "encoder = OneHotEncoder(handle_unknown = 'ignore', sparse_output = False).set_output(transform = 'pandas')\n",
    "\n",
    "# declaring all transformations\n",
    "transformer = ColumnTransformer([('NUM', imputer, num_col), ('CAT', encoder, cat_col)], remainder = 'passthrough')\\\n",
    "                                .set_output(transform = 'pandas')\n",
    "\n",
    "# fitting transformer\n",
    "X_tr = transformer.fit_transform(X)"
   ]
  },
  {
   "cell_type": "markdown",
   "metadata": {},
   "source": [
    "Verifying there are no null values left"
   ]
  },
  {
   "cell_type": "code",
   "execution_count": 68,
   "metadata": {},
   "outputs": [
    {
     "data": {
      "text/plain": [
       "0"
      ]
     },
     "execution_count": 68,
     "metadata": {},
     "output_type": "execute_result"
    }
   ],
   "source": [
    "X_tr.isnull().sum().sum()"
   ]
  },
  {
   "cell_type": "markdown",
   "metadata": {},
   "source": [
    "# Modelling"
   ]
  },
  {
   "cell_type": "markdown",
   "metadata": {},
   "source": [
    "Getting base coefficients by calculating with the whole dataset as a first approach"
   ]
  },
  {
   "cell_type": "code",
   "execution_count": 81,
   "metadata": {},
   "outputs": [
    {
     "name": "stdout",
     "output_type": "stream",
     "text": [
      "Intercept: -0.010249789981604881\n",
      "Coefficients: [-2.46189166e-05 -4.32351505e-06 -3.74588681e-08 -1.23546804e-02\n",
      "  9.55086771e-02  1.76923110e-01 -6.66031779e-03  7.76466212e-02\n",
      " -1.46511193e-03  1.26903244e-02 -1.33928268e-02  2.88217968e-03\n",
      "  2.60857144e-04  4.20716410e-03 -1.62879122e-02  3.77806222e-03\n",
      " -2.13947495e-03  3.28772008e-03  5.32093148e-03 -8.41628070e-03]\n"
     ]
    }
   ],
   "source": [
    "model = LogisticRegression(solver = 'liblinear', random_state = 23)\n",
    "model.fit(X_tr, y)\n",
    "coefficients = model.coef_[0]\n",
    "print(\"Intercept:\", model.intercept_[0])\n",
    "\n",
    "print(\"Coefficients:\", model.coef_[0])"
   ]
  },
  {
   "cell_type": "markdown",
   "metadata": {},
   "source": [
    "Doing the same thing by applying bootstrap"
   ]
  },
  {
   "cell_type": "code",
   "execution_count": 78,
   "metadata": {},
   "outputs": [],
   "source": [
    "def bootstrap_confidence_interval_logistic(flow_pipe, X, y, num_simulations = 10000):\n",
    "    coefs = []\n",
    "    num_samples = len(X)\n",
    "    for _ in range(num_simulations):\n",
    "        # Muestreo bootstrap\n",
    "        idx = np.random.choice(range(num_samples), size=num_samples, replace=True)\n",
    "        X_sampled, y_sampled = X.iloc[idx], y.iloc[idx]\n",
    "        X_sampled_tr = flow_pipe.fit_transform(X_sampled)\n",
    " \n",
    "        # Ajustar el modelo en la muestra\n",
    "        model = LogisticRegression(solver = 'liblinear', random_state = 23)\n",
    "        model.fit(X_sampled_tr, y_sampled)\n",
    "        coefs.append(model.coef_[0])\n",
    "    \n",
    "    coefs = np.array(coefs)\n",
    "    lower_percentile = np.percentile(coefs, 2.5, axis=0)\n",
    "    upper_percentile = np.percentile(coefs, 97.5, axis=0)\n",
    "    \n",
    "    return lower_percentile, upper_percentile"
   ]
  },
  {
   "cell_type": "code",
   "execution_count": 79,
   "metadata": {},
   "outputs": [
    {
     "name": "stdout",
     "output_type": "stream",
     "text": [
      "Intervalos de confianza de los coeficientes:\n",
      "Intervalo Inferior: [-3.17279259e-05 -6.91541698e-06 -2.89559245e-06 -1.75657569e-02\n",
      "  7.46423336e-05  1.36031547e-04 -8.65060198e-03  6.99309467e-05\n",
      " -2.39082713e-04 -7.46664481e-05 -4.94273231e-03 -8.11029281e-06\n",
      " -1.27408808e-04  1.13518158e-06 -6.05478948e-03 -3.49394559e-06\n",
      " -1.07819018e-03  1.05322320e-06  2.85189004e-06 -3.21233853e-03]\n",
      "Intervalo Superior: [-1.17225038e-05  9.39300628e-07  3.22563593e-06 -1.37592373e-04\n",
      "  3.84718798e-02  7.16043014e-02 -4.88758194e-03  3.24117068e-02\n",
      "  1.11872931e-02  2.60668898e-02 -3.66202713e-06  1.34462251e-03\n",
      "  3.23365642e-04  1.78656501e-03 -1.08842359e-05  1.86003475e-03\n",
      "  2.58905167e-06  1.27956267e-03  2.15370821e-03 -6.21040698e-06]\n"
     ]
    }
   ],
   "source": [
    "# getting confidence interval from coefficents\n",
    "lower_ci, upper_ci = bootstrap_confidence_interval_logistic(transformer, X, y)\n",
    "\n",
    "print(\"Intervalos de confianza de los coeficientes:\")\n",
    "print(\"Intervalo Inferior:\", lower_ci)\n",
    "print(\"Intervalo Superior:\", upper_ci)"
   ]
  },
  {
   "cell_type": "markdown",
   "metadata": {},
   "source": [
    "Putting all together into a table"
   ]
  },
  {
   "cell_type": "code",
   "execution_count": 83,
   "metadata": {},
   "outputs": [
    {
     "data": {
      "text/html": [
       "<div>\n",
       "<style scoped>\n",
       "    .dataframe tbody tr th:only-of-type {\n",
       "        vertical-align: middle;\n",
       "    }\n",
       "\n",
       "    .dataframe tbody tr th {\n",
       "        vertical-align: top;\n",
       "    }\n",
       "\n",
       "    .dataframe thead th {\n",
       "        text-align: right;\n",
       "    }\n",
       "</style>\n",
       "<table border=\"1\" class=\"dataframe\">\n",
       "  <thead>\n",
       "    <tr style=\"text-align: right;\">\n",
       "      <th></th>\n",
       "      <th>Coefficient</th>\n",
       "      <th>2.5%</th>\n",
       "      <th>97.5%</th>\n",
       "    </tr>\n",
       "  </thead>\n",
       "  <tbody>\n",
       "    <tr>\n",
       "      <th>0</th>\n",
       "      <td>-2.461892e-05</td>\n",
       "      <td>-0.000032</td>\n",
       "      <td>-1.172250e-05</td>\n",
       "    </tr>\n",
       "    <tr>\n",
       "      <th>1</th>\n",
       "      <td>-4.323515e-06</td>\n",
       "      <td>-0.000007</td>\n",
       "      <td>9.393006e-07</td>\n",
       "    </tr>\n",
       "    <tr>\n",
       "      <th>2</th>\n",
       "      <td>-3.745887e-08</td>\n",
       "      <td>-0.000003</td>\n",
       "      <td>3.225636e-06</td>\n",
       "    </tr>\n",
       "    <tr>\n",
       "      <th>3</th>\n",
       "      <td>-1.235468e-02</td>\n",
       "      <td>-0.017566</td>\n",
       "      <td>-1.375924e-04</td>\n",
       "    </tr>\n",
       "    <tr>\n",
       "      <th>4</th>\n",
       "      <td>9.550868e-02</td>\n",
       "      <td>0.000075</td>\n",
       "      <td>3.847188e-02</td>\n",
       "    </tr>\n",
       "    <tr>\n",
       "      <th>5</th>\n",
       "      <td>1.769231e-01</td>\n",
       "      <td>0.000136</td>\n",
       "      <td>7.160430e-02</td>\n",
       "    </tr>\n",
       "    <tr>\n",
       "      <th>6</th>\n",
       "      <td>-6.660318e-03</td>\n",
       "      <td>-0.008651</td>\n",
       "      <td>-4.887582e-03</td>\n",
       "    </tr>\n",
       "    <tr>\n",
       "      <th>7</th>\n",
       "      <td>7.764662e-02</td>\n",
       "      <td>0.000070</td>\n",
       "      <td>3.241171e-02</td>\n",
       "    </tr>\n",
       "    <tr>\n",
       "      <th>8</th>\n",
       "      <td>-1.465112e-03</td>\n",
       "      <td>-0.000239</td>\n",
       "      <td>1.118729e-02</td>\n",
       "    </tr>\n",
       "    <tr>\n",
       "      <th>9</th>\n",
       "      <td>1.269032e-02</td>\n",
       "      <td>-0.000075</td>\n",
       "      <td>2.606689e-02</td>\n",
       "    </tr>\n",
       "    <tr>\n",
       "      <th>10</th>\n",
       "      <td>-1.339283e-02</td>\n",
       "      <td>-0.004943</td>\n",
       "      <td>-3.662027e-06</td>\n",
       "    </tr>\n",
       "    <tr>\n",
       "      <th>11</th>\n",
       "      <td>2.882180e-03</td>\n",
       "      <td>-0.000008</td>\n",
       "      <td>1.344623e-03</td>\n",
       "    </tr>\n",
       "    <tr>\n",
       "      <th>12</th>\n",
       "      <td>2.608571e-04</td>\n",
       "      <td>-0.000127</td>\n",
       "      <td>3.233656e-04</td>\n",
       "    </tr>\n",
       "    <tr>\n",
       "      <th>13</th>\n",
       "      <td>4.207164e-03</td>\n",
       "      <td>0.000001</td>\n",
       "      <td>1.786565e-03</td>\n",
       "    </tr>\n",
       "    <tr>\n",
       "      <th>14</th>\n",
       "      <td>-1.628791e-02</td>\n",
       "      <td>-0.006055</td>\n",
       "      <td>-1.088424e-05</td>\n",
       "    </tr>\n",
       "    <tr>\n",
       "      <th>15</th>\n",
       "      <td>3.778062e-03</td>\n",
       "      <td>-0.000003</td>\n",
       "      <td>1.860035e-03</td>\n",
       "    </tr>\n",
       "    <tr>\n",
       "      <th>16</th>\n",
       "      <td>-2.139475e-03</td>\n",
       "      <td>-0.001078</td>\n",
       "      <td>2.589052e-06</td>\n",
       "    </tr>\n",
       "    <tr>\n",
       "      <th>17</th>\n",
       "      <td>3.287720e-03</td>\n",
       "      <td>0.000001</td>\n",
       "      <td>1.279563e-03</td>\n",
       "    </tr>\n",
       "    <tr>\n",
       "      <th>18</th>\n",
       "      <td>5.320931e-03</td>\n",
       "      <td>0.000003</td>\n",
       "      <td>2.153708e-03</td>\n",
       "    </tr>\n",
       "    <tr>\n",
       "      <th>19</th>\n",
       "      <td>-8.416281e-03</td>\n",
       "      <td>-0.003212</td>\n",
       "      <td>-6.210407e-06</td>\n",
       "    </tr>\n",
       "  </tbody>\n",
       "</table>\n",
       "</div>"
      ],
      "text/plain": [
       "     Coefficient      2.5%         97.5%\n",
       "0  -2.461892e-05 -0.000032 -1.172250e-05\n",
       "1  -4.323515e-06 -0.000007  9.393006e-07\n",
       "2  -3.745887e-08 -0.000003  3.225636e-06\n",
       "3  -1.235468e-02 -0.017566 -1.375924e-04\n",
       "4   9.550868e-02  0.000075  3.847188e-02\n",
       "5   1.769231e-01  0.000136  7.160430e-02\n",
       "6  -6.660318e-03 -0.008651 -4.887582e-03\n",
       "7   7.764662e-02  0.000070  3.241171e-02\n",
       "8  -1.465112e-03 -0.000239  1.118729e-02\n",
       "9   1.269032e-02 -0.000075  2.606689e-02\n",
       "10 -1.339283e-02 -0.004943 -3.662027e-06\n",
       "11  2.882180e-03 -0.000008  1.344623e-03\n",
       "12  2.608571e-04 -0.000127  3.233656e-04\n",
       "13  4.207164e-03  0.000001  1.786565e-03\n",
       "14 -1.628791e-02 -0.006055 -1.088424e-05\n",
       "15  3.778062e-03 -0.000003  1.860035e-03\n",
       "16 -2.139475e-03 -0.001078  2.589052e-06\n",
       "17  3.287720e-03  0.000001  1.279563e-03\n",
       "18  5.320931e-03  0.000003  2.153708e-03\n",
       "19 -8.416281e-03 -0.003212 -6.210407e-06"
      ]
     },
     "execution_count": 83,
     "metadata": {},
     "output_type": "execute_result"
    }
   ],
   "source": [
    "bootstrap = pd.DataFrame({'Coefficient': coefficients,\n",
    "                          '2.5%': lower_ci,\n",
    "                          '97.5%': upper_ci})\n",
    "\n",
    "bootstrap"
   ]
  },
  {
   "cell_type": "markdown",
   "metadata": {},
   "source": [
    "Plotting coefficients with their confidence intervals"
   ]
  },
  {
   "cell_type": "code",
   "execution_count": 89,
   "metadata": {},
   "outputs": [
    {
     "data": {
      "text/plain": [
       "array([-2.46189166e-05, -4.32351505e-06, -3.74588681e-08, -1.23546804e-02,\n",
       "        9.55086771e-02,  1.76923110e-01, -6.66031779e-03,  7.76466212e-02,\n",
       "       -1.46511193e-03,  1.26903244e-02, -1.33928268e-02,  2.88217968e-03,\n",
       "        2.60857144e-04,  4.20716410e-03, -1.62879122e-02,  3.77806222e-03,\n",
       "       -2.13947495e-03,  3.28772008e-03,  5.32093148e-03, -8.41628070e-03])"
      ]
     },
     "execution_count": 89,
     "metadata": {},
     "output_type": "execute_result"
    }
   ],
   "source": [
    "coefficients"
   ]
  },
  {
   "cell_type": "code",
   "execution_count": 3,
   "metadata": {},
   "outputs": [
    {
     "data": {
      "text/plain": [
       "'3.7.2'"
      ]
     },
     "execution_count": 3,
     "metadata": {},
     "output_type": "execute_result"
    }
   ],
   "source": [
    "import matplotlib\n",
    "matplotlib.__version__"
   ]
  },
  {
   "cell_type": "code",
   "execution_count": 84,
   "metadata": {},
   "outputs": [
    {
     "ename": "ValueError",
     "evalue": "'yerr' must not contain negative values",
     "output_type": "error",
     "traceback": [
      "\u001b[1;31m---------------------------------------------------------------------------\u001b[0m",
      "\u001b[1;31mValueError\u001b[0m                                Traceback (most recent call last)",
      "\u001b[1;32mc:\\Users\\b40946\\OneDrive - Interbank\\Aprendizaje continuo\\Maestria\\202302\\03. Análisis Exploratorio y Estadísticos de Datos\\05. Proyecto\\Loan-Default\\Estadistica.ipynb Cell 46\u001b[0m line \u001b[0;36m4\n\u001b[0;32m      <a href='vscode-notebook-cell:/c%3A/Users/b40946/OneDrive%20-%20Interbank/Aprendizaje%20continuo/Maestria/202302/03.%20An%C3%A1lisis%20Exploratorio%20y%20Estad%C3%ADsticos%20de%20Datos/05.%20Proyecto/Loan-Default/Estadistica.ipynb#Y255sZmlsZQ%3D%3D?line=0'>1</a>\u001b[0m coefficent_names \u001b[39m=\u001b[39m X_tr\u001b[39m.\u001b[39mcolumns\n\u001b[0;32m      <a href='vscode-notebook-cell:/c%3A/Users/b40946/OneDrive%20-%20Interbank/Aprendizaje%20continuo/Maestria/202302/03.%20An%C3%A1lisis%20Exploratorio%20y%20Estad%C3%ADsticos%20de%20Datos/05.%20Proyecto/Loan-Default/Estadistica.ipynb#Y255sZmlsZQ%3D%3D?line=1'>2</a>\u001b[0m plt\u001b[39m.\u001b[39mfigure(figsize\u001b[39m=\u001b[39m(\u001b[39m10\u001b[39m, \u001b[39m6\u001b[39m))\n\u001b[1;32m----> <a href='vscode-notebook-cell:/c%3A/Users/b40946/OneDrive%20-%20Interbank/Aprendizaje%20continuo/Maestria/202302/03.%20An%C3%A1lisis%20Exploratorio%20y%20Estad%C3%ADsticos%20de%20Datos/05.%20Proyecto/Loan-Default/Estadistica.ipynb#Y255sZmlsZQ%3D%3D?line=3'>4</a>\u001b[0m plt\u001b[39m.\u001b[39;49merrorbar(coefficent_names, coefficients, yerr\u001b[39m=\u001b[39;49m[coefficients \u001b[39m-\u001b[39;49m lower_ci, upper_ci \u001b[39m-\u001b[39;49m coefficients],\n\u001b[0;32m      <a href='vscode-notebook-cell:/c%3A/Users/b40946/OneDrive%20-%20Interbank/Aprendizaje%20continuo/Maestria/202302/03.%20An%C3%A1lisis%20Exploratorio%20y%20Estad%C3%ADsticos%20de%20Datos/05.%20Proyecto/Loan-Default/Estadistica.ipynb#Y255sZmlsZQ%3D%3D?line=4'>5</a>\u001b[0m              fmt\u001b[39m=\u001b[39;49m\u001b[39m'\u001b[39;49m\u001b[39mo\u001b[39;49m\u001b[39m'\u001b[39;49m, color\u001b[39m=\u001b[39;49m\u001b[39m'\u001b[39;49m\u001b[39mblue\u001b[39;49m\u001b[39m'\u001b[39;49m, ecolor\u001b[39m=\u001b[39;49m\u001b[39m'\u001b[39;49m\u001b[39morange\u001b[39;49m\u001b[39m'\u001b[39;49m, capsize\u001b[39m=\u001b[39;49m\u001b[39m5\u001b[39;49m, elinewidth\u001b[39m=\u001b[39;49m\u001b[39m2\u001b[39;49m)\n\u001b[0;32m      <a href='vscode-notebook-cell:/c%3A/Users/b40946/OneDrive%20-%20Interbank/Aprendizaje%20continuo/Maestria/202302/03.%20An%C3%A1lisis%20Exploratorio%20y%20Estad%C3%ADsticos%20de%20Datos/05.%20Proyecto/Loan-Default/Estadistica.ipynb#Y255sZmlsZQ%3D%3D?line=6'>7</a>\u001b[0m plt\u001b[39m.\u001b[39mxlabel(\u001b[39m'\u001b[39m\u001b[39mCoefficients\u001b[39m\u001b[39m'\u001b[39m)\n\u001b[0;32m      <a href='vscode-notebook-cell:/c%3A/Users/b40946/OneDrive%20-%20Interbank/Aprendizaje%20continuo/Maestria/202302/03.%20An%C3%A1lisis%20Exploratorio%20y%20Estad%C3%ADsticos%20de%20Datos/05.%20Proyecto/Loan-Default/Estadistica.ipynb#Y255sZmlsZQ%3D%3D?line=7'>8</a>\u001b[0m plt\u001b[39m.\u001b[39mylabel(\u001b[39m'\u001b[39m\u001b[39mCoefficient Value\u001b[39m\u001b[39m'\u001b[39m)\n",
      "File \u001b[1;32mc:\\Users\\b40946\\AppData\\Local\\anaconda3\\envs\\utec_cs_analisis_estadistico\\Lib\\site-packages\\matplotlib\\pyplot.py:2564\u001b[0m, in \u001b[0;36merrorbar\u001b[1;34m(x, y, yerr, xerr, fmt, ecolor, elinewidth, capsize, barsabove, lolims, uplims, xlolims, xuplims, errorevery, capthick, data, **kwargs)\u001b[0m\n\u001b[0;32m   2558\u001b[0m \u001b[39m@_copy_docstring_and_deprecators\u001b[39m(Axes\u001b[39m.\u001b[39merrorbar)\n\u001b[0;32m   2559\u001b[0m \u001b[39mdef\u001b[39;00m \u001b[39merrorbar\u001b[39m(\n\u001b[0;32m   2560\u001b[0m         x, y, yerr\u001b[39m=\u001b[39m\u001b[39mNone\u001b[39;00m, xerr\u001b[39m=\u001b[39m\u001b[39mNone\u001b[39;00m, fmt\u001b[39m=\u001b[39m\u001b[39m'\u001b[39m\u001b[39m'\u001b[39m, ecolor\u001b[39m=\u001b[39m\u001b[39mNone\u001b[39;00m,\n\u001b[0;32m   2561\u001b[0m         elinewidth\u001b[39m=\u001b[39m\u001b[39mNone\u001b[39;00m, capsize\u001b[39m=\u001b[39m\u001b[39mNone\u001b[39;00m, barsabove\u001b[39m=\u001b[39m\u001b[39mFalse\u001b[39;00m, lolims\u001b[39m=\u001b[39m\u001b[39mFalse\u001b[39;00m,\n\u001b[0;32m   2562\u001b[0m         uplims\u001b[39m=\u001b[39m\u001b[39mFalse\u001b[39;00m, xlolims\u001b[39m=\u001b[39m\u001b[39mFalse\u001b[39;00m, xuplims\u001b[39m=\u001b[39m\u001b[39mFalse\u001b[39;00m, errorevery\u001b[39m=\u001b[39m\u001b[39m1\u001b[39m,\n\u001b[0;32m   2563\u001b[0m         capthick\u001b[39m=\u001b[39m\u001b[39mNone\u001b[39;00m, \u001b[39m*\u001b[39m, data\u001b[39m=\u001b[39m\u001b[39mNone\u001b[39;00m, \u001b[39m*\u001b[39m\u001b[39m*\u001b[39mkwargs):\n\u001b[1;32m-> 2564\u001b[0m     \u001b[39mreturn\u001b[39;00m gca()\u001b[39m.\u001b[39;49merrorbar(\n\u001b[0;32m   2565\u001b[0m         x, y, yerr\u001b[39m=\u001b[39;49myerr, xerr\u001b[39m=\u001b[39;49mxerr, fmt\u001b[39m=\u001b[39;49mfmt, ecolor\u001b[39m=\u001b[39;49mecolor,\n\u001b[0;32m   2566\u001b[0m         elinewidth\u001b[39m=\u001b[39;49melinewidth, capsize\u001b[39m=\u001b[39;49mcapsize, barsabove\u001b[39m=\u001b[39;49mbarsabove,\n\u001b[0;32m   2567\u001b[0m         lolims\u001b[39m=\u001b[39;49mlolims, uplims\u001b[39m=\u001b[39;49muplims, xlolims\u001b[39m=\u001b[39;49mxlolims,\n\u001b[0;32m   2568\u001b[0m         xuplims\u001b[39m=\u001b[39;49mxuplims, errorevery\u001b[39m=\u001b[39;49merrorevery, capthick\u001b[39m=\u001b[39;49mcapthick,\n\u001b[0;32m   2569\u001b[0m         \u001b[39m*\u001b[39;49m\u001b[39m*\u001b[39;49m({\u001b[39m\"\u001b[39;49m\u001b[39mdata\u001b[39;49m\u001b[39m\"\u001b[39;49m: data} \u001b[39mif\u001b[39;49;00m data \u001b[39mis\u001b[39;49;00m \u001b[39mnot\u001b[39;49;00m \u001b[39mNone\u001b[39;49;00m \u001b[39melse\u001b[39;49;00m {}), \u001b[39m*\u001b[39;49m\u001b[39m*\u001b[39;49mkwargs)\n",
      "File \u001b[1;32mc:\\Users\\b40946\\AppData\\Local\\anaconda3\\envs\\utec_cs_analisis_estadistico\\Lib\\site-packages\\matplotlib\\__init__.py:1461\u001b[0m, in \u001b[0;36m_preprocess_data.<locals>.inner\u001b[1;34m(ax, data, *args, **kwargs)\u001b[0m\n\u001b[0;32m   1458\u001b[0m \u001b[39m@functools\u001b[39m\u001b[39m.\u001b[39mwraps(func)\n\u001b[0;32m   1459\u001b[0m \u001b[39mdef\u001b[39;00m \u001b[39minner\u001b[39m(ax, \u001b[39m*\u001b[39margs, data\u001b[39m=\u001b[39m\u001b[39mNone\u001b[39;00m, \u001b[39m*\u001b[39m\u001b[39m*\u001b[39mkwargs):\n\u001b[0;32m   1460\u001b[0m     \u001b[39mif\u001b[39;00m data \u001b[39mis\u001b[39;00m \u001b[39mNone\u001b[39;00m:\n\u001b[1;32m-> 1461\u001b[0m         \u001b[39mreturn\u001b[39;00m func(ax, \u001b[39m*\u001b[39;49m\u001b[39mmap\u001b[39;49m(sanitize_sequence, args), \u001b[39m*\u001b[39;49m\u001b[39m*\u001b[39;49mkwargs)\n\u001b[0;32m   1463\u001b[0m     bound \u001b[39m=\u001b[39m new_sig\u001b[39m.\u001b[39mbind(ax, \u001b[39m*\u001b[39margs, \u001b[39m*\u001b[39m\u001b[39m*\u001b[39mkwargs)\n\u001b[0;32m   1464\u001b[0m     auto_label \u001b[39m=\u001b[39m (bound\u001b[39m.\u001b[39marguments\u001b[39m.\u001b[39mget(label_namer)\n\u001b[0;32m   1465\u001b[0m                   \u001b[39mor\u001b[39;00m bound\u001b[39m.\u001b[39mkwargs\u001b[39m.\u001b[39mget(label_namer))\n",
      "File \u001b[1;32mc:\\Users\\b40946\\AppData\\Local\\anaconda3\\envs\\utec_cs_analisis_estadistico\\Lib\\site-packages\\matplotlib\\axes\\_axes.py:3636\u001b[0m, in \u001b[0;36mAxes.errorbar\u001b[1;34m(self, x, y, yerr, xerr, fmt, ecolor, elinewidth, capsize, barsabove, lolims, uplims, xlolims, xuplims, errorevery, capthick, **kwargs)\u001b[0m\n\u001b[0;32m   3633\u001b[0m res \u001b[39m=\u001b[39m np\u001b[39m.\u001b[39mzeros(err\u001b[39m.\u001b[39mshape, dtype\u001b[39m=\u001b[39m\u001b[39mbool\u001b[39m)  \u001b[39m# Default in case of nan\u001b[39;00m\n\u001b[0;32m   3634\u001b[0m \u001b[39mif\u001b[39;00m np\u001b[39m.\u001b[39many(np\u001b[39m.\u001b[39mless(err, \u001b[39m-\u001b[39merr, out\u001b[39m=\u001b[39mres, where\u001b[39m=\u001b[39m(err \u001b[39m==\u001b[39m err))):\n\u001b[0;32m   3635\u001b[0m     \u001b[39m# like err<0, but also works for timedelta and nan.\u001b[39;00m\n\u001b[1;32m-> 3636\u001b[0m     \u001b[39mraise\u001b[39;00m \u001b[39mValueError\u001b[39;00m(\n\u001b[0;32m   3637\u001b[0m         \u001b[39mf\u001b[39m\u001b[39m\"\u001b[39m\u001b[39m'\u001b[39m\u001b[39m{\u001b[39;00mdep_axis\u001b[39m}\u001b[39;00m\u001b[39merr\u001b[39m\u001b[39m'\u001b[39m\u001b[39m must not contain negative values\u001b[39m\u001b[39m\"\u001b[39m)\n\u001b[0;32m   3638\u001b[0m \u001b[39m# This is like\u001b[39;00m\n\u001b[0;32m   3639\u001b[0m \u001b[39m#     elow, ehigh = np.broadcast_to(...)\u001b[39;00m\n\u001b[0;32m   3640\u001b[0m \u001b[39m#     return dep - elow * ~lolims, dep + ehigh * ~uplims\u001b[39;00m\n\u001b[0;32m   3641\u001b[0m \u001b[39m# except that broadcast_to would strip units.\u001b[39;00m\n\u001b[0;32m   3642\u001b[0m low, high \u001b[39m=\u001b[39m dep \u001b[39m+\u001b[39m np\u001b[39m.\u001b[39mrow_stack([\u001b[39m-\u001b[39m(\u001b[39m1\u001b[39m \u001b[39m-\u001b[39m lolims), \u001b[39m1\u001b[39m \u001b[39m-\u001b[39m uplims]) \u001b[39m*\u001b[39m err\n",
      "\u001b[1;31mValueError\u001b[0m: 'yerr' must not contain negative values"
     ]
    },
    {
     "data": {
      "image/png": "[encoded data removed]",
      "text/plain": [
       "<Figure size 1000x600 with 1 Axes>"
      ]
     },
     "metadata": {},
     "output_type": "display_data"
    }
   ],
   "source": [
    "coefficent_names = X_tr.columns\n",
    "plt.figure(figsize=(10, 6))\n",
    "\n",
    "plt.errorbar(coefficent_names, coefficients, yerr = [coefficients - lower_ci, upper_ci - coefficients],\n",
    "             fmt='o', color='blue', ecolor='orange', capsize=5, elinewidth=2)\n",
    "\n",
    "plt.xlabel('Coefficients')\n",
    "plt.ylabel('Coefficient Value')\n",
    "plt.title('Coefficent values with confidence intervals')\n",
    "\n",
    "plt.xticks(rotation=45)\n",
    "plt.show()"
   ]
  },
  {
   "cell_type": "code",
   "execution_count": 27,
   "id": "7092e3b4-510d-4511-91bf-d32018050615",
   "metadata": {
    "tags": []
   },
   "outputs": [
    {
     "data": {
      "text/plain": [
       "<AxesSubplot:>"
      ]
     },
     "execution_count": 27,
     "metadata": {},
     "output_type": "execute_result"
    },
    {
     "data": {
      "image/png": "[encoded data removed]",
      "text/plain": [
       "<Figure size 432x288 with 1 Axes>"
      ]
     },
     "metadata": {
      "needs_background": "light"
     },
     "output_type": "display_data"
    }
   ],
   "source": [
    "percentages = (Base['REASON'].value_counts() / len(Base)) * 100\n",
    "sns.barplot(x=percentages.index, y=percentages.values)"
   ]
  },
  {
   "cell_type": "code",
   "execution_count": 30,
   "id": "bac19f9d-faa3-4601-97f5-5deab51de10d",
   "metadata": {
    "tags": []
   },
   "outputs": [
    {
     "data": {
      "text/plain": [
       "<AxesSubplot:>"
      ]
     },
     "execution_count": 30,
     "metadata": {},
     "output_type": "execute_result"
    },
    {
     "data": {
      "image/png": "[encoded data removed]",
      "text/plain": [
       "<Figure size 432x288 with 1 Axes>"
      ]
     },
     "metadata": {
      "needs_background": "light"
     },
     "output_type": "display_data"
    }
   ],
   "source": [
    "percentages = (Base['JOB'].value_counts() / len(Base)) * 100\n",
    "sns.barplot(x=percentages.index, y=percentages.values)"
   ]
  },
  {
   "cell_type": "code",
   "execution_count": 43,
   "id": "9721f07f-5395-43b2-a6f3-fd732d8cf56d",
   "metadata": {
    "tags": []
   },
   "outputs": [
    {
     "data": {
      "text/plain": [
       "count    5623.000000\n",
       "mean      177.502074\n",
       "std        79.142034\n",
       "min         0.000000\n",
       "25%       114.906479\n",
       "50%       172.767888\n",
       "75%       230.254451\n",
       "max       440.421254\n",
       "Name: CLAGE, dtype: float64"
      ]
     },
     "execution_count": 43,
     "metadata": {},
     "output_type": "execute_result"
    }
   ],
   "source": [
    "Base[Base['CLAGE']<450]['CLAGE'].describe()"
   ]
  },
  {
   "cell_type": "code",
   "execution_count": 44,
   "id": "b7cb6989-3739-461d-b6be-49e6d90e00ae",
   "metadata": {
    "tags": []
   },
   "outputs": [
    {
     "name": "stdout",
     "output_type": "stream",
     "text": [
      "29800.0\n"
     ]
    }
   ],
   "source": [
    "Imputar_CLAGE=Base[Base['CLAGE']<450]['CLAGE'].mean()\n",
    "print(Imputar_Value)\n",
    "Base['CLAGE'] =  np.where(Base['CLAGE']>450,Imputar_CLAGE,Base['CLAGE'])\n",
    "Base['CLAGE'] = np.where(Base['CLAGE'].isnull(), 150, Base['CLAGE'])"
   ]
  },
  {
   "cell_type": "code",
   "execution_count": 45,
   "id": "e1fda347-13ee-4eea-9da5-6e25cd20a3b0",
   "metadata": {
    "tags": []
   },
   "outputs": [
    {
     "name": "stdout",
     "output_type": "stream",
     "text": [
      "0.08557046979865772\n"
     ]
    },
    {
     "data": {
      "text/html": [
       "<div>\n",
       "<style scoped>\n",
       "    .dataframe tbody tr th:only-of-type {\n",
       "        vertical-align: middle;\n",
       "    }\n",
       "\n",
       "    .dataframe tbody tr th {\n",
       "        vertical-align: top;\n",
       "    }\n",
       "\n",
       "    .dataframe thead th {\n",
       "        text-align: right;\n",
       "    }\n",
       "</style>\n",
       "<table border=\"1\" class=\"dataframe\">\n",
       "  <thead>\n",
       "    <tr style=\"text-align: right;\">\n",
       "      <th></th>\n",
       "      <th>BAD</th>\n",
       "      <th>LOAN</th>\n",
       "      <th>MORTDUE</th>\n",
       "      <th>VALUE</th>\n",
       "      <th>REASON</th>\n",
       "      <th>JOB</th>\n",
       "      <th>YOJ</th>\n",
       "      <th>DEROG</th>\n",
       "      <th>DELINQ</th>\n",
       "      <th>CLAGE</th>\n",
       "      <th>NINQ</th>\n",
       "      <th>CLNO</th>\n",
       "      <th>DEBTINC</th>\n",
       "    </tr>\n",
       "  </thead>\n",
       "  <tbody>\n",
       "    <tr>\n",
       "      <th>3</th>\n",
       "      <td>1</td>\n",
       "      <td>1500.000000</td>\n",
       "      <td>16262.771937</td>\n",
       "      <td>25000.0</td>\n",
       "      <td>DebtCon</td>\n",
       "      <td>Other</td>\n",
       "      <td>9.362174</td>\n",
       "      <td>NaN</td>\n",
       "      <td>0.0</td>\n",
       "      <td>150.000000</td>\n",
       "      <td>NaN</td>\n",
       "      <td>NaN</td>\n",
       "      <td>NaN</td>\n",
       "    </tr>\n",
       "    <tr>\n",
       "      <th>10</th>\n",
       "      <td>1</td>\n",
       "      <td>2000.000000</td>\n",
       "      <td>22608.000000</td>\n",
       "      <td>25000.0</td>\n",
       "      <td>DebtCon</td>\n",
       "      <td>Other</td>\n",
       "      <td>18.000000</td>\n",
       "      <td>NaN</td>\n",
       "      <td>0.0</td>\n",
       "      <td>150.000000</td>\n",
       "      <td>NaN</td>\n",
       "      <td>NaN</td>\n",
       "      <td>NaN</td>\n",
       "    </tr>\n",
       "    <tr>\n",
       "      <th>17</th>\n",
       "      <td>1</td>\n",
       "      <td>2200.000000</td>\n",
       "      <td>23030.000000</td>\n",
       "      <td>25000.0</td>\n",
       "      <td>DebtCon</td>\n",
       "      <td>Other</td>\n",
       "      <td>19.000000</td>\n",
       "      <td>NaN</td>\n",
       "      <td>0.0</td>\n",
       "      <td>150.000000</td>\n",
       "      <td>NaN</td>\n",
       "      <td>NaN</td>\n",
       "      <td>3.711312</td>\n",
       "    </tr>\n",
       "    <tr>\n",
       "      <th>51</th>\n",
       "      <td>0</td>\n",
       "      <td>3100.000000</td>\n",
       "      <td>16262.771937</td>\n",
       "      <td>29800.0</td>\n",
       "      <td>DebtCon</td>\n",
       "      <td>Other</td>\n",
       "      <td>9.362174</td>\n",
       "      <td>NaN</td>\n",
       "      <td>0.0</td>\n",
       "      <td>150.000000</td>\n",
       "      <td>NaN</td>\n",
       "      <td>NaN</td>\n",
       "      <td>NaN</td>\n",
       "    </tr>\n",
       "    <tr>\n",
       "      <th>63</th>\n",
       "      <td>1</td>\n",
       "      <td>3600.000000</td>\n",
       "      <td>16262.771937</td>\n",
       "      <td>29800.0</td>\n",
       "      <td>HomeImp</td>\n",
       "      <td>ProfExe</td>\n",
       "      <td>10.000000</td>\n",
       "      <td>NaN</td>\n",
       "      <td>0.0</td>\n",
       "      <td>150.000000</td>\n",
       "      <td>NaN</td>\n",
       "      <td>NaN</td>\n",
       "      <td>NaN</td>\n",
       "    </tr>\n",
       "    <tr>\n",
       "      <th>...</th>\n",
       "      <td>...</td>\n",
       "      <td>...</td>\n",
       "      <td>...</td>\n",
       "      <td>...</td>\n",
       "      <td>...</td>\n",
       "      <td>...</td>\n",
       "      <td>...</td>\n",
       "      <td>...</td>\n",
       "      <td>...</td>\n",
       "      <td>...</td>\n",
       "      <td>...</td>\n",
       "      <td>...</td>\n",
       "      <td>...</td>\n",
       "    </tr>\n",
       "    <tr>\n",
       "      <th>5759</th>\n",
       "      <td>0</td>\n",
       "      <td>16935.114236</td>\n",
       "      <td>16262.771937</td>\n",
       "      <td>29800.0</td>\n",
       "      <td>DebtCon</td>\n",
       "      <td>Other</td>\n",
       "      <td>9.362174</td>\n",
       "      <td>5.0</td>\n",
       "      <td>0.0</td>\n",
       "      <td>116.437035</td>\n",
       "      <td>NaN</td>\n",
       "      <td>19.0</td>\n",
       "      <td>26.070435</td>\n",
       "    </tr>\n",
       "    <tr>\n",
       "      <th>5762</th>\n",
       "      <td>0</td>\n",
       "      <td>16935.114236</td>\n",
       "      <td>16262.771937</td>\n",
       "      <td>29800.0</td>\n",
       "      <td>DebtCon</td>\n",
       "      <td>Other</td>\n",
       "      <td>9.362174</td>\n",
       "      <td>5.0</td>\n",
       "      <td>0.0</td>\n",
       "      <td>130.496983</td>\n",
       "      <td>NaN</td>\n",
       "      <td>19.0</td>\n",
       "      <td>27.105116</td>\n",
       "    </tr>\n",
       "    <tr>\n",
       "      <th>5765</th>\n",
       "      <td>0</td>\n",
       "      <td>16935.114236</td>\n",
       "      <td>16262.771937</td>\n",
       "      <td>29800.0</td>\n",
       "      <td>DebtCon</td>\n",
       "      <td>Other</td>\n",
       "      <td>9.362174</td>\n",
       "      <td>5.0</td>\n",
       "      <td>0.0</td>\n",
       "      <td>128.656393</td>\n",
       "      <td>NaN</td>\n",
       "      <td>20.0</td>\n",
       "      <td>28.187140</td>\n",
       "    </tr>\n",
       "    <tr>\n",
       "      <th>5808</th>\n",
       "      <td>1</td>\n",
       "      <td>16935.114236</td>\n",
       "      <td>16262.771937</td>\n",
       "      <td>29800.0</td>\n",
       "      <td>HomeImp</td>\n",
       "      <td>Other</td>\n",
       "      <td>1.300000</td>\n",
       "      <td>0.0</td>\n",
       "      <td>1.0</td>\n",
       "      <td>103.133333</td>\n",
       "      <td>NaN</td>\n",
       "      <td>13.0</td>\n",
       "      <td>NaN</td>\n",
       "    </tr>\n",
       "    <tr>\n",
       "      <th>5837</th>\n",
       "      <td>1</td>\n",
       "      <td>16935.114236</td>\n",
       "      <td>16262.771937</td>\n",
       "      <td>29800.0</td>\n",
       "      <td>HomeImp</td>\n",
       "      <td>Other</td>\n",
       "      <td>0.000000</td>\n",
       "      <td>0.0</td>\n",
       "      <td>1.0</td>\n",
       "      <td>106.201099</td>\n",
       "      <td>NaN</td>\n",
       "      <td>13.0</td>\n",
       "      <td>25.845264</td>\n",
       "    </tr>\n",
       "  </tbody>\n",
       "</table>\n",
       "<p>510 rows × 13 columns</p>\n",
       "</div>"
      ],
      "text/plain": [
       "      BAD          LOAN       MORTDUE    VALUE   REASON      JOB        YOJ  \\\n",
       "3       1   1500.000000  16262.771937  25000.0  DebtCon    Other   9.362174   \n",
       "10      1   2000.000000  22608.000000  25000.0  DebtCon    Other  18.000000   \n",
       "17      1   2200.000000  23030.000000  25000.0  DebtCon    Other  19.000000   \n",
       "51      0   3100.000000  16262.771937  29800.0  DebtCon    Other   9.362174   \n",
       "63      1   3600.000000  16262.771937  29800.0  HomeImp  ProfExe  10.000000   \n",
       "...   ...           ...           ...      ...      ...      ...        ...   \n",
       "5759    0  16935.114236  16262.771937  29800.0  DebtCon    Other   9.362174   \n",
       "5762    0  16935.114236  16262.771937  29800.0  DebtCon    Other   9.362174   \n",
       "5765    0  16935.114236  16262.771937  29800.0  DebtCon    Other   9.362174   \n",
       "5808    1  16935.114236  16262.771937  29800.0  HomeImp    Other   1.300000   \n",
       "5837    1  16935.114236  16262.771937  29800.0  HomeImp    Other   0.000000   \n",
       "\n",
       "      DEROG  DELINQ       CLAGE  NINQ  CLNO    DEBTINC  \n",
       "3       NaN     0.0  150.000000   NaN   NaN        NaN  \n",
       "10      NaN     0.0  150.000000   NaN   NaN        NaN  \n",
       "17      NaN     0.0  150.000000   NaN   NaN   3.711312  \n",
       "51      NaN     0.0  150.000000   NaN   NaN        NaN  \n",
       "63      NaN     0.0  150.000000   NaN   NaN        NaN  \n",
       "...     ...     ...         ...   ...   ...        ...  \n",
       "5759    5.0     0.0  116.437035   NaN  19.0  26.070435  \n",
       "5762    5.0     0.0  130.496983   NaN  19.0  27.105116  \n",
       "5765    5.0     0.0  128.656393   NaN  20.0  28.187140  \n",
       "5808    0.0     1.0  103.133333   NaN  13.0        NaN  \n",
       "5837    0.0     1.0  106.201099   NaN  13.0  25.845264  \n",
       "\n",
       "[510 rows x 13 columns]"
      ]
     },
     "execution_count": 45,
     "metadata": {},
     "output_type": "execute_result"
    }
   ],
   "source": [
    "print(Base[Base['NINQ'].isna()].shape[0]/Base.shape[0])\n",
    "Base[Base['NINQ'].isna()]"
   ]
  },
  {
   "cell_type": "code",
   "execution_count": 47,
   "id": "ac9ab1ca-a9f2-4b57-9034-e07686439f99",
   "metadata": {
    "tags": []
   },
   "outputs": [
    {
     "name": "stdout",
     "output_type": "stream",
     "text": [
      "1.108583055863855\n"
     ]
    }
   ],
   "source": [
    "Imputar_NINQ=Base[Base['NINQ']<10]['NINQ'].mean()\n",
    "print(Imputar_NINQ)\n",
    "Base['NINQ'] =  np.where(Base['NINQ']>10,Imputar_NINQ,Base['NINQ'])\n",
    "Base['NINQ'] = np.where(Base['NINQ'].isnull(), 5, Base['NINQ'])"
   ]
  },
  {
   "cell_type": "code",
   "execution_count": 48,
   "id": "9cd7973f-4e8c-425e-9b62-e5683728d0df",
   "metadata": {
    "tags": []
   },
   "outputs": [
    {
     "data": {
      "text/plain": [
       "array([ 9., 14., 10., nan,  8., 17., 12., 13., 25., 24., 16., 22.,  0.,\n",
       "        4., 21., 19., 45., 26., 37.,  3.,  2., 27., 20.,  7., 36., 33.,\n",
       "        6., 28., 11., 31., 15., 18., 23.,  5., 30., 34., 42., 50., 47.,\n",
       "       32., 29., 46., 38., 40., 49., 43., 35.,  1., 56., 39., 51., 55.,\n",
       "       65., 57., 41., 71., 48., 53., 64., 52., 63., 44., 58.])"
      ]
     },
     "execution_count": 48,
     "metadata": {},
     "output_type": "execute_result"
    }
   ],
   "source": [
    "Base['CLNO'].unique()"
   ]
  },
  {
   "cell_type": "code",
   "execution_count": 49,
   "id": "97365879-8c0c-45c9-9309-7b6a8c14f4da",
   "metadata": {
    "tags": []
   },
   "outputs": [
    {
     "data": {
      "text/plain": [
       "count     5960.000000\n",
       "mean     16265.703893\n",
       "std       1653.534536\n",
       "min       2063.000000\n",
       "25%      16262.771937\n",
       "50%      16262.771937\n",
       "75%      16262.771937\n",
       "max      25000.000000\n",
       "Name: MORTDUE, dtype: float64"
      ]
     },
     "execution_count": 49,
     "metadata": {},
     "output_type": "execute_result"
    }
   ],
   "source": [
    "Base['MORTDUE'].describe()"
   ]
  },
  {
   "cell_type": "code",
   "execution_count": 50,
   "id": "286d5730-059c-464c-ad35-cdd9f53a9537",
   "metadata": {
    "tags": []
   },
   "outputs": [
    {
     "data": {
      "image/png": "[encoded data removed]",
      "text/plain": [
       "<Figure size 720x432 with 1 Axes>"
      ]
     },
     "metadata": {},
     "output_type": "display_data"
    }
   ],
   "source": [
    "sns.set(style=\"whitegrid\")\n",
    "plt.figure(figsize=(10, 6))\n",
    "\n",
    "sns.kdeplot(data=Base['MORTDUE'], fill=True, color=\"blue\")\n",
    "\n",
    "plt.title(\"Gráfico de Densidad de MORTDUE\")\n",
    "plt.xlabel(\"MORTDUE\")\n",
    "plt.ylabel(\"Densidad\")\n",
    "\n",
    "plt.show()"
   ]
  },
  {
   "cell_type": "code",
   "execution_count": 51,
   "id": "d697fba0-08a7-45a0-869e-13ec29b24145",
   "metadata": {},
   "outputs": [
    {
     "data": {
      "text/html": [
       "<div>\n",
       "<style scoped>\n",
       "    .dataframe tbody tr th:only-of-type {\n",
       "        vertical-align: middle;\n",
       "    }\n",
       "\n",
       "    .dataframe tbody tr th {\n",
       "        vertical-align: top;\n",
       "    }\n",
       "\n",
       "    .dataframe thead th {\n",
       "        text-align: right;\n",
       "    }\n",
       "</style>\n",
       "<table border=\"1\" class=\"dataframe\">\n",
       "  <thead>\n",
       "    <tr style=\"text-align: right;\">\n",
       "      <th></th>\n",
       "      <th>BAD</th>\n",
       "      <th>LOAN</th>\n",
       "      <th>MORTDUE</th>\n",
       "      <th>VALUE</th>\n",
       "      <th>REASON</th>\n",
       "      <th>JOB</th>\n",
       "      <th>YOJ</th>\n",
       "      <th>DEROG</th>\n",
       "      <th>DELINQ</th>\n",
       "      <th>CLAGE</th>\n",
       "      <th>NINQ</th>\n",
       "      <th>CLNO</th>\n",
       "      <th>DEBTINC</th>\n",
       "    </tr>\n",
       "  </thead>\n",
       "  <tbody>\n",
       "    <tr>\n",
       "      <th>0</th>\n",
       "      <td>1</td>\n",
       "      <td>1100.000000</td>\n",
       "      <td>16262.771937</td>\n",
       "      <td>29800.0</td>\n",
       "      <td>HomeImp</td>\n",
       "      <td>Other</td>\n",
       "      <td>10.500000</td>\n",
       "      <td>0.0</td>\n",
       "      <td>0.0</td>\n",
       "      <td>94.366667</td>\n",
       "      <td>1.0</td>\n",
       "      <td>9.0</td>\n",
       "      <td>NaN</td>\n",
       "    </tr>\n",
       "    <tr>\n",
       "      <th>1</th>\n",
       "      <td>1</td>\n",
       "      <td>1300.000000</td>\n",
       "      <td>16262.771937</td>\n",
       "      <td>29800.0</td>\n",
       "      <td>HomeImp</td>\n",
       "      <td>Other</td>\n",
       "      <td>7.000000</td>\n",
       "      <td>0.0</td>\n",
       "      <td>2.0</td>\n",
       "      <td>121.833333</td>\n",
       "      <td>0.0</td>\n",
       "      <td>14.0</td>\n",
       "      <td>NaN</td>\n",
       "    </tr>\n",
       "    <tr>\n",
       "      <th>2</th>\n",
       "      <td>1</td>\n",
       "      <td>1500.000000</td>\n",
       "      <td>13500.000000</td>\n",
       "      <td>16700.0</td>\n",
       "      <td>HomeImp</td>\n",
       "      <td>Other</td>\n",
       "      <td>4.000000</td>\n",
       "      <td>0.0</td>\n",
       "      <td>0.0</td>\n",
       "      <td>149.466667</td>\n",
       "      <td>1.0</td>\n",
       "      <td>10.0</td>\n",
       "      <td>NaN</td>\n",
       "    </tr>\n",
       "    <tr>\n",
       "      <th>3</th>\n",
       "      <td>1</td>\n",
       "      <td>1500.000000</td>\n",
       "      <td>16262.771937</td>\n",
       "      <td>25000.0</td>\n",
       "      <td>DebtCon</td>\n",
       "      <td>Other</td>\n",
       "      <td>9.362174</td>\n",
       "      <td>NaN</td>\n",
       "      <td>0.0</td>\n",
       "      <td>150.000000</td>\n",
       "      <td>5.0</td>\n",
       "      <td>NaN</td>\n",
       "      <td>NaN</td>\n",
       "    </tr>\n",
       "    <tr>\n",
       "      <th>4</th>\n",
       "      <td>0</td>\n",
       "      <td>1700.000000</td>\n",
       "      <td>16262.771937</td>\n",
       "      <td>29800.0</td>\n",
       "      <td>HomeImp</td>\n",
       "      <td>Office</td>\n",
       "      <td>3.000000</td>\n",
       "      <td>0.0</td>\n",
       "      <td>0.0</td>\n",
       "      <td>93.333333</td>\n",
       "      <td>0.0</td>\n",
       "      <td>14.0</td>\n",
       "      <td>NaN</td>\n",
       "    </tr>\n",
       "    <tr>\n",
       "      <th>...</th>\n",
       "      <td>...</td>\n",
       "      <td>...</td>\n",
       "      <td>...</td>\n",
       "      <td>...</td>\n",
       "      <td>...</td>\n",
       "      <td>...</td>\n",
       "      <td>...</td>\n",
       "      <td>...</td>\n",
       "      <td>...</td>\n",
       "      <td>...</td>\n",
       "      <td>...</td>\n",
       "      <td>...</td>\n",
       "      <td>...</td>\n",
       "    </tr>\n",
       "    <tr>\n",
       "      <th>5930</th>\n",
       "      <td>1</td>\n",
       "      <td>16935.114236</td>\n",
       "      <td>16262.771937</td>\n",
       "      <td>29800.0</td>\n",
       "      <td>DebtCon</td>\n",
       "      <td>Other</td>\n",
       "      <td>1.000000</td>\n",
       "      <td>0.0</td>\n",
       "      <td>0.0</td>\n",
       "      <td>117.166667</td>\n",
       "      <td>9.0</td>\n",
       "      <td>23.0</td>\n",
       "      <td>NaN</td>\n",
       "    </tr>\n",
       "    <tr>\n",
       "      <th>5932</th>\n",
       "      <td>1</td>\n",
       "      <td>16935.114236</td>\n",
       "      <td>16262.771937</td>\n",
       "      <td>29800.0</td>\n",
       "      <td>DebtCon</td>\n",
       "      <td>Other</td>\n",
       "      <td>12.000000</td>\n",
       "      <td>0.0</td>\n",
       "      <td>0.0</td>\n",
       "      <td>134.900000</td>\n",
       "      <td>0.0</td>\n",
       "      <td>26.0</td>\n",
       "      <td>NaN</td>\n",
       "    </tr>\n",
       "    <tr>\n",
       "      <th>5933</th>\n",
       "      <td>1</td>\n",
       "      <td>16935.114236</td>\n",
       "      <td>16262.771937</td>\n",
       "      <td>29800.0</td>\n",
       "      <td>HomeImp</td>\n",
       "      <td>Self</td>\n",
       "      <td>8.000000</td>\n",
       "      <td>1.0</td>\n",
       "      <td>2.0</td>\n",
       "      <td>71.533132</td>\n",
       "      <td>3.0</td>\n",
       "      <td>14.0</td>\n",
       "      <td>NaN</td>\n",
       "    </tr>\n",
       "    <tr>\n",
       "      <th>5935</th>\n",
       "      <td>0</td>\n",
       "      <td>16935.114236</td>\n",
       "      <td>13900.000000</td>\n",
       "      <td>29800.0</td>\n",
       "      <td>HomeImp</td>\n",
       "      <td>Other</td>\n",
       "      <td>27.000000</td>\n",
       "      <td>0.0</td>\n",
       "      <td>1.0</td>\n",
       "      <td>138.000000</td>\n",
       "      <td>0.0</td>\n",
       "      <td>14.0</td>\n",
       "      <td>NaN</td>\n",
       "    </tr>\n",
       "    <tr>\n",
       "      <th>5948</th>\n",
       "      <td>0</td>\n",
       "      <td>16935.114236</td>\n",
       "      <td>16262.771937</td>\n",
       "      <td>29800.0</td>\n",
       "      <td>DebtCon</td>\n",
       "      <td>Other</td>\n",
       "      <td>15.000000</td>\n",
       "      <td>0.0</td>\n",
       "      <td>0.0</td>\n",
       "      <td>210.966667</td>\n",
       "      <td>0.0</td>\n",
       "      <td>16.0</td>\n",
       "      <td>NaN</td>\n",
       "    </tr>\n",
       "  </tbody>\n",
       "</table>\n",
       "<p>1267 rows × 13 columns</p>\n",
       "</div>"
      ],
      "text/plain": [
       "      BAD          LOAN       MORTDUE    VALUE   REASON     JOB        YOJ  \\\n",
       "0       1   1100.000000  16262.771937  29800.0  HomeImp   Other  10.500000   \n",
       "1       1   1300.000000  16262.771937  29800.0  HomeImp   Other   7.000000   \n",
       "2       1   1500.000000  13500.000000  16700.0  HomeImp   Other   4.000000   \n",
       "3       1   1500.000000  16262.771937  25000.0  DebtCon   Other   9.362174   \n",
       "4       0   1700.000000  16262.771937  29800.0  HomeImp  Office   3.000000   \n",
       "...   ...           ...           ...      ...      ...     ...        ...   \n",
       "5930    1  16935.114236  16262.771937  29800.0  DebtCon   Other   1.000000   \n",
       "5932    1  16935.114236  16262.771937  29800.0  DebtCon   Other  12.000000   \n",
       "5933    1  16935.114236  16262.771937  29800.0  HomeImp    Self   8.000000   \n",
       "5935    0  16935.114236  13900.000000  29800.0  HomeImp   Other  27.000000   \n",
       "5948    0  16935.114236  16262.771937  29800.0  DebtCon   Other  15.000000   \n",
       "\n",
       "      DEROG  DELINQ       CLAGE  NINQ  CLNO  DEBTINC  \n",
       "0       0.0     0.0   94.366667   1.0   9.0      NaN  \n",
       "1       0.0     2.0  121.833333   0.0  14.0      NaN  \n",
       "2       0.0     0.0  149.466667   1.0  10.0      NaN  \n",
       "3       NaN     0.0  150.000000   5.0   NaN      NaN  \n",
       "4       0.0     0.0   93.333333   0.0  14.0      NaN  \n",
       "...     ...     ...         ...   ...   ...      ...  \n",
       "5930    0.0     0.0  117.166667   9.0  23.0      NaN  \n",
       "5932    0.0     0.0  134.900000   0.0  26.0      NaN  \n",
       "5933    1.0     2.0   71.533132   3.0  14.0      NaN  \n",
       "5935    0.0     1.0  138.000000   0.0  14.0      NaN  \n",
       "5948    0.0     0.0  210.966667   0.0  16.0      NaN  \n",
       "\n",
       "[1267 rows x 13 columns]"
      ]
     },
     "execution_count": 51,
     "metadata": {},
     "output_type": "execute_result"
    }
   ],
   "source": [
    "Base[Base['DEBTINC'].isna()]"
   ]
  },
  {
   "cell_type": "code",
   "execution_count": 52,
   "id": "bec850f3-cb50-4335-988b-6647e5018503",
   "metadata": {},
   "outputs": [
    {
     "name": "stdout",
     "output_type": "stream",
     "text": [
      "(1267, 13)\n"
     ]
    }
   ],
   "source": [
    "print(Base[Base['DEBTINC'].isna()].shape)"
   ]
  },
  {
   "cell_type": "code",
   "execution_count": 53,
   "id": "02960efc-0898-47e6-aa48-d7eec25026fd",
   "metadata": {
    "tags": []
   },
   "outputs": [],
   "source": [
    "bins = [0, 5000,10000,15000,20000,float('inf')] \n",
    "labels = ['0-5k', '5k-10k', '10k-15k', '15k-20k', '20k+']\n",
    "Base['MORTDUE_Rango'] = pd.cut(Base['MORTDUE'], bins=bins, labels=labels, include_lowest=True)\n",
    "media_debtinc_por_rango = Base.groupby('MORTDUE_Rango')['DEBTINC'].mean()"
   ]
  },
  {
   "cell_type": "code",
   "execution_count": 54,
   "id": "06cd2a36-d59a-425e-aa0c-21fb495ba645",
   "metadata": {
    "tags": []
   },
   "outputs": [
    {
     "data": {
      "text/plain": [
       "MORTDUE_Rango\n",
       "0-5k       40.836453\n",
       "5k-10k     26.971794\n",
       "10k-15k    29.518648\n",
       "15k-20k    34.010981\n",
       "20k+       30.286589\n",
       "Name: DEBTINC, dtype: float64"
      ]
     },
     "execution_count": 54,
     "metadata": {},
     "output_type": "execute_result"
    }
   ],
   "source": [
    "media_debtinc_por_rango"
   ]
  },
  {
   "cell_type": "code",
   "execution_count": 55,
   "id": "3974146a-c89f-4a32-af66-05f9861012a4",
   "metadata": {
    "tags": []
   },
   "outputs": [
    {
     "data": {
      "text/plain": [
       "{'0-5k': 40.836452556,\n",
       " '5k-10k': 26.971793721019594,\n",
       " '10k-15k': 29.518648409799997,\n",
       " '15k-20k': 34.0109811076626,\n",
       " '20k+': 30.286588966964054}"
      ]
     },
     "execution_count": 55,
     "metadata": {},
     "output_type": "execute_result"
    }
   ],
   "source": [
    "media_por_rango = {}\n",
    "for rango in labels:\n",
    "    media = Base[Base['MORTDUE_Rango'] == rango]['DEBTINC'].mean()\n",
    "    media_por_rango[rango] = media\n",
    "media_por_rango"
   ]
  },
  {
   "cell_type": "code",
   "execution_count": 56,
   "id": "1fba8deb-a162-40b2-921f-976c84fa6a23",
   "metadata": {
    "tags": []
   },
   "outputs": [],
   "source": [
    "for rango, media in media_por_rango.items():\n",
    "    Base.loc[(Base['DEBTINC'].isnull()) & (Base['MORTDUE_Rango'] == rango), 'DEBTINC'] = media"
   ]
  },
  {
   "cell_type": "code",
   "execution_count": 60,
   "id": "a0bae5b2-02af-47fb-9e18-81a4b43a2152",
   "metadata": {
    "tags": []
   },
   "outputs": [
    {
     "data": {
      "text/plain": [
       "array([ 0., nan,  3.,  2.,  1.,  4.,  5.,  6.,  7.,  8.,  9., 10.])"
      ]
     },
     "execution_count": 60,
     "metadata": {},
     "output_type": "execute_result"
    }
   ],
   "source": [
    "Base.DEROG.unique()"
   ]
  },
  {
   "cell_type": "code",
   "execution_count": 59,
   "id": "cc265b7b-6172-48bb-9276-be3d7c79c996",
   "metadata": {},
   "outputs": [
    {
     "data": {
      "image/png": "[encoded data removed]",
      "text/plain": [
       "<Figure size 864x288 with 2 Axes>"
      ]
     },
     "metadata": {},
     "output_type": "display_data"
    }
   ],
   "source": [
    "fig, axes = plt.subplots(nrows=1, ncols=2, figsize=(12, 4))\n",
    "axes[0].hist(Base['DEROG'], bins=20, color='blue', alpha=0.5)\n",
    "axes[0].set_title('DEROG')\n",
    "axes[1].hist(Base[Base['DEROG']<10]['DEROG'], bins=20, color='green', alpha=0.5)\n",
    "axes[1].set_title('DEROG<10')\n",
    "plt.tight_layout()\n",
    "plt.show()"
   ]
  },
  {
   "cell_type": "code",
   "execution_count": 61,
   "id": "1551cba3-d728-44bb-b8f8-0d8aabf18502",
   "metadata": {},
   "outputs": [],
   "source": [
    "#Base['DEROG'] =  np.where(Base['NINQ']>10,Imputar_NINQ,Base['NINQ'])\n",
    "Base['DEROG'] = np.where(Base['DEROG'].isnull(), 0, Base['DEROG'])"
   ]
  },
  {
   "cell_type": "code",
   "execution_count": 62,
   "id": "0aa22da7-6664-4b98-8ce4-fdefedd2f2c5",
   "metadata": {},
   "outputs": [
    {
     "data": {
      "text/plain": [
       "BAD                0\n",
       "LOAN               0\n",
       "MORTDUE            0\n",
       "VALUE              0\n",
       "REASON             0\n",
       "JOB                0\n",
       "YOJ                0\n",
       "DEROG              0\n",
       "DELINQ             0\n",
       "CLAGE              0\n",
       "NINQ               0\n",
       "CLNO             222\n",
       "DEBTINC            0\n",
       "MORTDUE_Rango      0\n",
       "dtype: int64"
      ]
     },
     "execution_count": 62,
     "metadata": {},
     "output_type": "execute_result"
    }
   ],
   "source": [
    "Base.isnull().sum()"
   ]
  },
  {
   "cell_type": "code",
   "execution_count": 66,
   "id": "8f96887a-95cb-43a1-b369-c98db91fc585",
   "metadata": {},
   "outputs": [
    {
     "data": {
      "image/png": "[encoded data removed]",
      "text/plain": [
       "<Figure size 864x288 with 2 Axes>"
      ]
     },
     "metadata": {},
     "output_type": "display_data"
    }
   ],
   "source": [
    "fig, axes = plt.subplots(nrows=1, ncols=2, figsize=(12, 4))\n",
    "axes[0].hist(Base['CLNO'], bins=20, color='blue', alpha=0.5)\n",
    "axes[0].set_title('CLNO')\n",
    "axes[1].hist(Base[Base['CLNO']<45]['CLNO'], bins=20, color='green', alpha=0.5)\n",
    "axes[1].set_title('CLNO<10')\n",
    "plt.tight_layout()\n",
    "plt.show()"
   ]
  },
  {
   "cell_type": "code",
   "execution_count": 64,
   "id": "935b1117-f7e9-4e75-9fbc-ffe3d84ec1a3",
   "metadata": {},
   "outputs": [
    {
     "name": "stdout",
     "output_type": "stream",
     "text": [
      "Primer cuartil (Q1): 15.0\n",
      "Tercer cuartil (Q3): 26.0\n",
      "Rango Intercuartílico (IQR): 11.0\n"
     ]
    },
    {
     "data": {
      "text/plain": [
       "(42.5, 9.5)"
      ]
     },
     "execution_count": 64,
     "metadata": {},
     "output_type": "execute_result"
    }
   ],
   "source": [
    "Q1 = Base['CLNO'].describe()['25%']\n",
    "Q3 = Base['CLNO'].describe()['75%']\n",
    "IQR = Q3 - Q1\n",
    "\n",
    "print(\"Primer cuartil (Q1):\", Q1)\n",
    "print(\"Tercer cuartil (Q3):\", Q3)\n",
    "print(\"Rango Intercuartílico (IQR):\", IQR)\n",
    "\n",
    "Q3+1.5*IQR,Q3-1.5*IQR"
   ]
  },
  {
   "cell_type": "code",
   "execution_count": 67,
   "id": "19545b44-6ca7-49ab-a417-fa0e6fd245a3",
   "metadata": {},
   "outputs": [
    {
     "name": "stdout",
     "output_type": "stream",
     "text": [
      "20.296917252568957\n"
     ]
    }
   ],
   "source": [
    "Imputar_CLNO=Base[Base['CLNO']<45]['CLNO'].mean()\n",
    "print(Imputar_CLNO)\n",
    "Base['CLNO'] =  np.where(Base['CLNO']>45,Imputar_CLNO,Base['CLNO'])\n",
    "Base['CLNO'] = np.where(Base['CLNO'].isnull(), 5, Base['CLNO'])"
   ]
  },
  {
   "cell_type": "code",
   "execution_count": 68,
   "id": "a51bc9d9-313c-4c58-8cae-9e281eb2c92f",
   "metadata": {},
   "outputs": [
    {
     "data": {
      "text/plain": [
       "BAD              0\n",
       "LOAN             0\n",
       "MORTDUE          0\n",
       "VALUE            0\n",
       "REASON           0\n",
       "JOB              0\n",
       "YOJ              0\n",
       "DEROG            0\n",
       "DELINQ           0\n",
       "CLAGE            0\n",
       "NINQ             0\n",
       "CLNO             0\n",
       "DEBTINC          0\n",
       "MORTDUE_Rango    0\n",
       "dtype: int64"
      ]
     },
     "execution_count": 68,
     "metadata": {},
     "output_type": "execute_result"
    }
   ],
   "source": [
    "Base.isnull().sum()"
   ]
  },
  {
   "cell_type": "code",
   "execution_count": 85,
   "id": "231c523f-d404-445b-8c3d-93dc694a894c",
   "metadata": {},
   "outputs": [
    {
     "data": {
      "text/html": [
       "<div>\n",
       "<style scoped>\n",
       "    .dataframe tbody tr th:only-of-type {\n",
       "        vertical-align: middle;\n",
       "    }\n",
       "\n",
       "    .dataframe tbody tr th {\n",
       "        vertical-align: top;\n",
       "    }\n",
       "\n",
       "    .dataframe thead th {\n",
       "        text-align: right;\n",
       "    }\n",
       "</style>\n",
       "<table border=\"1\" class=\"dataframe\">\n",
       "  <thead>\n",
       "    <tr style=\"text-align: right;\">\n",
       "      <th></th>\n",
       "      <th>BAD</th>\n",
       "      <th>LOAN</th>\n",
       "      <th>MORTDUE</th>\n",
       "      <th>VALUE</th>\n",
       "      <th>REASON</th>\n",
       "      <th>JOB</th>\n",
       "      <th>YOJ</th>\n",
       "      <th>DEROG</th>\n",
       "      <th>DELINQ</th>\n",
       "      <th>CLAGE</th>\n",
       "      <th>...</th>\n",
       "      <th>JOB_ProfExe</th>\n",
       "      <th>JOB_Sales</th>\n",
       "      <th>JOB_Self</th>\n",
       "      <th>REASON_DebtCon</th>\n",
       "      <th>REASON_HomeImp</th>\n",
       "      <th>MORTDUE_Rango_0-5k</th>\n",
       "      <th>MORTDUE_Rango_5k-10k</th>\n",
       "      <th>MORTDUE_Rango_10k-15k</th>\n",
       "      <th>MORTDUE_Rango_15k-20k</th>\n",
       "      <th>MORTDUE_Rango_20k+</th>\n",
       "    </tr>\n",
       "  </thead>\n",
       "  <tbody>\n",
       "    <tr>\n",
       "      <th>0</th>\n",
       "      <td>1</td>\n",
       "      <td>1100.000000</td>\n",
       "      <td>16262.771937</td>\n",
       "      <td>29800.0</td>\n",
       "      <td>HomeImp</td>\n",
       "      <td>Other</td>\n",
       "      <td>10.500000</td>\n",
       "      <td>0.0</td>\n",
       "      <td>0.0</td>\n",
       "      <td>94.366667</td>\n",
       "      <td>...</td>\n",
       "      <td>0</td>\n",
       "      <td>0</td>\n",
       "      <td>0</td>\n",
       "      <td>0</td>\n",
       "      <td>1</td>\n",
       "      <td>0</td>\n",
       "      <td>0</td>\n",
       "      <td>0</td>\n",
       "      <td>1</td>\n",
       "      <td>0</td>\n",
       "    </tr>\n",
       "    <tr>\n",
       "      <th>1</th>\n",
       "      <td>1</td>\n",
       "      <td>1300.000000</td>\n",
       "      <td>16262.771937</td>\n",
       "      <td>29800.0</td>\n",
       "      <td>HomeImp</td>\n",
       "      <td>Other</td>\n",
       "      <td>7.000000</td>\n",
       "      <td>0.0</td>\n",
       "      <td>2.0</td>\n",
       "      <td>121.833333</td>\n",
       "      <td>...</td>\n",
       "      <td>0</td>\n",
       "      <td>0</td>\n",
       "      <td>0</td>\n",
       "      <td>0</td>\n",
       "      <td>1</td>\n",
       "      <td>0</td>\n",
       "      <td>0</td>\n",
       "      <td>0</td>\n",
       "      <td>1</td>\n",
       "      <td>0</td>\n",
       "    </tr>\n",
       "    <tr>\n",
       "      <th>2</th>\n",
       "      <td>1</td>\n",
       "      <td>1500.000000</td>\n",
       "      <td>13500.000000</td>\n",
       "      <td>16700.0</td>\n",
       "      <td>HomeImp</td>\n",
       "      <td>Other</td>\n",
       "      <td>4.000000</td>\n",
       "      <td>0.0</td>\n",
       "      <td>0.0</td>\n",
       "      <td>149.466667</td>\n",
       "      <td>...</td>\n",
       "      <td>0</td>\n",
       "      <td>0</td>\n",
       "      <td>0</td>\n",
       "      <td>0</td>\n",
       "      <td>1</td>\n",
       "      <td>0</td>\n",
       "      <td>0</td>\n",
       "      <td>1</td>\n",
       "      <td>0</td>\n",
       "      <td>0</td>\n",
       "    </tr>\n",
       "    <tr>\n",
       "      <th>3</th>\n",
       "      <td>1</td>\n",
       "      <td>1500.000000</td>\n",
       "      <td>16262.771937</td>\n",
       "      <td>25000.0</td>\n",
       "      <td>DebtCon</td>\n",
       "      <td>Other</td>\n",
       "      <td>9.362174</td>\n",
       "      <td>0.0</td>\n",
       "      <td>0.0</td>\n",
       "      <td>150.000000</td>\n",
       "      <td>...</td>\n",
       "      <td>0</td>\n",
       "      <td>0</td>\n",
       "      <td>0</td>\n",
       "      <td>1</td>\n",
       "      <td>0</td>\n",
       "      <td>0</td>\n",
       "      <td>0</td>\n",
       "      <td>0</td>\n",
       "      <td>1</td>\n",
       "      <td>0</td>\n",
       "    </tr>\n",
       "    <tr>\n",
       "      <th>4</th>\n",
       "      <td>0</td>\n",
       "      <td>1700.000000</td>\n",
       "      <td>16262.771937</td>\n",
       "      <td>29800.0</td>\n",
       "      <td>HomeImp</td>\n",
       "      <td>Office</td>\n",
       "      <td>3.000000</td>\n",
       "      <td>0.0</td>\n",
       "      <td>0.0</td>\n",
       "      <td>93.333333</td>\n",
       "      <td>...</td>\n",
       "      <td>0</td>\n",
       "      <td>0</td>\n",
       "      <td>0</td>\n",
       "      <td>0</td>\n",
       "      <td>1</td>\n",
       "      <td>0</td>\n",
       "      <td>0</td>\n",
       "      <td>0</td>\n",
       "      <td>1</td>\n",
       "      <td>0</td>\n",
       "    </tr>\n",
       "    <tr>\n",
       "      <th>...</th>\n",
       "      <td>...</td>\n",
       "      <td>...</td>\n",
       "      <td>...</td>\n",
       "      <td>...</td>\n",
       "      <td>...</td>\n",
       "      <td>...</td>\n",
       "      <td>...</td>\n",
       "      <td>...</td>\n",
       "      <td>...</td>\n",
       "      <td>...</td>\n",
       "      <td>...</td>\n",
       "      <td>...</td>\n",
       "      <td>...</td>\n",
       "      <td>...</td>\n",
       "      <td>...</td>\n",
       "      <td>...</td>\n",
       "      <td>...</td>\n",
       "      <td>...</td>\n",
       "      <td>...</td>\n",
       "      <td>...</td>\n",
       "      <td>...</td>\n",
       "    </tr>\n",
       "    <tr>\n",
       "      <th>5955</th>\n",
       "      <td>0</td>\n",
       "      <td>16935.114236</td>\n",
       "      <td>16262.771937</td>\n",
       "      <td>29800.0</td>\n",
       "      <td>DebtCon</td>\n",
       "      <td>Other</td>\n",
       "      <td>16.000000</td>\n",
       "      <td>0.0</td>\n",
       "      <td>0.0</td>\n",
       "      <td>221.808718</td>\n",
       "      <td>...</td>\n",
       "      <td>0</td>\n",
       "      <td>0</td>\n",
       "      <td>0</td>\n",
       "      <td>1</td>\n",
       "      <td>0</td>\n",
       "      <td>0</td>\n",
       "      <td>0</td>\n",
       "      <td>0</td>\n",
       "      <td>1</td>\n",
       "      <td>0</td>\n",
       "    </tr>\n",
       "    <tr>\n",
       "      <th>5956</th>\n",
       "      <td>0</td>\n",
       "      <td>16935.114236</td>\n",
       "      <td>16262.771937</td>\n",
       "      <td>29800.0</td>\n",
       "      <td>DebtCon</td>\n",
       "      <td>Other</td>\n",
       "      <td>16.000000</td>\n",
       "      <td>0.0</td>\n",
       "      <td>0.0</td>\n",
       "      <td>208.692070</td>\n",
       "      <td>...</td>\n",
       "      <td>0</td>\n",
       "      <td>0</td>\n",
       "      <td>0</td>\n",
       "      <td>1</td>\n",
       "      <td>0</td>\n",
       "      <td>0</td>\n",
       "      <td>0</td>\n",
       "      <td>0</td>\n",
       "      <td>1</td>\n",
       "      <td>0</td>\n",
       "    </tr>\n",
       "    <tr>\n",
       "      <th>5957</th>\n",
       "      <td>0</td>\n",
       "      <td>16935.114236</td>\n",
       "      <td>16262.771937</td>\n",
       "      <td>29800.0</td>\n",
       "      <td>DebtCon</td>\n",
       "      <td>Other</td>\n",
       "      <td>15.000000</td>\n",
       "      <td>0.0</td>\n",
       "      <td>0.0</td>\n",
       "      <td>212.279697</td>\n",
       "      <td>...</td>\n",
       "      <td>0</td>\n",
       "      <td>0</td>\n",
       "      <td>0</td>\n",
       "      <td>1</td>\n",
       "      <td>0</td>\n",
       "      <td>0</td>\n",
       "      <td>0</td>\n",
       "      <td>0</td>\n",
       "      <td>1</td>\n",
       "      <td>0</td>\n",
       "    </tr>\n",
       "    <tr>\n",
       "      <th>5958</th>\n",
       "      <td>0</td>\n",
       "      <td>16935.114236</td>\n",
       "      <td>16262.771937</td>\n",
       "      <td>29800.0</td>\n",
       "      <td>DebtCon</td>\n",
       "      <td>Other</td>\n",
       "      <td>14.000000</td>\n",
       "      <td>0.0</td>\n",
       "      <td>0.0</td>\n",
       "      <td>213.892709</td>\n",
       "      <td>...</td>\n",
       "      <td>0</td>\n",
       "      <td>0</td>\n",
       "      <td>0</td>\n",
       "      <td>1</td>\n",
       "      <td>0</td>\n",
       "      <td>0</td>\n",
       "      <td>0</td>\n",
       "      <td>0</td>\n",
       "      <td>1</td>\n",
       "      <td>0</td>\n",
       "    </tr>\n",
       "    <tr>\n",
       "      <th>5959</th>\n",
       "      <td>0</td>\n",
       "      <td>16935.114236</td>\n",
       "      <td>16262.771937</td>\n",
       "      <td>29800.0</td>\n",
       "      <td>DebtCon</td>\n",
       "      <td>Other</td>\n",
       "      <td>15.000000</td>\n",
       "      <td>0.0</td>\n",
       "      <td>0.0</td>\n",
       "      <td>219.601002</td>\n",
       "      <td>...</td>\n",
       "      <td>0</td>\n",
       "      <td>0</td>\n",
       "      <td>0</td>\n",
       "      <td>1</td>\n",
       "      <td>0</td>\n",
       "      <td>0</td>\n",
       "      <td>0</td>\n",
       "      <td>0</td>\n",
       "      <td>1</td>\n",
       "      <td>0</td>\n",
       "    </tr>\n",
       "  </tbody>\n",
       "</table>\n",
       "<p>5960 rows × 27 columns</p>\n",
       "</div>"
      ],
      "text/plain": [
       "      BAD          LOAN       MORTDUE    VALUE   REASON     JOB        YOJ  \\\n",
       "0       1   1100.000000  16262.771937  29800.0  HomeImp   Other  10.500000   \n",
       "1       1   1300.000000  16262.771937  29800.0  HomeImp   Other   7.000000   \n",
       "2       1   1500.000000  13500.000000  16700.0  HomeImp   Other   4.000000   \n",
       "3       1   1500.000000  16262.771937  25000.0  DebtCon   Other   9.362174   \n",
       "4       0   1700.000000  16262.771937  29800.0  HomeImp  Office   3.000000   \n",
       "...   ...           ...           ...      ...      ...     ...        ...   \n",
       "5955    0  16935.114236  16262.771937  29800.0  DebtCon   Other  16.000000   \n",
       "5956    0  16935.114236  16262.771937  29800.0  DebtCon   Other  16.000000   \n",
       "5957    0  16935.114236  16262.771937  29800.0  DebtCon   Other  15.000000   \n",
       "5958    0  16935.114236  16262.771937  29800.0  DebtCon   Other  14.000000   \n",
       "5959    0  16935.114236  16262.771937  29800.0  DebtCon   Other  15.000000   \n",
       "\n",
       "      DEROG  DELINQ       CLAGE  ...  JOB_ProfExe  JOB_Sales  JOB_Self  \\\n",
       "0       0.0     0.0   94.366667  ...            0          0         0   \n",
       "1       0.0     2.0  121.833333  ...            0          0         0   \n",
       "2       0.0     0.0  149.466667  ...            0          0         0   \n",
       "3       0.0     0.0  150.000000  ...            0          0         0   \n",
       "4       0.0     0.0   93.333333  ...            0          0         0   \n",
       "...     ...     ...         ...  ...          ...        ...       ...   \n",
       "5955    0.0     0.0  221.808718  ...            0          0         0   \n",
       "5956    0.0     0.0  208.692070  ...            0          0         0   \n",
       "5957    0.0     0.0  212.279697  ...            0          0         0   \n",
       "5958    0.0     0.0  213.892709  ...            0          0         0   \n",
       "5959    0.0     0.0  219.601002  ...            0          0         0   \n",
       "\n",
       "     REASON_DebtCon  REASON_HomeImp  MORTDUE_Rango_0-5k  MORTDUE_Rango_5k-10k  \\\n",
       "0                 0               1                   0                     0   \n",
       "1                 0               1                   0                     0   \n",
       "2                 0               1                   0                     0   \n",
       "3                 1               0                   0                     0   \n",
       "4                 0               1                   0                     0   \n",
       "...             ...             ...                 ...                   ...   \n",
       "5955              1               0                   0                     0   \n",
       "5956              1               0                   0                     0   \n",
       "5957              1               0                   0                     0   \n",
       "5958              1               0                   0                     0   \n",
       "5959              1               0                   0                     0   \n",
       "\n",
       "      MORTDUE_Rango_10k-15k  MORTDUE_Rango_15k-20k  MORTDUE_Rango_20k+  \n",
       "0                         0                      1                   0  \n",
       "1                         0                      1                   0  \n",
       "2                         1                      0                   0  \n",
       "3                         0                      1                   0  \n",
       "4                         0                      1                   0  \n",
       "...                     ...                    ...                 ...  \n",
       "5955                      0                      1                   0  \n",
       "5956                      0                      1                   0  \n",
       "5957                      0                      1                   0  \n",
       "5958                      0                      1                   0  \n",
       "5959                      0                      1                   0  \n",
       "\n",
       "[5960 rows x 27 columns]"
      ]
     },
     "execution_count": 85,
     "metadata": {},
     "output_type": "execute_result"
    }
   ],
   "source": [
    "Base_F = pd.merge(Base, pd.get_dummies(Base[['JOB','REASON','MORTDUE_Rango']]), left_index=True, right_index=True)\n",
    "Base_F"
   ]
  },
  {
   "cell_type": "code",
   "execution_count": 86,
   "id": "33ddbc9f-98bb-43ed-ab27-a9fdb91a0f5f",
   "metadata": {},
   "outputs": [
    {
     "name": "stdout",
     "output_type": "stream",
     "text": [
      "<class 'pandas.core.frame.DataFrame'>\n",
      "RangeIndex: 5960 entries, 0 to 5959\n",
      "Data columns (total 27 columns):\n",
      " #   Column                 Non-Null Count  Dtype   \n",
      "---  ------                 --------------  -----   \n",
      " 0   BAD                    5960 non-null   int64   \n",
      " 1   LOAN                   5960 non-null   float64 \n",
      " 2   MORTDUE                5960 non-null   float64 \n",
      " 3   VALUE                  5960 non-null   float64 \n",
      " 4   REASON                 5960 non-null   object  \n",
      " 5   JOB                    5960 non-null   object  \n",
      " 6   YOJ                    5960 non-null   float64 \n",
      " 7   DEROG                  5960 non-null   float64 \n",
      " 8   DELINQ                 5960 non-null   float64 \n",
      " 9   CLAGE                  5960 non-null   float64 \n",
      " 10  NINQ                   5960 non-null   float64 \n",
      " 11  CLNO                   5960 non-null   float64 \n",
      " 12  DEBTINC                5960 non-null   float64 \n",
      " 13  MORTDUE_Rango          5960 non-null   category\n",
      " 14  JOB_Mgr                5960 non-null   uint8   \n",
      " 15  JOB_Office             5960 non-null   uint8   \n",
      " 16  JOB_Other              5960 non-null   uint8   \n",
      " 17  JOB_ProfExe            5960 non-null   uint8   \n",
      " 18  JOB_Sales              5960 non-null   uint8   \n",
      " 19  JOB_Self               5960 non-null   uint8   \n",
      " 20  REASON_DebtCon         5960 non-null   uint8   \n",
      " 21  REASON_HomeImp         5960 non-null   uint8   \n",
      " 22  MORTDUE_Rango_0-5k     5960 non-null   uint8   \n",
      " 23  MORTDUE_Rango_5k-10k   5960 non-null   uint8   \n",
      " 24  MORTDUE_Rango_10k-15k  5960 non-null   uint8   \n",
      " 25  MORTDUE_Rango_15k-20k  5960 non-null   uint8   \n",
      " 26  MORTDUE_Rango_20k+     5960 non-null   uint8   \n",
      "dtypes: category(1), float64(10), int64(1), object(2), uint8(13)\n",
      "memory usage: 687.1+ KB\n"
     ]
    }
   ],
   "source": [
    "Base_F.info()"
   ]
  },
  {
   "cell_type": "code",
   "execution_count": 87,
   "id": "bc59451e-19eb-400b-85e1-75d8f221a7bb",
   "metadata": {},
   "outputs": [
    {
     "name": "stdout",
     "output_type": "stream",
     "text": [
      "(5960, 23) (5960, 1)\n"
     ]
    }
   ],
   "source": [
    "X=Base_F.drop(['BAD','REASON','JOB','MORTDUE_Rango'],axis=1)\n",
    "y=Base_F[['BAD']]\n",
    "print(X.shape,y.shape)"
   ]
  },
  {
   "cell_type": "code",
   "execution_count": 88,
   "id": "5767ae1d-4066-4daa-9790-5465ee5e6cee",
   "metadata": {},
   "outputs": [
    {
     "name": "stdout",
     "output_type": "stream",
     "text": [
      "Intercepto: 0.0009566097258696862\n",
      "Coeficientes: [-3.31821353e-05  1.03706040e-04 -1.32877420e-04 -1.43514585e-03\n",
      "  3.37101608e-02  6.06117003e-02 -5.37247847e-03  2.75711511e-02\n",
      " -2.02067496e-03  6.48620210e-02  1.91867076e-03 -4.35453126e-03\n",
      "  2.07350184e-03 -1.13247910e-03  1.03123324e-03  1.42021425e-03\n",
      " -8.01551234e-04  1.75816096e-03  4.51066736e-04  9.06303611e-04\n",
      "  5.14261762e-04 -5.45400598e-04 -3.69621785e-04]\n"
     ]
    },
    {
     "name": "stderr",
     "output_type": "stream",
     "text": [
      "/Users/jorgefernandez/opt/anaconda3/lib/python3.9/site-packages/sklearn/utils/validation.py:63: DataConversionWarning: A column-vector y was passed when a 1d array was expected. Please change the shape of y to (n_samples, ), for example using ravel().\n",
      "  return f(*args, **kwargs)\n"
     ]
    }
   ],
   "source": [
    "from sklearn.linear_model import LogisticRegression\n",
    "model = LogisticRegression(solver='liblinear')\n",
    "model.fit(X, y)\n",
    "\n",
    "print(\"Intercepto:\", model.intercept_[0])\n",
    "import warnings\n",
    "print(\"Coeficientes:\", model.coef_[0])"
   ]
  },
  {
   "cell_type": "code",
   "execution_count": 90,
   "id": "55b2e6c1-5c0e-4a7a-87b2-92d472241a5f",
   "metadata": {
    "collapsed": true,
    "jupyter": {
     "outputs_hidden": true
    },
    "tags": []
   },
   "outputs": [
    {
     "name": "stdout",
     "output_type": "stream",
     "text": [
      "Intervalos de confianza de los coeficientes:\n",
      "Intervalo Inferior: [-4.36411928e-05  5.02451990e-05 -1.79516504e-04 -1.97396258e-02\n",
      "  1.54275639e-02  2.79622132e-02 -6.74291519e-03  1.28515057e-02\n",
      " -2.06657266e-02  3.83818022e-02  1.65021594e-04 -1.37462428e-01\n",
      " -5.78469416e-03 -2.24853280e-02  4.25109540e-04  5.99350768e-04\n",
      " -5.07216436e-02  1.25986666e-04  1.72332136e-04  3.46457002e-04\n",
      "  5.74702506e-05 -3.92371045e-02 -1.26302703e-02]\n",
      "Intervalo Superior: [-2.23883527e-05  1.57489802e-04 -9.96318825e-05  1.44792982e-02\n",
      "  5.52015919e-01  7.86299813e-01 -4.46796242e-03  1.42340516e-01\n",
      "  1.66402290e-02  8.87671034e-02  5.03792584e-02 -1.92496677e-03\n",
      "  5.63000464e-02  2.74256975e-02  4.55236665e-02  4.99586612e-02\n",
      "  6.75559696e-03  7.12842026e-02  1.49429116e-02  3.41008039e-02\n",
      "  1.76157434e-02  1.84540484e-03  8.96261256e-03]\n"
     ]
    }
   ],
   "source": [
    "\n",
    "model = LogisticRegression(solver='liblinear')\n",
    "model.fit(X, y)\n",
    "\n",
    "print(\"Intercepto:\", model.intercept_[0])\n",
    "\n",
    "print(\"Coeficientes:\", model.coef_[0])\n",
    "\n",
    "def bootstrap_confidence_interval_logistic(X, y, num_simulations=10000):\n",
    "    coefs = []\n",
    "    num_samples = len(X)\n",
    "    for _ in range(num_simulations):\n",
    "        # Muestreo bootstrap\n",
    "        idx = np.random.choice(range(num_samples), size=num_samples, replace=True)\n",
    "        X_sampled, y_sampled = X.iloc[idx], y.iloc[idx]\n",
    "        \n",
    "        # Ajustar el modelo en la muestra\n",
    "        model.fit(X_sampled, y_sampled)\n",
    "        coefs.append(model.coef_[0])\n",
    "    \n",
    "    coefs = np.array(coefs)\n",
    "    lower_percentile = np.percentile(coefs, 2.5, axis=0)\n",
    "    upper_percentile = np.percentile(coefs, 97.5, axis=0)\n",
    "    \n",
    "    return lower_percentile, upper_percentile\n",
    "\n",
    "# Obtener intervalos de confianza de los coeficientes\n",
    "lower_ci, upper_ci = bootstrap_confidence_interval_logistic(X, y)\n",
    "\n",
    "print(\"Intervalos de confianza de los coeficientes:\")\n",
    "print(\"Intervalo Inferior:\", lower_ci)\n",
    "print(\"Intervalo Superior:\", upper_ci)"
   ]
  },
  {
   "cell_type": "code",
   "execution_count": 94,
   "id": "a3e867e9-a1c1-4389-9f94-bfa26264ba86",
   "metadata": {},
   "outputs": [
    {
     "data": {
      "image/png": "[encoded data removed]",
      "text/plain": [
       "<Figure size 720x432 with 1 Axes>"
      ]
     },
     "metadata": {},
     "output_type": "display_data"
    }
   ],
   "source": [
    "coeficientes = model.coef_[0]\n",
    "nombres_coeficientes=X.columns\n",
    "plt.figure(figsize=(10, 6))\n",
    "\n",
    "plt.errorbar(nombres_coeficientes, coeficientes, yerr=[coeficientes - lower_ci, upper_ci - coeficientes],\n",
    "             fmt='o', color='blue', ecolor='orange', capsize=5, elinewidth=2)\n",
    "\n",
    "plt.xlabel('Coeficientes')\n",
    "plt.ylabel('Valor del coeficiente')\n",
    "plt.title('Valores del Coeficiente con Intervalos de Confianza')\n",
    "\n",
    "plt.xticks(rotation=45)  # Rotación de las etiquetas del eje x para una mejor visualización\n",
    "\n",
    "plt.show()"
   ]
  },
  {
   "cell_type": "code",
   "execution_count": null,
   "id": "3f5fa863-abf8-4577-9dc4-857e78939e0a",
   "metadata": {},
   "outputs": [],
   "source": []
  },
  {
   "cell_type": "code",
   "execution_count": null,
   "id": "e9f3625c-589e-4174-b8ee-97a4f1422693",
   "metadata": {},
   "outputs": [],
   "source": [
    "import statsmodels.api as sm\n",
    "import statsmodels.formula.api as smf\n",
    "import pandas as pd\n",
    "\n",
    "model = smf.ols('y ~ X', data=X.columns).fit()  # Ejemplo para regresión lineal\n",
    "\n",
    "# O suponiendo que has ajustado el modelo directamente con sm (sm.OLS o sm.Logit)\n",
    "model = sm.OLS(y, X).fit()  # Ejemplo para regresión lineal\n",
    "\n",
    "# Obtener el resumen del modelo\n",
    "summary = model.summary()\n",
    "\n",
    "# Obtener los coeficientes y sus intervalos de confianza del resumen del modelo\n",
    "conf_int = summary.tables[1]  # Obtener la segunda tabla del resumen que contiene los coeficientes e intervalos de confianza\n",
    "conf_int = pd.DataFrame(conf_int.data[1:], columns=conf_int.data[0])  # Convertir la tabla en un DataFrame\n",
    "\n",
    "print(conf_int)\n"
   ]
  },
  {
   "cell_type": "code",
   "execution_count": null,
   "id": "37f89c71-f2cc-40a5-801e-302bd917ef47",
   "metadata": {},
   "outputs": [],
   "source": []
  }
 ],
 "metadata": {
  "kernelspec": {
   "display_name": "Python 3 (ipykernel)",
   "language": "python",
   "name": "python3"
  },
  "language_info": {
   "codemirror_mode": {
    "name": "ipython",
    "version": 3
   },
   "file_extension": ".py",
   "mimetype": "text/x-python",
   "name": "python",
   "nbconvert_exporter": "python",
   "pygments_lexer": "ipython3",
   "version": "3.11.2"
  }
 },
 "nbformat": 4,
 "nbformat_minor": 5
}
