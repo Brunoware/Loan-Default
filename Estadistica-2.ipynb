{
 "cells": [
  {
   "cell_type": "markdown",
   "id": "2f738980",
   "metadata": {},
   "source": [
    "# Preprocessing"
   ]
  },
  {
   "cell_type": "markdown",
   "id": "02e082b8",
   "metadata": {},
   "source": [
    "Importing base libraries"
   ]
  },
  {
   "cell_type": "code",
   "execution_count": 167,
   "id": "ba2cdf6c-deb9-4d40-afb2-37bb28c38778",
   "metadata": {
    "tags": []
   },
   "outputs": [],
   "source": [
    "import pandas as pd\n",
    "import numpy as np\n",
    "import os\n",
    "import matplotlib.pyplot as plt\n",
    "import seaborn as sns\n",
    "import warnings\n",
    "from sklearn.linear_model import LogisticRegression\n",
    "from sklearn.pipeline import make_pipeline\n",
    "from sklearn.preprocessing import OneHotEncoder,StandardScaler\n",
    "from sklearn.compose import ColumnTransformer\n",
    "from sklearn.impute import SimpleImputer\n",
    "from sklearn.model_selection import train_test_split\n",
    "from sklearn.model_selection import cross_validate\n",
    "from scipy.stats import norm\n",
    "from scipy.stats import norm, chi2_contingency\n",
    "from statsmodels.stats.outliers_influence import variance_inflation_factor \n",
    "warnings.filterwarnings('ignore')"
   ]
  },
  {
   "cell_type": "markdown",
   "id": "1f06bbae",
   "metadata": {},
   "source": [
    "Reading csv file"
   ]
  },
  {
   "cell_type": "code",
   "execution_count": 2,
   "id": "9060d868-af6b-4785-b7ed-bb7a13cd2293",
   "metadata": {
    "tags": []
   },
   "outputs": [
    {
     "data": {
      "text/html": [
       "<div>\n",
       "<style scoped>\n",
       "    .dataframe tbody tr th:only-of-type {\n",
       "        vertical-align: middle;\n",
       "    }\n",
       "\n",
       "    .dataframe tbody tr th {\n",
       "        vertical-align: top;\n",
       "    }\n",
       "\n",
       "    .dataframe thead th {\n",
       "        text-align: right;\n",
       "    }\n",
       "</style>\n",
       "<table border=\"1\" class=\"dataframe\">\n",
       "  <thead>\n",
       "    <tr style=\"text-align: right;\">\n",
       "      <th></th>\n",
       "      <th>BAD</th>\n",
       "      <th>LOAN</th>\n",
       "      <th>MORTDUE</th>\n",
       "      <th>VALUE</th>\n",
       "      <th>REASON</th>\n",
       "      <th>JOB</th>\n",
       "      <th>YOJ</th>\n",
       "      <th>DEROG</th>\n",
       "      <th>DELINQ</th>\n",
       "      <th>CLAGE</th>\n",
       "      <th>NINQ</th>\n",
       "      <th>CLNO</th>\n",
       "      <th>DEBTINC</th>\n",
       "    </tr>\n",
       "  </thead>\n",
       "  <tbody>\n",
       "    <tr>\n",
       "      <th>0</th>\n",
       "      <td>1</td>\n",
       "      <td>1100</td>\n",
       "      <td>25860.0</td>\n",
       "      <td>39025.0</td>\n",
       "      <td>HomeImp</td>\n",
       "      <td>Other</td>\n",
       "      <td>10.5</td>\n",
       "      <td>0.0</td>\n",
       "      <td>0.0</td>\n",
       "      <td>94.366667</td>\n",
       "      <td>1.0</td>\n",
       "      <td>9.0</td>\n",
       "      <td>NaN</td>\n",
       "    </tr>\n",
       "    <tr>\n",
       "      <th>1</th>\n",
       "      <td>1</td>\n",
       "      <td>1300</td>\n",
       "      <td>70053.0</td>\n",
       "      <td>68400.0</td>\n",
       "      <td>HomeImp</td>\n",
       "      <td>Other</td>\n",
       "      <td>7.0</td>\n",
       "      <td>0.0</td>\n",
       "      <td>2.0</td>\n",
       "      <td>121.833333</td>\n",
       "      <td>0.0</td>\n",
       "      <td>14.0</td>\n",
       "      <td>NaN</td>\n",
       "    </tr>\n",
       "    <tr>\n",
       "      <th>2</th>\n",
       "      <td>1</td>\n",
       "      <td>1500</td>\n",
       "      <td>13500.0</td>\n",
       "      <td>16700.0</td>\n",
       "      <td>HomeImp</td>\n",
       "      <td>Other</td>\n",
       "      <td>4.0</td>\n",
       "      <td>0.0</td>\n",
       "      <td>0.0</td>\n",
       "      <td>149.466667</td>\n",
       "      <td>1.0</td>\n",
       "      <td>10.0</td>\n",
       "      <td>NaN</td>\n",
       "    </tr>\n",
       "    <tr>\n",
       "      <th>3</th>\n",
       "      <td>1</td>\n",
       "      <td>1500</td>\n",
       "      <td>NaN</td>\n",
       "      <td>NaN</td>\n",
       "      <td>NaN</td>\n",
       "      <td>NaN</td>\n",
       "      <td>NaN</td>\n",
       "      <td>NaN</td>\n",
       "      <td>NaN</td>\n",
       "      <td>NaN</td>\n",
       "      <td>NaN</td>\n",
       "      <td>NaN</td>\n",
       "      <td>NaN</td>\n",
       "    </tr>\n",
       "    <tr>\n",
       "      <th>4</th>\n",
       "      <td>0</td>\n",
       "      <td>1700</td>\n",
       "      <td>97800.0</td>\n",
       "      <td>112000.0</td>\n",
       "      <td>HomeImp</td>\n",
       "      <td>Office</td>\n",
       "      <td>3.0</td>\n",
       "      <td>0.0</td>\n",
       "      <td>0.0</td>\n",
       "      <td>93.333333</td>\n",
       "      <td>0.0</td>\n",
       "      <td>14.0</td>\n",
       "      <td>NaN</td>\n",
       "    </tr>\n",
       "  </tbody>\n",
       "</table>\n",
       "</div>"
      ],
      "text/plain": [
       "   BAD  LOAN  MORTDUE     VALUE   REASON     JOB   YOJ  DEROG  DELINQ  \\\n",
       "0    1  1100  25860.0   39025.0  HomeImp   Other  10.5    0.0     0.0   \n",
       "1    1  1300  70053.0   68400.0  HomeImp   Other   7.0    0.0     2.0   \n",
       "2    1  1500  13500.0   16700.0  HomeImp   Other   4.0    0.0     0.0   \n",
       "3    1  1500      NaN       NaN      NaN     NaN   NaN    NaN     NaN   \n",
       "4    0  1700  97800.0  112000.0  HomeImp  Office   3.0    0.0     0.0   \n",
       "\n",
       "        CLAGE  NINQ  CLNO  DEBTINC  \n",
       "0   94.366667   1.0   9.0      NaN  \n",
       "1  121.833333   0.0  14.0      NaN  \n",
       "2  149.466667   1.0  10.0      NaN  \n",
       "3         NaN   NaN   NaN      NaN  \n",
       "4   93.333333   0.0  14.0      NaN  "
      ]
     },
     "execution_count": 2,
     "metadata": {},
     "output_type": "execute_result"
    }
   ],
   "source": [
    "data = pd.read_csv('database/hmeq.csv')\n",
    "# mostrar primeros registros\n",
    "data.head()"
   ]
  },
  {
   "cell_type": "markdown",
   "id": "e27d1a12",
   "metadata": {},
   "source": [
    "Observing that DEROG and DELINQ are integer values, so they are removed from all transformation on numerical features"
   ]
  },
  {
   "cell_type": "code",
   "execution_count": 3,
   "id": "4251dd1f",
   "metadata": {},
   "outputs": [],
   "source": [
    "data['DEROG'] = data['DEROG'].astype(object)\n",
    "data['DELINQ'] = data['DELINQ'].astype(object)"
   ]
  },
  {
   "cell_type": "markdown",
   "id": "11c83b6e",
   "metadata": {},
   "source": [
    "Dtypes and null values"
   ]
  },
  {
   "cell_type": "code",
   "execution_count": 4,
   "id": "0169c086-b328-42dd-a077-cec13d53a27d",
   "metadata": {},
   "outputs": [
    {
     "name": "stdout",
     "output_type": "stream",
     "text": [
      "<class 'pandas.core.frame.DataFrame'>\n",
      "RangeIndex: 5960 entries, 0 to 5959\n",
      "Data columns (total 13 columns):\n",
      " #   Column   Non-Null Count  Dtype  \n",
      "---  ------   --------------  -----  \n",
      " 0   BAD      5960 non-null   int64  \n",
      " 1   LOAN     5960 non-null   int64  \n",
      " 2   MORTDUE  5442 non-null   float64\n",
      " 3   VALUE    5848 non-null   float64\n",
      " 4   REASON   5708 non-null   object \n",
      " 5   JOB      5681 non-null   object \n",
      " 6   YOJ      5445 non-null   float64\n",
      " 7   DEROG    5252 non-null   object \n",
      " 8   DELINQ   5380 non-null   object \n",
      " 9   CLAGE    5652 non-null   float64\n",
      " 10  NINQ     5450 non-null   float64\n",
      " 11  CLNO     5738 non-null   float64\n",
      " 12  DEBTINC  4693 non-null   float64\n",
      "dtypes: float64(7), int64(2), object(4)\n",
      "memory usage: 605.4+ KB\n"
     ]
    }
   ],
   "source": [
    "data.info()"
   ]
  },
  {
   "cell_type": "markdown",
   "id": "3fb25c4f",
   "metadata": {},
   "source": [
    "Dataframe dimension"
   ]
  },
  {
   "cell_type": "code",
   "execution_count": 5,
   "id": "e4e4561f-6189-4f8f-8c9b-ed663c3cd3c9",
   "metadata": {
    "tags": []
   },
   "outputs": [
    {
     "name": "stdout",
     "output_type": "stream",
     "text": [
      "(5960,)\n",
      "(2,)\n"
     ]
    }
   ],
   "source": [
    "print(data['BAD'].shape)\n",
    "print(data['BAD'].unique().shape)"
   ]
  },
  {
   "cell_type": "markdown",
   "id": "3e35de1b",
   "metadata": {},
   "source": [
    "Checking on main statistics values"
   ]
  },
  {
   "cell_type": "code",
   "execution_count": 6,
   "id": "94a7f77e-d01f-400c-9786-2b44060d79e8",
   "metadata": {
    "tags": []
   },
   "outputs": [
    {
     "data": {
      "text/html": [
       "<div>\n",
       "<style scoped>\n",
       "    .dataframe tbody tr th:only-of-type {\n",
       "        vertical-align: middle;\n",
       "    }\n",
       "\n",
       "    .dataframe tbody tr th {\n",
       "        vertical-align: top;\n",
       "    }\n",
       "\n",
       "    .dataframe thead th {\n",
       "        text-align: right;\n",
       "    }\n",
       "</style>\n",
       "<table border=\"1\" class=\"dataframe\">\n",
       "  <thead>\n",
       "    <tr style=\"text-align: right;\">\n",
       "      <th></th>\n",
       "      <th>BAD</th>\n",
       "      <th>LOAN</th>\n",
       "      <th>MORTDUE</th>\n",
       "      <th>VALUE</th>\n",
       "      <th>YOJ</th>\n",
       "      <th>CLAGE</th>\n",
       "      <th>NINQ</th>\n",
       "      <th>CLNO</th>\n",
       "      <th>DEBTINC</th>\n",
       "    </tr>\n",
       "  </thead>\n",
       "  <tbody>\n",
       "    <tr>\n",
       "      <th>count</th>\n",
       "      <td>5960.000000</td>\n",
       "      <td>5960.000000</td>\n",
       "      <td>5442.000000</td>\n",
       "      <td>5848.000000</td>\n",
       "      <td>5445.000000</td>\n",
       "      <td>5652.000000</td>\n",
       "      <td>5450.000000</td>\n",
       "      <td>5738.000000</td>\n",
       "      <td>4693.000000</td>\n",
       "    </tr>\n",
       "    <tr>\n",
       "      <th>mean</th>\n",
       "      <td>0.199497</td>\n",
       "      <td>18607.969799</td>\n",
       "      <td>73760.817200</td>\n",
       "      <td>101776.048741</td>\n",
       "      <td>8.922268</td>\n",
       "      <td>179.766275</td>\n",
       "      <td>1.186055</td>\n",
       "      <td>21.296096</td>\n",
       "      <td>33.779915</td>\n",
       "    </tr>\n",
       "    <tr>\n",
       "      <th>std</th>\n",
       "      <td>0.399656</td>\n",
       "      <td>11207.480417</td>\n",
       "      <td>44457.609458</td>\n",
       "      <td>57385.775334</td>\n",
       "      <td>7.573982</td>\n",
       "      <td>85.810092</td>\n",
       "      <td>1.728675</td>\n",
       "      <td>10.138933</td>\n",
       "      <td>8.601746</td>\n",
       "    </tr>\n",
       "    <tr>\n",
       "      <th>min</th>\n",
       "      <td>0.000000</td>\n",
       "      <td>1100.000000</td>\n",
       "      <td>2063.000000</td>\n",
       "      <td>8000.000000</td>\n",
       "      <td>0.000000</td>\n",
       "      <td>0.000000</td>\n",
       "      <td>0.000000</td>\n",
       "      <td>0.000000</td>\n",
       "      <td>0.524499</td>\n",
       "    </tr>\n",
       "    <tr>\n",
       "      <th>25%</th>\n",
       "      <td>0.000000</td>\n",
       "      <td>11100.000000</td>\n",
       "      <td>46276.000000</td>\n",
       "      <td>66075.500000</td>\n",
       "      <td>3.000000</td>\n",
       "      <td>115.116702</td>\n",
       "      <td>0.000000</td>\n",
       "      <td>15.000000</td>\n",
       "      <td>29.140031</td>\n",
       "    </tr>\n",
       "    <tr>\n",
       "      <th>50%</th>\n",
       "      <td>0.000000</td>\n",
       "      <td>16300.000000</td>\n",
       "      <td>65019.000000</td>\n",
       "      <td>89235.500000</td>\n",
       "      <td>7.000000</td>\n",
       "      <td>173.466667</td>\n",
       "      <td>1.000000</td>\n",
       "      <td>20.000000</td>\n",
       "      <td>34.818262</td>\n",
       "    </tr>\n",
       "    <tr>\n",
       "      <th>75%</th>\n",
       "      <td>0.000000</td>\n",
       "      <td>23300.000000</td>\n",
       "      <td>91488.000000</td>\n",
       "      <td>119824.250000</td>\n",
       "      <td>13.000000</td>\n",
       "      <td>231.562278</td>\n",
       "      <td>2.000000</td>\n",
       "      <td>26.000000</td>\n",
       "      <td>39.003141</td>\n",
       "    </tr>\n",
       "    <tr>\n",
       "      <th>max</th>\n",
       "      <td>1.000000</td>\n",
       "      <td>89900.000000</td>\n",
       "      <td>399550.000000</td>\n",
       "      <td>855909.000000</td>\n",
       "      <td>41.000000</td>\n",
       "      <td>1168.233561</td>\n",
       "      <td>17.000000</td>\n",
       "      <td>71.000000</td>\n",
       "      <td>203.312149</td>\n",
       "    </tr>\n",
       "  </tbody>\n",
       "</table>\n",
       "</div>"
      ],
      "text/plain": [
       "               BAD          LOAN        MORTDUE          VALUE          YOJ  \\\n",
       "count  5960.000000   5960.000000    5442.000000    5848.000000  5445.000000   \n",
       "mean      0.199497  18607.969799   73760.817200  101776.048741     8.922268   \n",
       "std       0.399656  11207.480417   44457.609458   57385.775334     7.573982   \n",
       "min       0.000000   1100.000000    2063.000000    8000.000000     0.000000   \n",
       "25%       0.000000  11100.000000   46276.000000   66075.500000     3.000000   \n",
       "50%       0.000000  16300.000000   65019.000000   89235.500000     7.000000   \n",
       "75%       0.000000  23300.000000   91488.000000  119824.250000    13.000000   \n",
       "max       1.000000  89900.000000  399550.000000  855909.000000    41.000000   \n",
       "\n",
       "             CLAGE         NINQ         CLNO      DEBTINC  \n",
       "count  5652.000000  5450.000000  5738.000000  4693.000000  \n",
       "mean    179.766275     1.186055    21.296096    33.779915  \n",
       "std      85.810092     1.728675    10.138933     8.601746  \n",
       "min       0.000000     0.000000     0.000000     0.524499  \n",
       "25%     115.116702     0.000000    15.000000    29.140031  \n",
       "50%     173.466667     1.000000    20.000000    34.818262  \n",
       "75%     231.562278     2.000000    26.000000    39.003141  \n",
       "max    1168.233561    17.000000    71.000000   203.312149  "
      ]
     },
     "execution_count": 6,
     "metadata": {},
     "output_type": "execute_result"
    }
   ],
   "source": [
    "data.describe()"
   ]
  },
  {
   "cell_type": "markdown",
   "id": "34bb272b",
   "metadata": {},
   "source": [
    "Dividing dataframe into X and y matrices"
   ]
  },
  {
   "cell_type": "code",
   "execution_count": 7,
   "id": "097748a8",
   "metadata": {},
   "outputs": [],
   "source": [
    "X = data.drop(columns = 'BAD')\n",
    "y = data.BAD"
   ]
  },
  {
   "cell_type": "markdown",
   "id": "ca444c0e",
   "metadata": {},
   "source": [
    "Creating a function to replace outliers in order to impute null values afterwards"
   ]
  },
  {
   "cell_type": "code",
   "execution_count": 8,
   "id": "21a13863",
   "metadata": {},
   "outputs": [],
   "source": [
    "def clean_outliers(df, column):\n",
    "    q1 = df[column].quantile(0.25)\n",
    "    q3 = df[column].quantile(0.75)\n",
    "    iqr = q3 - q1\n",
    "    upper_bound = q3 + 1.5 * iqr\n",
    "    lower_bound = q1 - 1.5 * iqr\n",
    "    return df[column].clip(lower = lower_bound, upper = upper_bound)"
   ]
  },
  {
   "cell_type": "markdown",
   "id": "5eddad7b",
   "metadata": {},
   "source": [
    "Before applying outliers detection and removal"
   ]
  },
  {
   "cell_type": "code",
   "execution_count": 9,
   "id": "b0dd319a",
   "metadata": {},
   "outputs": [
    {
     "data": {
      "image/png": "[encoded data removed]",
      "text/plain": [
       "<Figure size 1152x432 with 8 Axes>"
      ]
     },
     "metadata": {
      "needs_background": "light"
     },
     "output_type": "display_data"
    }
   ],
   "source": [
    "fig, axis = plt.subplots(2, 4, figsize = (16, 6))\n",
    "\n",
    "actual_columns = X.select_dtypes(include = np.number).columns.tolist()\n",
    "\n",
    "for index, column in enumerate(actual_columns):\n",
    "    row = index // 4\n",
    "    col = index % 4\n",
    "    ax = axis[row][col]\n",
    "    sns.boxplot(x = X[column], palette='Set3', ax = ax)\n",
    "    ax.set_xlabel('Value')\n",
    "    ax.set_ylabel(f'Feature {column}')\n",
    "plt.show()"
   ]
  },
  {
   "cell_type": "markdown",
   "id": "2d410be0",
   "metadata": {},
   "source": [
    "Removing outlliers in numerical columns"
   ]
  },
  {
   "cell_type": "code",
   "execution_count": 10,
   "id": "d1b9a7d7",
   "metadata": {},
   "outputs": [],
   "source": [
    "for column in actual_columns:\n",
    "    X[column] = clean_outliers(X, column)"
   ]
  },
  {
   "cell_type": "markdown",
   "id": "ce9167b7",
   "metadata": {},
   "source": [
    "After applyting outliers removal"
   ]
  },
  {
   "cell_type": "code",
   "execution_count": 11,
   "id": "993f0b4d",
   "metadata": {},
   "outputs": [
    {
     "data": {
      "image/png": "[encoded data removed]",
      "text/plain": [
       "<Figure size 1152x432 with 8 Axes>"
      ]
     },
     "metadata": {
      "needs_background": "light"
     },
     "output_type": "display_data"
    }
   ],
   "source": [
    "fig, axis = plt.subplots(2, 4, figsize = (16, 6))\n",
    "\n",
    "actual_columns = X.select_dtypes(include = np.number).columns.tolist()\n",
    "\n",
    "for index, column in enumerate(actual_columns):\n",
    "    row = index // 4\n",
    "    col = index % 4\n",
    "    ax = axis[row][col]\n",
    "    sns.boxplot(x = X[column], palette='Set3', ax = ax)\n",
    "    ax.set_xlabel('Value')\n",
    "    ax.set_ylabel(f'Feature {column}')\n",
    "plt.show()"
   ]
  },
  {
   "cell_type": "markdown",
   "id": "4aed5a67",
   "metadata": {},
   "source": [
    "Analyzing distributionS so that it gets easier to decide the imputer"
   ]
  },
  {
   "cell_type": "code",
   "execution_count": 12,
   "id": "7ded7af2-0a24-4a7a-8e92-fc7d3fe97a69",
   "metadata": {
    "tags": []
   },
   "outputs": [
    {
     "data": {
      "image/png": "[encoded data removed]",
      "text/plain": [
       "<Figure size 864x288 with 2 Axes>"
      ]
     },
     "metadata": {
      "needs_background": "light"
     },
     "output_type": "display_data"
    }
   ],
   "source": [
    "fig, axes = plt.subplots(nrows=1, ncols=2, figsize=(12, 4))\n",
    "axes[0].hist(X['LOAN'], bins=20, color='blue', alpha=0.5)\n",
    "axes[0].set_title('LOAN')\n",
    "axes[1].hist(X[data['LOAN']<41000]['LOAN'], bins=20, color='green', alpha=0.5)\n",
    "axes[1].set_title('LOAN<41000')\n",
    "plt.tight_layout()\n",
    "plt.show()"
   ]
  },
  {
   "cell_type": "code",
   "execution_count": 13,
   "id": "49099276-8fca-419e-91ca-f70f97493344",
   "metadata": {
    "tags": []
   },
   "outputs": [
    {
     "data": {
      "image/png": "[encoded data removed]",
      "text/plain": [
       "<Figure size 864x288 with 2 Axes>"
      ]
     },
     "metadata": {
      "needs_background": "light"
     },
     "output_type": "display_data"
    }
   ],
   "source": [
    "fig, axes = plt.subplots(nrows=1, ncols=2, figsize=(12, 4)) \n",
    "axes[0].hist(X['MORTDUE'], bins=20, color='blue', alpha=0.5)\n",
    "axes[0].set_title('MORTDUE')\n",
    "axes[1].hist(X[X['MORTDUE']<25000]['MORTDUE'], bins=20, color='green', alpha=0.5)\n",
    "axes[1].set_title('MORTDUE<25000')\n",
    "plt.tight_layout()\n",
    "plt.show()"
   ]
  },
  {
   "cell_type": "code",
   "execution_count": 14,
   "id": "0dc0ec04-8ea0-48ba-b18a-1538566455d7",
   "metadata": {
    "tags": []
   },
   "outputs": [
    {
     "data": {
      "image/png": "[encoded data removed]",
      "text/plain": [
       "<Figure size 864x288 with 2 Axes>"
      ]
     },
     "metadata": {
      "needs_background": "light"
     },
     "output_type": "display_data"
    }
   ],
   "source": [
    "fig, axes = plt.subplots(nrows=1, ncols=2, figsize=(12, 4)) \n",
    "axes[0].hist(X['VALUE'], bins=20, color='blue', alpha=0.5)\n",
    "axes[0].set_title('VALUE')\n",
    "axes[1].hist(X[X['VALUE']<30000]['VALUE'], bins=20, color='green', alpha=0.5)\n",
    "axes[1].set_title('VALUE<25000')\n",
    "plt.tight_layout()\n",
    "plt.show()"
   ]
  },
  {
   "cell_type": "code",
   "execution_count": 15,
   "id": "b39541b8-b412-47a4-b121-99b961570699",
   "metadata": {
    "tags": []
   },
   "outputs": [
    {
     "data": {
      "image/png": "[encoded data removed]",
      "text/plain": [
       "<Figure size 864x288 with 2 Axes>"
      ]
     },
     "metadata": {
      "needs_background": "light"
     },
     "output_type": "display_data"
    }
   ],
   "source": [
    "fig, axes = plt.subplots(nrows=1, ncols=2, figsize=(12, 4)) \n",
    "axes[0].hist(X['DELINQ'], bins=20, color='blue', alpha=0.5)\n",
    "axes[0].set_title('DELINQ')\n",
    "axes[1].hist(X[X['DELINQ']<7]['DELINQ'], bins=20, color='green', alpha=0.5)\n",
    "axes[1].set_title('DELINQ<7')\n",
    "plt.tight_layout()\n",
    "plt.show()"
   ]
  },
  {
   "cell_type": "code",
   "execution_count": 16,
   "id": "3abfbebc-b227-4ed1-87a0-3f14900dab52",
   "metadata": {
    "tags": []
   },
   "outputs": [
    {
     "data": {
      "image/png": "[encoded data removed]",
      "text/plain": [
       "<Figure size 864x288 with 2 Axes>"
      ]
     },
     "metadata": {
      "needs_background": "light"
     },
     "output_type": "display_data"
    }
   ],
   "source": [
    "fig, axes = plt.subplots(nrows=1, ncols=2, figsize=(12, 4)) \n",
    "axes[0].hist(X['CLAGE'], bins=20, color='blue', alpha=0.5)\n",
    "axes[0].set_title('CLAGE')\n",
    "axes[1].hist(X[X['CLAGE']<450]['CLAGE'], bins=20, color='green', alpha=0.5)\n",
    "axes[1].set_title('CLAGE<450')\n",
    "plt.tight_layout()\n",
    "plt.show()"
   ]
  },
  {
   "cell_type": "code",
   "execution_count": 17,
   "id": "41c883c6-9d31-42b4-a2fa-d0b765f0ec65",
   "metadata": {
    "tags": []
   },
   "outputs": [
    {
     "data": {
      "image/png": "[encoded data removed]",
      "text/plain": [
       "<Figure size 864x288 with 2 Axes>"
      ]
     },
     "metadata": {
      "needs_background": "light"
     },
     "output_type": "display_data"
    }
   ],
   "source": [
    "fig, axes = plt.subplots(nrows=1, ncols=2, figsize=(12, 4))\n",
    "axes[0].hist(X['NINQ'], bins=20, color='blue', alpha=0.5)\n",
    "axes[0].set_title('NINQ')\n",
    "axes[1].hist(X[X['NINQ']<10]['NINQ'], bins=20, color='green', alpha=0.5)\n",
    "axes[1].set_title('NINQ<10')\n",
    "plt.tight_layout()\n",
    "plt.show()"
   ]
  },
  {
   "cell_type": "markdown",
   "id": "0a2c4904",
   "metadata": {},
   "source": [
    "Getting back intger features"
   ]
  },
  {
   "cell_type": "code",
   "execution_count": 18,
   "id": "d3c5d4d3",
   "metadata": {},
   "outputs": [],
   "source": [
    "X['DEROG'] = X['DEROG'].astype(float)\n",
    "X['DELINQ'] = X['DELINQ'].astype(float)"
   ]
  },
  {
   "cell_type": "markdown",
   "id": "16c57e62",
   "metadata": {},
   "source": [
    "Imputing X null values with median and encoding cat-object features"
   ]
  },
  {
   "cell_type": "code",
   "execution_count": 49,
   "id": "ea0ad833-d00b-440e-ace3-369c5e2a581e",
   "metadata": {
    "tags": []
   },
   "outputs": [],
   "source": [
    "# divide columns by their dtype\n",
    "num_col = X.select_dtypes(include = np.number).columns.tolist()\n",
    "cat_col = X.select_dtypes(exclude = np.number).columns.tolist()\n",
    "# declaring imputers\n",
    "imputer_num = SimpleImputer(strategy = 'median').set_output(transform = 'pandas')\n",
    "imputer_cat = SimpleImputer(strategy = 'most_frequent').set_output(transform = 'pandas')\n",
    "# declaring encoders\n",
    "encoder = OneHotEncoder(handle_unknown = 'ignore', sparse_output = False).set_output(transform = 'pandas')\n",
    "pipe_encoder = make_pipeline(imputer_cat, encoder)\n",
    "# declaring all transformations\n",
    "transformer = ColumnTransformer([('NUM', imputer, num_col), ('CAT', pipe_encoder, cat_col)], remainder = 'passthrough')\\\n",
    "                                .set_output(transform = 'pandas')\n",
    "# fitting transformer\n",
    "X_tr = transformer.fit_transform(X)"
   ]
  },
  {
   "cell_type": "markdown",
   "id": "4143f0eb",
   "metadata": {},
   "source": [
    "Verifying there are no null values left"
   ]
  },
  {
   "cell_type": "code",
   "execution_count": 50,
   "id": "933683a1",
   "metadata": {},
   "outputs": [
    {
     "data": {
      "text/plain": [
       "0"
      ]
     },
     "execution_count": 50,
     "metadata": {},
     "output_type": "execute_result"
    }
   ],
   "source": [
    "X_tr.isnull().sum().sum()"
   ]
  },
  {
   "cell_type": "markdown",
   "id": "29558301",
   "metadata": {},
   "source": [
    "# Modelling"
   ]
  },
  {
   "cell_type": "markdown",
   "id": "0a67d3b5",
   "metadata": {},
   "source": [
    "Getting base coefficients by calculating with the whole dataset as a first approach"
   ]
  },
  {
   "cell_type": "code",
   "execution_count": 137,
   "id": "e3888adb-281c-452a-b75e-f4595bc74ff5",
   "metadata": {},
   "outputs": [],
   "source": [
    "def bootstrap_confidence_interval_logistic(flow_pipe, X, y, num_simulations = 10000,penalty=penalty_a):\n",
    "    coefs = []\n",
    "    num_samples = len(X)\n",
    "    for _ in range(num_simulations):\n",
    "        # Muestreo bootstrap\n",
    "        idx = np.random.choice(range(num_samples), size=num_samples, replace=True)\n",
    "        X_sampled, y_sampled = X.iloc[idx], y.iloc[idx]\n",
    "        X_sampled_tr = flow_pipe.fit_transform(X_sampled)\n",
    "        \n",
    "        # Ajustar el modelo en la muestra\n",
    "        if penalty_a=='elasticnet':\n",
    "            l1_ratio=0.7\n",
    "            model = LogisticRegression(solver = 'saga',penalty=penalty_a,l1_ratio=0.7)\n",
    "        else:\n",
    "            model = LogisticRegression(solver = 'saga',penalty=penalty_a)\n",
    "        model.fit(X_sampled_tr, y_sampled)\n",
    "        coefs.append(model.coef_[0])\n",
    "    \n",
    "    coefs = np.array(coefs)\n",
    "    lower_percentile = np.percentile(coefs, 2.5, axis=0)\n",
    "    upper_percentile = np.percentile(coefs, 97.5, axis=0)\n",
    "    \n",
    "    return lower_percentile, upper_percentile\n",
    "\n",
    "def plot_confidence_intervals(coefficent_names, coefficients, lower_in, upper_in, flag_scaled = True):\n",
    "    plt.figure(figsize=(10, 6))\n",
    "    # Plot confidence intervals using lines and error bars\n",
    "    for i, (name, coef, lower, upper) in enumerate(zip(coefficent_names, coefficients, lower_in, upper_in)):\n",
    "        plt.plot([i, i], [lower, upper], marker='_', color='orange', markersize=10, linewidth=2, markeredgewidth=2)\n",
    "        plt.scatter(i, coef, color='red', zorder=5)  # Scatter plot for the actual coefficient\n",
    "    plt.xlabel('Coefficient Names')\n",
    "    plt.ylabel('Coefficient Value')\n",
    "    if flag_scaled:\n",
    "        plt.title('Coefficient values with confidence intervals')\n",
    "    else:\n",
    "        plt.title('Coefficient values with confidence intervals without scaling')\n",
    "    plt.xticks(range(len(coefficent_names)), coefficent_names, rotation=45, ha='right')\n",
    "    plt.show()\n",
    "    \n",
    "def get_metrics(X, y, estimator, scoring):\n",
    "    results = cross_validate(estimator = model_pipe,\n",
    "                             X = X_tr,\n",
    "                             y = y,\n",
    "                             cv = 5,\n",
    "                             scoring = scoring,\n",
    "                             return_train_score = True)\n",
    "    train_score = results['train_score'].mean()\n",
    "    test_score = results['test_score'].mean()\n",
    "    return train_score, test_score"
   ]
  },
  {
   "cell_type": "markdown",
   "id": "6274f68a-fee2-469d-90bb-5887713b08ef",
   "metadata": {},
   "source": [
    "## Clasico"
   ]
  },
  {
   "cell_type": "code",
   "execution_count": 146,
   "id": "29cc37a2-6410-4206-b10e-d34670663dae",
   "metadata": {},
   "outputs": [
    {
     "name": "stdout",
     "output_type": "stream",
     "text": [
      "Intercept: -1.7324079267998171\n",
      "Coefficients: [-0.19249319 -0.12892455  0.02992212 -0.05906357  0.46182721  0.83100744\n",
      " -0.46307188  0.2908601  -0.17233612  0.4807517  -0.05761684  0.05761684\n",
      "  0.01398439 -0.22025237  0.02436043  0.0527566   0.14594369  0.12745904]\n"
     ]
    }
   ],
   "source": [
    "penalty_a='none'\n",
    "model = LogisticRegression(solver = 'saga', random_state = 23,penalty=penalty_a)\n",
    "model_pipe = make_pipeline(StandardScaler(), model)\n",
    "model_pipe.fit(X_tr, y)\n",
    "\n",
    "coefficients = model_pipe[-1].coef_[0]\n",
    "print(\"Intercept:\", model_pipe[-1].intercept_[0])\n",
    "print(\"Coefficients:\", model_pipe[-1].coef_[0])"
   ]
  },
  {
   "cell_type": "code",
   "execution_count": 147,
   "id": "5d69a404-7b25-410e-b9be-39c19d712af8",
   "metadata": {},
   "outputs": [
    {
     "name": "stdout",
     "output_type": "stream",
     "text": [
      "Coefficient Confidence Intervals\n",
      "Lower bound: [-0.2761795  -0.27053893 -0.11255454 -0.15531437  0.39041415  0.73967588\n",
      " -0.55506142  0.21857155 -0.27129823  0.39156961 -0.097457    0.01442454\n",
      " -0.05173399 -0.29039485 -0.02682694 -0.00664518  0.07273962  0.06861648]\n",
      "Upper bound: [-0.10172741  0.01925231  0.16777603  0.02395529  0.55736829  0.94373042\n",
      " -0.38737123  0.3611275  -0.09026114  0.58174156 -0.01442454  0.097457\n",
      "  0.07315111 -0.14809041  0.07598292  0.11289671  0.21724777  0.18553248]\n"
     ]
    }
   ],
   "source": [
    "# getting confidence interval from coefficents\n",
    "flow_pipe = make_pipeline(transformer, StandardScaler())\n",
    "lower_ci, upper_ci = bootstrap_confidence_interval_logistic(flow_pipe, X, y,1000,'none')\n",
    "print(\"Coefficient Confidence Intervals\")\n",
    "print(\"Lower bound:\", lower_ci)\n",
    "print(\"Upper bound:\", upper_ci)"
   ]
  },
  {
   "cell_type": "code",
   "execution_count": 148,
   "id": "b6364625-5e76-4c8b-b783-f6050f0c4c4c",
   "metadata": {},
   "outputs": [
    {
     "data": {
      "text/html": [
       "<div>\n",
       "<style scoped>\n",
       "    .dataframe tbody tr th:only-of-type {\n",
       "        vertical-align: middle;\n",
       "    }\n",
       "\n",
       "    .dataframe tbody tr th {\n",
       "        vertical-align: top;\n",
       "    }\n",
       "\n",
       "    .dataframe thead th {\n",
       "        text-align: right;\n",
       "    }\n",
       "</style>\n",
       "<table border=\"1\" class=\"dataframe\">\n",
       "  <thead>\n",
       "    <tr style=\"text-align: right;\">\n",
       "      <th></th>\n",
       "      <th>Feature</th>\n",
       "      <th>Coefficient</th>\n",
       "      <th>2.5%</th>\n",
       "      <th>97.5%</th>\n",
       "    </tr>\n",
       "  </thead>\n",
       "  <tbody>\n",
       "    <tr>\n",
       "      <th>0</th>\n",
       "      <td>NUM__LOAN</td>\n",
       "      <td>-0.192493</td>\n",
       "      <td>-0.276179</td>\n",
       "      <td>-0.101727</td>\n",
       "    </tr>\n",
       "    <tr>\n",
       "      <th>1</th>\n",
       "      <td>NUM__MORTDUE</td>\n",
       "      <td>-0.128925</td>\n",
       "      <td>-0.270539</td>\n",
       "      <td>0.019252</td>\n",
       "    </tr>\n",
       "    <tr>\n",
       "      <th>2</th>\n",
       "      <td>NUM__VALUE</td>\n",
       "      <td>0.029922</td>\n",
       "      <td>-0.112555</td>\n",
       "      <td>0.167776</td>\n",
       "    </tr>\n",
       "    <tr>\n",
       "      <th>3</th>\n",
       "      <td>NUM__YOJ</td>\n",
       "      <td>-0.059064</td>\n",
       "      <td>-0.155314</td>\n",
       "      <td>0.023955</td>\n",
       "    </tr>\n",
       "    <tr>\n",
       "      <th>4</th>\n",
       "      <td>NUM__DEROG</td>\n",
       "      <td>0.461827</td>\n",
       "      <td>0.390414</td>\n",
       "      <td>0.557368</td>\n",
       "    </tr>\n",
       "    <tr>\n",
       "      <th>5</th>\n",
       "      <td>NUM__DELINQ</td>\n",
       "      <td>0.831007</td>\n",
       "      <td>0.739676</td>\n",
       "      <td>0.943730</td>\n",
       "    </tr>\n",
       "    <tr>\n",
       "      <th>6</th>\n",
       "      <td>NUM__CLAGE</td>\n",
       "      <td>-0.463072</td>\n",
       "      <td>-0.555061</td>\n",
       "      <td>-0.387371</td>\n",
       "    </tr>\n",
       "    <tr>\n",
       "      <th>7</th>\n",
       "      <td>NUM__NINQ</td>\n",
       "      <td>0.290860</td>\n",
       "      <td>0.218572</td>\n",
       "      <td>0.361128</td>\n",
       "    </tr>\n",
       "    <tr>\n",
       "      <th>8</th>\n",
       "      <td>NUM__CLNO</td>\n",
       "      <td>-0.172336</td>\n",
       "      <td>-0.271298</td>\n",
       "      <td>-0.090261</td>\n",
       "    </tr>\n",
       "    <tr>\n",
       "      <th>9</th>\n",
       "      <td>NUM__DEBTINC</td>\n",
       "      <td>0.480752</td>\n",
       "      <td>0.391570</td>\n",
       "      <td>0.581742</td>\n",
       "    </tr>\n",
       "    <tr>\n",
       "      <th>10</th>\n",
       "      <td>CAT__REASON_DebtCon</td>\n",
       "      <td>-0.057617</td>\n",
       "      <td>-0.097457</td>\n",
       "      <td>-0.014425</td>\n",
       "    </tr>\n",
       "    <tr>\n",
       "      <th>11</th>\n",
       "      <td>CAT__REASON_HomeImp</td>\n",
       "      <td>0.057617</td>\n",
       "      <td>0.014425</td>\n",
       "      <td>0.097457</td>\n",
       "    </tr>\n",
       "    <tr>\n",
       "      <th>12</th>\n",
       "      <td>CAT__JOB_Mgr</td>\n",
       "      <td>0.013984</td>\n",
       "      <td>-0.051734</td>\n",
       "      <td>0.073151</td>\n",
       "    </tr>\n",
       "    <tr>\n",
       "      <th>13</th>\n",
       "      <td>CAT__JOB_Office</td>\n",
       "      <td>-0.220252</td>\n",
       "      <td>-0.290395</td>\n",
       "      <td>-0.148090</td>\n",
       "    </tr>\n",
       "    <tr>\n",
       "      <th>14</th>\n",
       "      <td>CAT__JOB_Other</td>\n",
       "      <td>0.024360</td>\n",
       "      <td>-0.026827</td>\n",
       "      <td>0.075983</td>\n",
       "    </tr>\n",
       "    <tr>\n",
       "      <th>15</th>\n",
       "      <td>CAT__JOB_ProfExe</td>\n",
       "      <td>0.052757</td>\n",
       "      <td>-0.006645</td>\n",
       "      <td>0.112897</td>\n",
       "    </tr>\n",
       "    <tr>\n",
       "      <th>16</th>\n",
       "      <td>CAT__JOB_Sales</td>\n",
       "      <td>0.145944</td>\n",
       "      <td>0.072740</td>\n",
       "      <td>0.217248</td>\n",
       "    </tr>\n",
       "    <tr>\n",
       "      <th>17</th>\n",
       "      <td>CAT__JOB_Self</td>\n",
       "      <td>0.127459</td>\n",
       "      <td>0.068616</td>\n",
       "      <td>0.185532</td>\n",
       "    </tr>\n",
       "  </tbody>\n",
       "</table>\n",
       "</div>"
      ],
      "text/plain": [
       "                Feature  Coefficient      2.5%     97.5%\n",
       "0             NUM__LOAN    -0.192493 -0.276179 -0.101727\n",
       "1          NUM__MORTDUE    -0.128925 -0.270539  0.019252\n",
       "2            NUM__VALUE     0.029922 -0.112555  0.167776\n",
       "3              NUM__YOJ    -0.059064 -0.155314  0.023955\n",
       "4            NUM__DEROG     0.461827  0.390414  0.557368\n",
       "5           NUM__DELINQ     0.831007  0.739676  0.943730\n",
       "6            NUM__CLAGE    -0.463072 -0.555061 -0.387371\n",
       "7             NUM__NINQ     0.290860  0.218572  0.361128\n",
       "8             NUM__CLNO    -0.172336 -0.271298 -0.090261\n",
       "9          NUM__DEBTINC     0.480752  0.391570  0.581742\n",
       "10  CAT__REASON_DebtCon    -0.057617 -0.097457 -0.014425\n",
       "11  CAT__REASON_HomeImp     0.057617  0.014425  0.097457\n",
       "12         CAT__JOB_Mgr     0.013984 -0.051734  0.073151\n",
       "13      CAT__JOB_Office    -0.220252 -0.290395 -0.148090\n",
       "14       CAT__JOB_Other     0.024360 -0.026827  0.075983\n",
       "15     CAT__JOB_ProfExe     0.052757 -0.006645  0.112897\n",
       "16       CAT__JOB_Sales     0.145944  0.072740  0.217248\n",
       "17        CAT__JOB_Self     0.127459  0.068616  0.185532"
      ]
     },
     "execution_count": 148,
     "metadata": {},
     "output_type": "execute_result"
    }
   ],
   "source": [
    "bootstrap = pd.DataFrame({'Feature':X_tr.columns.tolist(),\n",
    "                         'Coefficient': coefficients,\n",
    "                          '2.5%': lower_ci,\n",
    "                          '97.5%': upper_ci})\n",
    "\n",
    "bootstrap"
   ]
  },
  {
   "cell_type": "code",
   "execution_count": 149,
   "id": "bc5d9ac2-ab84-405c-bdfd-b66bea9c348c",
   "metadata": {},
   "outputs": [
    {
     "data": {
      "image/png": "[encoded data removed]",
      "text/plain": [
       "<Figure size 720x432 with 1 Axes>"
      ]
     },
     "metadata": {
      "needs_background": "light"
     },
     "output_type": "display_data"
    }
   ],
   "source": [
    "coefficent_names = X_tr.columns\n",
    "plt.figure(figsize=(10, 6))\n",
    "\n",
    "plt.errorbar(coefficent_names, coefficients, yerr = [coefficients - lower_ci, upper_ci - coefficients],\n",
    "             fmt='o', color='blue', ecolor='orange', capsize=5, elinewidth=2)\n",
    "\n",
    "plt.xlabel('Coefficients')\n",
    "plt.ylabel('Coefficient Value')\n",
    "plt.title('Coefficent values with confidence intervals')\n",
    "\n",
    "plt.xticks(rotation=45)\n",
    "plt.savefig(\"Imagen_Intervalos.png\")\n",
    "plt.show()"
   ]
  },
  {
   "cell_type": "code",
   "execution_count": 150,
   "id": "a22de3f7-7a5f-432b-96a2-be0761428ce5",
   "metadata": {},
   "outputs": [],
   "source": [
    "# calculating the probabilities\n",
    "X_sc = model_pipe[0].transform(X_tr)\n",
    "prob = model_pipe.predict_proba(X_tr)[:, 1]\n",
    "# getting covariate matrix\n",
    "W = np.diag(prob * (1 - prob))\n",
    "# calculating the standard deviation\n",
    "std = np.sqrt(np.diag(np.linalg.pinv(np.dot(np.dot(X_sc.T, W), X_sc))))\n",
    "# getting confidence intervals\n",
    "lower_interval = coefficients - np.abs(norm.ppf(0.025)) * std\n",
    "upper_interval = coefficients + np.abs(norm.ppf(0.025)) * std"
   ]
  },
  {
   "cell_type": "code",
   "execution_count": 151,
   "id": "87fa558f-5526-4e83-873a-0a78187b1d72",
   "metadata": {},
   "outputs": [
    {
     "data": {
      "text/html": [
       "<div>\n",
       "<style scoped>\n",
       "    .dataframe tbody tr th:only-of-type {\n",
       "        vertical-align: middle;\n",
       "    }\n",
       "\n",
       "    .dataframe tbody tr th {\n",
       "        vertical-align: top;\n",
       "    }\n",
       "\n",
       "    .dataframe thead th {\n",
       "        text-align: right;\n",
       "    }\n",
       "</style>\n",
       "<table border=\"1\" class=\"dataframe\">\n",
       "  <thead>\n",
       "    <tr style=\"text-align: right;\">\n",
       "      <th></th>\n",
       "      <th>Feature</th>\n",
       "      <th>Coefficient</th>\n",
       "      <th>2.5% Boost</th>\n",
       "      <th>97.5% Boost</th>\n",
       "      <th>2.5% Mate</th>\n",
       "      <th>97.5% Mate</th>\n",
       "    </tr>\n",
       "  </thead>\n",
       "  <tbody>\n",
       "    <tr>\n",
       "      <th>0</th>\n",
       "      <td>NUM__LOAN</td>\n",
       "      <td>-0.192493</td>\n",
       "      <td>-0.276179</td>\n",
       "      <td>-0.101727</td>\n",
       "      <td>-0.277422</td>\n",
       "      <td>-0.107564</td>\n",
       "    </tr>\n",
       "    <tr>\n",
       "      <th>1</th>\n",
       "      <td>NUM__MORTDUE</td>\n",
       "      <td>-0.128925</td>\n",
       "      <td>-0.270539</td>\n",
       "      <td>0.019252</td>\n",
       "      <td>-0.265806</td>\n",
       "      <td>0.007957</td>\n",
       "    </tr>\n",
       "    <tr>\n",
       "      <th>2</th>\n",
       "      <td>NUM__VALUE</td>\n",
       "      <td>0.029922</td>\n",
       "      <td>-0.112555</td>\n",
       "      <td>0.167776</td>\n",
       "      <td>-0.112853</td>\n",
       "      <td>0.172698</td>\n",
       "    </tr>\n",
       "    <tr>\n",
       "      <th>3</th>\n",
       "      <td>NUM__YOJ</td>\n",
       "      <td>-0.059064</td>\n",
       "      <td>-0.155314</td>\n",
       "      <td>0.023955</td>\n",
       "      <td>-0.141326</td>\n",
       "      <td>0.023199</td>\n",
       "    </tr>\n",
       "    <tr>\n",
       "      <th>4</th>\n",
       "      <td>NUM__DEROG</td>\n",
       "      <td>0.461827</td>\n",
       "      <td>0.390414</td>\n",
       "      <td>0.557368</td>\n",
       "      <td>0.385270</td>\n",
       "      <td>0.538384</td>\n",
       "    </tr>\n",
       "    <tr>\n",
       "      <th>5</th>\n",
       "      <td>NUM__DELINQ</td>\n",
       "      <td>0.831007</td>\n",
       "      <td>0.739676</td>\n",
       "      <td>0.943730</td>\n",
       "      <td>0.750761</td>\n",
       "      <td>0.911254</td>\n",
       "    </tr>\n",
       "    <tr>\n",
       "      <th>6</th>\n",
       "      <td>NUM__CLAGE</td>\n",
       "      <td>-0.463072</td>\n",
       "      <td>-0.555061</td>\n",
       "      <td>-0.387371</td>\n",
       "      <td>-0.546436</td>\n",
       "      <td>-0.379707</td>\n",
       "    </tr>\n",
       "    <tr>\n",
       "      <th>7</th>\n",
       "      <td>NUM__NINQ</td>\n",
       "      <td>0.290860</td>\n",
       "      <td>0.218572</td>\n",
       "      <td>0.361128</td>\n",
       "      <td>0.221511</td>\n",
       "      <td>0.360209</td>\n",
       "    </tr>\n",
       "    <tr>\n",
       "      <th>8</th>\n",
       "      <td>NUM__CLNO</td>\n",
       "      <td>-0.172336</td>\n",
       "      <td>-0.271298</td>\n",
       "      <td>-0.090261</td>\n",
       "      <td>-0.256671</td>\n",
       "      <td>-0.088002</td>\n",
       "    </tr>\n",
       "    <tr>\n",
       "      <th>9</th>\n",
       "      <td>NUM__DEBTINC</td>\n",
       "      <td>0.480752</td>\n",
       "      <td>0.391570</td>\n",
       "      <td>0.581742</td>\n",
       "      <td>0.396107</td>\n",
       "      <td>0.565397</td>\n",
       "    </tr>\n",
       "    <tr>\n",
       "      <th>10</th>\n",
       "      <td>CAT__REASON_DebtCon</td>\n",
       "      <td>-0.057617</td>\n",
       "      <td>-0.097457</td>\n",
       "      <td>-0.014425</td>\n",
       "      <td>-0.095947</td>\n",
       "      <td>-0.019287</td>\n",
       "    </tr>\n",
       "    <tr>\n",
       "      <th>11</th>\n",
       "      <td>CAT__REASON_HomeImp</td>\n",
       "      <td>0.057617</td>\n",
       "      <td>0.014425</td>\n",
       "      <td>0.097457</td>\n",
       "      <td>0.019287</td>\n",
       "      <td>0.095947</td>\n",
       "    </tr>\n",
       "    <tr>\n",
       "      <th>12</th>\n",
       "      <td>CAT__JOB_Mgr</td>\n",
       "      <td>0.013984</td>\n",
       "      <td>-0.051734</td>\n",
       "      <td>0.073151</td>\n",
       "      <td>-0.047560</td>\n",
       "      <td>0.075529</td>\n",
       "    </tr>\n",
       "    <tr>\n",
       "      <th>13</th>\n",
       "      <td>CAT__JOB_Office</td>\n",
       "      <td>-0.220252</td>\n",
       "      <td>-0.290395</td>\n",
       "      <td>-0.148090</td>\n",
       "      <td>-0.289191</td>\n",
       "      <td>-0.151313</td>\n",
       "    </tr>\n",
       "    <tr>\n",
       "      <th>14</th>\n",
       "      <td>CAT__JOB_Other</td>\n",
       "      <td>0.024360</td>\n",
       "      <td>-0.026827</td>\n",
       "      <td>0.075983</td>\n",
       "      <td>-0.027033</td>\n",
       "      <td>0.075754</td>\n",
       "    </tr>\n",
       "    <tr>\n",
       "      <th>15</th>\n",
       "      <td>CAT__JOB_ProfExe</td>\n",
       "      <td>0.052757</td>\n",
       "      <td>-0.006645</td>\n",
       "      <td>0.112897</td>\n",
       "      <td>-0.009996</td>\n",
       "      <td>0.115510</td>\n",
       "    </tr>\n",
       "    <tr>\n",
       "      <th>16</th>\n",
       "      <td>CAT__JOB_Sales</td>\n",
       "      <td>0.145944</td>\n",
       "      <td>0.072740</td>\n",
       "      <td>0.217248</td>\n",
       "      <td>0.083266</td>\n",
       "      <td>0.208621</td>\n",
       "    </tr>\n",
       "    <tr>\n",
       "      <th>17</th>\n",
       "      <td>CAT__JOB_Self</td>\n",
       "      <td>0.127459</td>\n",
       "      <td>0.068616</td>\n",
       "      <td>0.185532</td>\n",
       "      <td>0.062844</td>\n",
       "      <td>0.192074</td>\n",
       "    </tr>\n",
       "  </tbody>\n",
       "</table>\n",
       "</div>"
      ],
      "text/plain": [
       "                Feature  Coefficient  2.5% Boost  97.5% Boost  2.5% Mate  \\\n",
       "0             NUM__LOAN    -0.192493   -0.276179    -0.101727  -0.277422   \n",
       "1          NUM__MORTDUE    -0.128925   -0.270539     0.019252  -0.265806   \n",
       "2            NUM__VALUE     0.029922   -0.112555     0.167776  -0.112853   \n",
       "3              NUM__YOJ    -0.059064   -0.155314     0.023955  -0.141326   \n",
       "4            NUM__DEROG     0.461827    0.390414     0.557368   0.385270   \n",
       "5           NUM__DELINQ     0.831007    0.739676     0.943730   0.750761   \n",
       "6            NUM__CLAGE    -0.463072   -0.555061    -0.387371  -0.546436   \n",
       "7             NUM__NINQ     0.290860    0.218572     0.361128   0.221511   \n",
       "8             NUM__CLNO    -0.172336   -0.271298    -0.090261  -0.256671   \n",
       "9          NUM__DEBTINC     0.480752    0.391570     0.581742   0.396107   \n",
       "10  CAT__REASON_DebtCon    -0.057617   -0.097457    -0.014425  -0.095947   \n",
       "11  CAT__REASON_HomeImp     0.057617    0.014425     0.097457   0.019287   \n",
       "12         CAT__JOB_Mgr     0.013984   -0.051734     0.073151  -0.047560   \n",
       "13      CAT__JOB_Office    -0.220252   -0.290395    -0.148090  -0.289191   \n",
       "14       CAT__JOB_Other     0.024360   -0.026827     0.075983  -0.027033   \n",
       "15     CAT__JOB_ProfExe     0.052757   -0.006645     0.112897  -0.009996   \n",
       "16       CAT__JOB_Sales     0.145944    0.072740     0.217248   0.083266   \n",
       "17        CAT__JOB_Self     0.127459    0.068616     0.185532   0.062844   \n",
       "\n",
       "    97.5% Mate  \n",
       "0    -0.107564  \n",
       "1     0.007957  \n",
       "2     0.172698  \n",
       "3     0.023199  \n",
       "4     0.538384  \n",
       "5     0.911254  \n",
       "6    -0.379707  \n",
       "7     0.360209  \n",
       "8    -0.088002  \n",
       "9     0.565397  \n",
       "10   -0.019287  \n",
       "11    0.095947  \n",
       "12    0.075529  \n",
       "13   -0.151313  \n",
       "14    0.075754  \n",
       "15    0.115510  \n",
       "16    0.208621  \n",
       "17    0.192074  "
      ]
     },
     "execution_count": 151,
     "metadata": {},
     "output_type": "execute_result"
    }
   ],
   "source": [
    "intervalos = pd.DataFrame({'Feature':X_tr.columns.tolist(),\n",
    "                         'Coefficient': coefficients,\n",
    "                          '2.5% Boost': lower_ci,\n",
    "                          '97.5% Boost': upper_ci,\n",
    "                          '2.5% Mate': lower_interval,\n",
    "                          '97.5% Mate': upper_interval})\n",
    "\n",
    "intervalos"
   ]
  },
  {
   "cell_type": "code",
   "execution_count": 152,
   "id": "cf2f433d-7526-4c4d-a6c1-42f554796736",
   "metadata": {},
   "outputs": [
    {
     "data": {
      "image/png": "[encoded data removed]",
      "text/plain": [
       "<Figure size 720x432 with 1 Axes>"
      ]
     },
     "metadata": {
      "needs_background": "light"
     },
     "output_type": "display_data"
    }
   ],
   "source": [
    "plot_confidence_intervals(coefficent_names, coefficients, lower_interval, upper_interval, flag_scaled = True)"
   ]
  },
  {
   "cell_type": "code",
   "execution_count": 153,
   "id": "01b15fad-d53b-4db4-9041-388680dd5108",
   "metadata": {},
   "outputs": [
    {
     "data": {
      "text/html": [
       "<div>\n",
       "<style scoped>\n",
       "    .dataframe tbody tr th:only-of-type {\n",
       "        vertical-align: middle;\n",
       "    }\n",
       "\n",
       "    .dataframe tbody tr th {\n",
       "        vertical-align: top;\n",
       "    }\n",
       "\n",
       "    .dataframe thead th {\n",
       "        text-align: right;\n",
       "    }\n",
       "</style>\n",
       "<table border=\"1\" class=\"dataframe\">\n",
       "  <thead>\n",
       "    <tr style=\"text-align: right;\">\n",
       "      <th></th>\n",
       "      <th>Metric</th>\n",
       "      <th>Train</th>\n",
       "      <th>Test</th>\n",
       "    </tr>\n",
       "  </thead>\n",
       "  <tbody>\n",
       "    <tr>\n",
       "      <th>0</th>\n",
       "      <td>accuracy</td>\n",
       "      <td>0.841275</td>\n",
       "      <td>0.836074</td>\n",
       "    </tr>\n",
       "    <tr>\n",
       "      <th>1</th>\n",
       "      <td>recall</td>\n",
       "      <td>0.330527</td>\n",
       "      <td>0.308574</td>\n",
       "    </tr>\n",
       "    <tr>\n",
       "      <th>2</th>\n",
       "      <td>precision</td>\n",
       "      <td>0.723557</td>\n",
       "      <td>0.754244</td>\n",
       "    </tr>\n",
       "    <tr>\n",
       "      <th>3</th>\n",
       "      <td>f1</td>\n",
       "      <td>0.453520</td>\n",
       "      <td>0.425126</td>\n",
       "    </tr>\n",
       "    <tr>\n",
       "      <th>4</th>\n",
       "      <td>roc_auc</td>\n",
       "      <td>0.809492</td>\n",
       "      <td>0.785519</td>\n",
       "    </tr>\n",
       "  </tbody>\n",
       "</table>\n",
       "</div>"
      ],
      "text/plain": [
       "      Metric     Train      Test\n",
       "0   accuracy  0.841275  0.836074\n",
       "1     recall  0.330527  0.308574\n",
       "2  precision  0.723557  0.754244\n",
       "3         f1  0.453520  0.425126\n",
       "4    roc_auc  0.809492  0.785519"
      ]
     },
     "metadata": {},
     "output_type": "display_data"
    }
   ],
   "source": [
    "train_scores = list()\n",
    "test_scores = list()\n",
    "scores = ['accuracy', 'recall', 'precision', 'f1', 'roc_auc']\n",
    "for score in scores:\n",
    "    train_score, test_score = get_metrics(X_tr, y, model_pipe, score)\n",
    "    train_scores.append(train_score)\n",
    "    test_scores.append(test_score)\n",
    "metrics = pd.DataFrame({'Metric': scores,\n",
    "                        'Train': train_scores,\n",
    "                        'Test': test_scores})\n",
    "display(metrics)"
   ]
  },
  {
   "cell_type": "markdown",
   "id": "b7c38f28-5e19-4a9b-9949-148c8dbcfd8c",
   "metadata": {},
   "source": [
    "### L2"
   ]
  },
  {
   "cell_type": "code",
   "execution_count": 106,
   "id": "2beb4431",
   "metadata": {},
   "outputs": [
    {
     "name": "stdout",
     "output_type": "stream",
     "text": [
      "Intercept: -1.7314416195819293\n",
      "Coefficients: [-0.19208438 -0.12798517  0.02889943 -0.0590351   0.46111439  0.82929222\n",
      " -0.46214212  0.29050586 -0.17168995  0.47948417 -0.05760256  0.05760256\n",
      "  0.01401274 -0.21969569  0.02435911  0.05240274  0.14570055  0.12726298]\n"
     ]
    }
   ],
   "source": [
    "penalty_a='l2'\n",
    "model = LogisticRegression(solver = 'saga', random_state = 23,penalty=penalty_a)\n",
    "model_pipe = make_pipeline(StandardScaler(), model)\n",
    "model_pipe.fit(X_tr, y)\n",
    "\n",
    "coefficients = model_pipe[-1].coef_[0]\n",
    "print(\"Intercept:\", model_pipe[-1].intercept_[0])\n",
    "print(\"Coefficients:\", model_pipe[-1].coef_[0])"
   ]
  },
  {
   "cell_type": "markdown",
   "id": "505b0e9d",
   "metadata": {},
   "source": [
    "Doing the same thing by applying bootstrap"
   ]
  },
  {
   "cell_type": "code",
   "execution_count": 110,
   "id": "16f8c289",
   "metadata": {},
   "outputs": [
    {
     "name": "stdout",
     "output_type": "stream",
     "text": [
      "Coefficient Confidence Intervals\n",
      "Lower bound: [-0.28570454 -0.26934292 -0.10612962 -0.14068034  0.38930738  0.73027864\n",
      " -0.55093803  0.21787953 -0.26760385  0.38122115 -0.09758346  0.02051176\n",
      " -0.05267707 -0.2912649  -0.02527218 -0.00734244  0.07049089  0.06486818]\n",
      "Upper bound: [-0.09353653  0.00433682  0.16203128  0.0285825   0.55060767  0.93566017\n",
      " -0.37708545  0.36577598 -0.0814108   0.57455362 -0.02051176  0.09758346\n",
      "  0.07720053 -0.15492033  0.07787613  0.1145985   0.21351357  0.18510153]\n"
     ]
    }
   ],
   "source": [
    "# getting confidence interval from coefficents\n",
    "flow_pipe = make_pipeline(transformer, StandardScaler())\n",
    "lower_ci, upper_ci = bootstrap_confidence_interval_logistic(flow_pipe, X, y,1000,'l2')\n",
    "print(\"Coefficient Confidence Intervals\")\n",
    "print(\"Lower bound:\", lower_ci)\n",
    "print(\"Upper bound:\", upper_ci)"
   ]
  },
  {
   "cell_type": "markdown",
   "id": "ca8b5871",
   "metadata": {},
   "source": [
    "Putting all together into a table"
   ]
  },
  {
   "cell_type": "code",
   "execution_count": 111,
   "id": "850d2008",
   "metadata": {},
   "outputs": [
    {
     "data": {
      "text/html": [
       "<div>\n",
       "<style scoped>\n",
       "    .dataframe tbody tr th:only-of-type {\n",
       "        vertical-align: middle;\n",
       "    }\n",
       "\n",
       "    .dataframe tbody tr th {\n",
       "        vertical-align: top;\n",
       "    }\n",
       "\n",
       "    .dataframe thead th {\n",
       "        text-align: right;\n",
       "    }\n",
       "</style>\n",
       "<table border=\"1\" class=\"dataframe\">\n",
       "  <thead>\n",
       "    <tr style=\"text-align: right;\">\n",
       "      <th></th>\n",
       "      <th>Feature</th>\n",
       "      <th>Coefficient</th>\n",
       "      <th>2.5%</th>\n",
       "      <th>97.5%</th>\n",
       "    </tr>\n",
       "  </thead>\n",
       "  <tbody>\n",
       "    <tr>\n",
       "      <th>0</th>\n",
       "      <td>NUM__LOAN</td>\n",
       "      <td>-0.192084</td>\n",
       "      <td>-0.285705</td>\n",
       "      <td>-0.093537</td>\n",
       "    </tr>\n",
       "    <tr>\n",
       "      <th>1</th>\n",
       "      <td>NUM__MORTDUE</td>\n",
       "      <td>-0.127985</td>\n",
       "      <td>-0.269343</td>\n",
       "      <td>0.004337</td>\n",
       "    </tr>\n",
       "    <tr>\n",
       "      <th>2</th>\n",
       "      <td>NUM__VALUE</td>\n",
       "      <td>0.028899</td>\n",
       "      <td>-0.106130</td>\n",
       "      <td>0.162031</td>\n",
       "    </tr>\n",
       "    <tr>\n",
       "      <th>3</th>\n",
       "      <td>NUM__YOJ</td>\n",
       "      <td>-0.059035</td>\n",
       "      <td>-0.140680</td>\n",
       "      <td>0.028583</td>\n",
       "    </tr>\n",
       "    <tr>\n",
       "      <th>4</th>\n",
       "      <td>NUM__DEROG</td>\n",
       "      <td>0.461114</td>\n",
       "      <td>0.389307</td>\n",
       "      <td>0.550608</td>\n",
       "    </tr>\n",
       "    <tr>\n",
       "      <th>5</th>\n",
       "      <td>NUM__DELINQ</td>\n",
       "      <td>0.829292</td>\n",
       "      <td>0.730279</td>\n",
       "      <td>0.935660</td>\n",
       "    </tr>\n",
       "    <tr>\n",
       "      <th>6</th>\n",
       "      <td>NUM__CLAGE</td>\n",
       "      <td>-0.462142</td>\n",
       "      <td>-0.550938</td>\n",
       "      <td>-0.377085</td>\n",
       "    </tr>\n",
       "    <tr>\n",
       "      <th>7</th>\n",
       "      <td>NUM__NINQ</td>\n",
       "      <td>0.290506</td>\n",
       "      <td>0.217880</td>\n",
       "      <td>0.365776</td>\n",
       "    </tr>\n",
       "    <tr>\n",
       "      <th>8</th>\n",
       "      <td>NUM__CLNO</td>\n",
       "      <td>-0.171690</td>\n",
       "      <td>-0.267604</td>\n",
       "      <td>-0.081411</td>\n",
       "    </tr>\n",
       "    <tr>\n",
       "      <th>9</th>\n",
       "      <td>NUM__DEBTINC</td>\n",
       "      <td>0.479484</td>\n",
       "      <td>0.381221</td>\n",
       "      <td>0.574554</td>\n",
       "    </tr>\n",
       "    <tr>\n",
       "      <th>10</th>\n",
       "      <td>CAT__REASON_DebtCon</td>\n",
       "      <td>-0.057603</td>\n",
       "      <td>-0.097583</td>\n",
       "      <td>-0.020512</td>\n",
       "    </tr>\n",
       "    <tr>\n",
       "      <th>11</th>\n",
       "      <td>CAT__REASON_HomeImp</td>\n",
       "      <td>0.057603</td>\n",
       "      <td>0.020512</td>\n",
       "      <td>0.097583</td>\n",
       "    </tr>\n",
       "    <tr>\n",
       "      <th>12</th>\n",
       "      <td>CAT__JOB_Mgr</td>\n",
       "      <td>0.014013</td>\n",
       "      <td>-0.052677</td>\n",
       "      <td>0.077201</td>\n",
       "    </tr>\n",
       "    <tr>\n",
       "      <th>13</th>\n",
       "      <td>CAT__JOB_Office</td>\n",
       "      <td>-0.219696</td>\n",
       "      <td>-0.291265</td>\n",
       "      <td>-0.154920</td>\n",
       "    </tr>\n",
       "    <tr>\n",
       "      <th>14</th>\n",
       "      <td>CAT__JOB_Other</td>\n",
       "      <td>0.024359</td>\n",
       "      <td>-0.025272</td>\n",
       "      <td>0.077876</td>\n",
       "    </tr>\n",
       "    <tr>\n",
       "      <th>15</th>\n",
       "      <td>CAT__JOB_ProfExe</td>\n",
       "      <td>0.052403</td>\n",
       "      <td>-0.007342</td>\n",
       "      <td>0.114598</td>\n",
       "    </tr>\n",
       "    <tr>\n",
       "      <th>16</th>\n",
       "      <td>CAT__JOB_Sales</td>\n",
       "      <td>0.145701</td>\n",
       "      <td>0.070491</td>\n",
       "      <td>0.213514</td>\n",
       "    </tr>\n",
       "    <tr>\n",
       "      <th>17</th>\n",
       "      <td>CAT__JOB_Self</td>\n",
       "      <td>0.127263</td>\n",
       "      <td>0.064868</td>\n",
       "      <td>0.185102</td>\n",
       "    </tr>\n",
       "  </tbody>\n",
       "</table>\n",
       "</div>"
      ],
      "text/plain": [
       "                Feature  Coefficient      2.5%     97.5%\n",
       "0             NUM__LOAN    -0.192084 -0.285705 -0.093537\n",
       "1          NUM__MORTDUE    -0.127985 -0.269343  0.004337\n",
       "2            NUM__VALUE     0.028899 -0.106130  0.162031\n",
       "3              NUM__YOJ    -0.059035 -0.140680  0.028583\n",
       "4            NUM__DEROG     0.461114  0.389307  0.550608\n",
       "5           NUM__DELINQ     0.829292  0.730279  0.935660\n",
       "6            NUM__CLAGE    -0.462142 -0.550938 -0.377085\n",
       "7             NUM__NINQ     0.290506  0.217880  0.365776\n",
       "8             NUM__CLNO    -0.171690 -0.267604 -0.081411\n",
       "9          NUM__DEBTINC     0.479484  0.381221  0.574554\n",
       "10  CAT__REASON_DebtCon    -0.057603 -0.097583 -0.020512\n",
       "11  CAT__REASON_HomeImp     0.057603  0.020512  0.097583\n",
       "12         CAT__JOB_Mgr     0.014013 -0.052677  0.077201\n",
       "13      CAT__JOB_Office    -0.219696 -0.291265 -0.154920\n",
       "14       CAT__JOB_Other     0.024359 -0.025272  0.077876\n",
       "15     CAT__JOB_ProfExe     0.052403 -0.007342  0.114598\n",
       "16       CAT__JOB_Sales     0.145701  0.070491  0.213514\n",
       "17        CAT__JOB_Self     0.127263  0.064868  0.185102"
      ]
     },
     "execution_count": 111,
     "metadata": {},
     "output_type": "execute_result"
    }
   ],
   "source": [
    "bootstrap = pd.DataFrame({'Feature':X_tr.columns.tolist(),\n",
    "                         'Coefficient': coefficients,\n",
    "                          '2.5%': lower_ci,\n",
    "                          '97.5%': upper_ci})\n",
    "\n",
    "bootstrap"
   ]
  },
  {
   "cell_type": "markdown",
   "id": "41e345b6",
   "metadata": {},
   "source": [
    "Plotting coefficients with their confidence intervals"
   ]
  },
  {
   "cell_type": "code",
   "execution_count": 112,
   "id": "02bc47fb",
   "metadata": {},
   "outputs": [
    {
     "data": {
      "image/png": "[encoded data removed]",
      "text/plain": [
       "<Figure size 720x432 with 1 Axes>"
      ]
     },
     "metadata": {
      "needs_background": "light"
     },
     "output_type": "display_data"
    }
   ],
   "source": [
    "coefficent_names = X_tr.columns\n",
    "plt.figure(figsize=(10, 6))\n",
    "\n",
    "plt.errorbar(coefficent_names, coefficients, yerr = [coefficients - lower_ci, upper_ci - coefficients],\n",
    "             fmt='o', color='blue', ecolor='orange', capsize=5, elinewidth=2)\n",
    "\n",
    "plt.xlabel('Coefficients')\n",
    "plt.ylabel('Coefficient Value')\n",
    "plt.title('Coefficent values with confidence intervals')\n",
    "\n",
    "plt.xticks(rotation=45)\n",
    "plt.savefig(\"Imagen_Intervalos.png\")\n",
    "plt.show()"
   ]
  },
  {
   "cell_type": "code",
   "execution_count": 113,
   "id": "3bf2230a-1b05-4631-83cc-0fa417e75600",
   "metadata": {},
   "outputs": [],
   "source": [
    "# calculating the probabilities\n",
    "X_sc = model_pipe[0].transform(X_tr)\n",
    "prob = model_pipe.predict_proba(X_tr)[:, 1]\n",
    "# getting covariate matrix\n",
    "W = np.diag(prob * (1 - prob))\n",
    "# calculating the standard deviation\n",
    "std = np.sqrt(np.diag(np.linalg.pinv(np.dot(np.dot(X_sc.T, W), X_sc))))\n",
    "# getting confidence intervals\n",
    "lower_interval = coefficients - np.abs(norm.ppf(0.025)) * std\n",
    "upper_interval = coefficients + np.abs(norm.ppf(0.025)) * std"
   ]
  },
  {
   "cell_type": "code",
   "execution_count": 114,
   "id": "7fdbae96-c65a-44d5-8d0c-5de4cf5a0752",
   "metadata": {},
   "outputs": [
    {
     "data": {
      "text/html": [
       "<div>\n",
       "<style scoped>\n",
       "    .dataframe tbody tr th:only-of-type {\n",
       "        vertical-align: middle;\n",
       "    }\n",
       "\n",
       "    .dataframe tbody tr th {\n",
       "        vertical-align: top;\n",
       "    }\n",
       "\n",
       "    .dataframe thead th {\n",
       "        text-align: right;\n",
       "    }\n",
       "</style>\n",
       "<table border=\"1\" class=\"dataframe\">\n",
       "  <thead>\n",
       "    <tr style=\"text-align: right;\">\n",
       "      <th></th>\n",
       "      <th>Feature</th>\n",
       "      <th>Coefficient</th>\n",
       "      <th>2.5% Boost</th>\n",
       "      <th>97.5% Boost</th>\n",
       "      <th>2.5% Mate</th>\n",
       "      <th>97.5% Mate</th>\n",
       "    </tr>\n",
       "  </thead>\n",
       "  <tbody>\n",
       "    <tr>\n",
       "      <th>0</th>\n",
       "      <td>NUM__LOAN</td>\n",
       "      <td>-0.192084</td>\n",
       "      <td>-0.285705</td>\n",
       "      <td>-0.093537</td>\n",
       "      <td>-0.276978</td>\n",
       "      <td>-0.107191</td>\n",
       "    </tr>\n",
       "    <tr>\n",
       "      <th>1</th>\n",
       "      <td>NUM__MORTDUE</td>\n",
       "      <td>-0.127985</td>\n",
       "      <td>-0.269343</td>\n",
       "      <td>0.004337</td>\n",
       "      <td>-0.264799</td>\n",
       "      <td>0.008829</td>\n",
       "    </tr>\n",
       "    <tr>\n",
       "      <th>2</th>\n",
       "      <td>NUM__VALUE</td>\n",
       "      <td>0.028899</td>\n",
       "      <td>-0.106130</td>\n",
       "      <td>0.162031</td>\n",
       "      <td>-0.113802</td>\n",
       "      <td>0.171601</td>\n",
       "    </tr>\n",
       "    <tr>\n",
       "      <th>3</th>\n",
       "      <td>NUM__YOJ</td>\n",
       "      <td>-0.059035</td>\n",
       "      <td>-0.140680</td>\n",
       "      <td>0.028583</td>\n",
       "      <td>-0.141257</td>\n",
       "      <td>0.023187</td>\n",
       "    </tr>\n",
       "    <tr>\n",
       "      <th>4</th>\n",
       "      <td>NUM__DEROG</td>\n",
       "      <td>0.461114</td>\n",
       "      <td>0.389307</td>\n",
       "      <td>0.550608</td>\n",
       "      <td>0.384611</td>\n",
       "      <td>0.537618</td>\n",
       "    </tr>\n",
       "    <tr>\n",
       "      <th>5</th>\n",
       "      <td>NUM__DELINQ</td>\n",
       "      <td>0.829292</td>\n",
       "      <td>0.730279</td>\n",
       "      <td>0.935660</td>\n",
       "      <td>0.749124</td>\n",
       "      <td>0.909460</td>\n",
       "    </tr>\n",
       "    <tr>\n",
       "      <th>6</th>\n",
       "      <td>NUM__CLAGE</td>\n",
       "      <td>-0.462142</td>\n",
       "      <td>-0.550938</td>\n",
       "      <td>-0.377085</td>\n",
       "      <td>-0.545470</td>\n",
       "      <td>-0.378814</td>\n",
       "    </tr>\n",
       "    <tr>\n",
       "      <th>7</th>\n",
       "      <td>NUM__NINQ</td>\n",
       "      <td>0.290506</td>\n",
       "      <td>0.217880</td>\n",
       "      <td>0.365776</td>\n",
       "      <td>0.221177</td>\n",
       "      <td>0.359835</td>\n",
       "    </tr>\n",
       "    <tr>\n",
       "      <th>8</th>\n",
       "      <td>NUM__CLNO</td>\n",
       "      <td>-0.171690</td>\n",
       "      <td>-0.267604</td>\n",
       "      <td>-0.081411</td>\n",
       "      <td>-0.255987</td>\n",
       "      <td>-0.087393</td>\n",
       "    </tr>\n",
       "    <tr>\n",
       "      <th>9</th>\n",
       "      <td>NUM__DEBTINC</td>\n",
       "      <td>0.479484</td>\n",
       "      <td>0.381221</td>\n",
       "      <td>0.574554</td>\n",
       "      <td>0.394885</td>\n",
       "      <td>0.564083</td>\n",
       "    </tr>\n",
       "    <tr>\n",
       "      <th>10</th>\n",
       "      <td>CAT__REASON_DebtCon</td>\n",
       "      <td>-0.057603</td>\n",
       "      <td>-0.097583</td>\n",
       "      <td>-0.020512</td>\n",
       "      <td>-0.095918</td>\n",
       "      <td>-0.019287</td>\n",
       "    </tr>\n",
       "    <tr>\n",
       "      <th>11</th>\n",
       "      <td>CAT__REASON_HomeImp</td>\n",
       "      <td>0.057603</td>\n",
       "      <td>0.020512</td>\n",
       "      <td>0.097583</td>\n",
       "      <td>0.019287</td>\n",
       "      <td>0.095918</td>\n",
       "    </tr>\n",
       "    <tr>\n",
       "      <th>12</th>\n",
       "      <td>CAT__JOB_Mgr</td>\n",
       "      <td>0.014013</td>\n",
       "      <td>-0.052677</td>\n",
       "      <td>0.077201</td>\n",
       "      <td>-0.047506</td>\n",
       "      <td>0.075531</td>\n",
       "    </tr>\n",
       "    <tr>\n",
       "      <th>13</th>\n",
       "      <td>CAT__JOB_Office</td>\n",
       "      <td>-0.219696</td>\n",
       "      <td>-0.291265</td>\n",
       "      <td>-0.154920</td>\n",
       "      <td>-0.288590</td>\n",
       "      <td>-0.150801</td>\n",
       "    </tr>\n",
       "    <tr>\n",
       "      <th>14</th>\n",
       "      <td>CAT__JOB_Other</td>\n",
       "      <td>0.024359</td>\n",
       "      <td>-0.025272</td>\n",
       "      <td>0.077876</td>\n",
       "      <td>-0.027013</td>\n",
       "      <td>0.075731</td>\n",
       "    </tr>\n",
       "    <tr>\n",
       "      <th>15</th>\n",
       "      <td>CAT__JOB_ProfExe</td>\n",
       "      <td>0.052403</td>\n",
       "      <td>-0.007342</td>\n",
       "      <td>0.114598</td>\n",
       "      <td>-0.010328</td>\n",
       "      <td>0.115133</td>\n",
       "    </tr>\n",
       "    <tr>\n",
       "      <th>16</th>\n",
       "      <td>CAT__JOB_Sales</td>\n",
       "      <td>0.145701</td>\n",
       "      <td>0.070491</td>\n",
       "      <td>0.213514</td>\n",
       "      <td>0.083038</td>\n",
       "      <td>0.208363</td>\n",
       "    </tr>\n",
       "    <tr>\n",
       "      <th>17</th>\n",
       "      <td>CAT__JOB_Self</td>\n",
       "      <td>0.127263</td>\n",
       "      <td>0.064868</td>\n",
       "      <td>0.185102</td>\n",
       "      <td>0.062667</td>\n",
       "      <td>0.191858</td>\n",
       "    </tr>\n",
       "  </tbody>\n",
       "</table>\n",
       "</div>"
      ],
      "text/plain": [
       "                Feature  Coefficient  2.5% Boost  97.5% Boost  2.5% Mate  \\\n",
       "0             NUM__LOAN    -0.192084   -0.285705    -0.093537  -0.276978   \n",
       "1          NUM__MORTDUE    -0.127985   -0.269343     0.004337  -0.264799   \n",
       "2            NUM__VALUE     0.028899   -0.106130     0.162031  -0.113802   \n",
       "3              NUM__YOJ    -0.059035   -0.140680     0.028583  -0.141257   \n",
       "4            NUM__DEROG     0.461114    0.389307     0.550608   0.384611   \n",
       "5           NUM__DELINQ     0.829292    0.730279     0.935660   0.749124   \n",
       "6            NUM__CLAGE    -0.462142   -0.550938    -0.377085  -0.545470   \n",
       "7             NUM__NINQ     0.290506    0.217880     0.365776   0.221177   \n",
       "8             NUM__CLNO    -0.171690   -0.267604    -0.081411  -0.255987   \n",
       "9          NUM__DEBTINC     0.479484    0.381221     0.574554   0.394885   \n",
       "10  CAT__REASON_DebtCon    -0.057603   -0.097583    -0.020512  -0.095918   \n",
       "11  CAT__REASON_HomeImp     0.057603    0.020512     0.097583   0.019287   \n",
       "12         CAT__JOB_Mgr     0.014013   -0.052677     0.077201  -0.047506   \n",
       "13      CAT__JOB_Office    -0.219696   -0.291265    -0.154920  -0.288590   \n",
       "14       CAT__JOB_Other     0.024359   -0.025272     0.077876  -0.027013   \n",
       "15     CAT__JOB_ProfExe     0.052403   -0.007342     0.114598  -0.010328   \n",
       "16       CAT__JOB_Sales     0.145701    0.070491     0.213514   0.083038   \n",
       "17        CAT__JOB_Self     0.127263    0.064868     0.185102   0.062667   \n",
       "\n",
       "    97.5% Mate  \n",
       "0    -0.107191  \n",
       "1     0.008829  \n",
       "2     0.171601  \n",
       "3     0.023187  \n",
       "4     0.537618  \n",
       "5     0.909460  \n",
       "6    -0.378814  \n",
       "7     0.359835  \n",
       "8    -0.087393  \n",
       "9     0.564083  \n",
       "10   -0.019287  \n",
       "11    0.095918  \n",
       "12    0.075531  \n",
       "13   -0.150801  \n",
       "14    0.075731  \n",
       "15    0.115133  \n",
       "16    0.208363  \n",
       "17    0.191858  "
      ]
     },
     "execution_count": 114,
     "metadata": {},
     "output_type": "execute_result"
    }
   ],
   "source": [
    "intervalos = pd.DataFrame({'Feature':X_tr.columns.tolist(),\n",
    "                         'Coefficient': coefficients,\n",
    "                          '2.5% Boost': lower_ci,\n",
    "                          '97.5% Boost': upper_ci,\n",
    "                          '2.5% Mate': lower_interval,\n",
    "                          '97.5% Mate': upper_interval})\n",
    "\n",
    "intervalos"
   ]
  },
  {
   "cell_type": "code",
   "execution_count": 115,
   "id": "bed18732-d331-4ae3-bb44-031148ef2f9f",
   "metadata": {},
   "outputs": [
    {
     "data": {
      "image/png": "[encoded data removed]",
      "text/plain": [
       "<Figure size 720x432 with 1 Axes>"
      ]
     },
     "metadata": {
      "needs_background": "light"
     },
     "output_type": "display_data"
    }
   ],
   "source": [
    "plot_confidence_intervals(coefficent_names, coefficients, lower_interval, upper_interval, flag_scaled = True)"
   ]
  },
  {
   "cell_type": "markdown",
   "id": "22c1eac7-1602-4d26-abb8-d250bf5274db",
   "metadata": {},
   "source": [
    "##### Verifyng Metrics L2"
   ]
  },
  {
   "cell_type": "code",
   "execution_count": 118,
   "id": "348d172c-7bd8-494c-af46-6aef4dec70c5",
   "metadata": {},
   "outputs": [
    {
     "data": {
      "text/html": [
       "<div>\n",
       "<style scoped>\n",
       "    .dataframe tbody tr th:only-of-type {\n",
       "        vertical-align: middle;\n",
       "    }\n",
       "\n",
       "    .dataframe tbody tr th {\n",
       "        vertical-align: top;\n",
       "    }\n",
       "\n",
       "    .dataframe thead th {\n",
       "        text-align: right;\n",
       "    }\n",
       "</style>\n",
       "<table border=\"1\" class=\"dataframe\">\n",
       "  <thead>\n",
       "    <tr style=\"text-align: right;\">\n",
       "      <th></th>\n",
       "      <th>Metric</th>\n",
       "      <th>Train</th>\n",
       "      <th>Test</th>\n",
       "    </tr>\n",
       "  </thead>\n",
       "  <tbody>\n",
       "    <tr>\n",
       "      <th>0</th>\n",
       "      <td>accuracy</td>\n",
       "      <td>0.841317</td>\n",
       "      <td>0.836242</td>\n",
       "    </tr>\n",
       "    <tr>\n",
       "      <th>1</th>\n",
       "      <td>recall</td>\n",
       "      <td>0.329897</td>\n",
       "      <td>0.308574</td>\n",
       "    </tr>\n",
       "    <tr>\n",
       "      <th>2</th>\n",
       "      <td>precision</td>\n",
       "      <td>0.724517</td>\n",
       "      <td>0.755726</td>\n",
       "    </tr>\n",
       "    <tr>\n",
       "      <th>3</th>\n",
       "      <td>f1</td>\n",
       "      <td>0.453115</td>\n",
       "      <td>0.425372</td>\n",
       "    </tr>\n",
       "    <tr>\n",
       "      <th>4</th>\n",
       "      <td>roc_auc</td>\n",
       "      <td>0.809498</td>\n",
       "      <td>0.785581</td>\n",
       "    </tr>\n",
       "  </tbody>\n",
       "</table>\n",
       "</div>"
      ],
      "text/plain": [
       "      Metric     Train      Test\n",
       "0   accuracy  0.841317  0.836242\n",
       "1     recall  0.329897  0.308574\n",
       "2  precision  0.724517  0.755726\n",
       "3         f1  0.453115  0.425372\n",
       "4    roc_auc  0.809498  0.785581"
      ]
     },
     "metadata": {},
     "output_type": "display_data"
    }
   ],
   "source": [
    "train_scores = list()\n",
    "test_scores = list()\n",
    "scores = ['accuracy', 'recall', 'precision', 'f1', 'roc_auc']\n",
    "for score in scores:\n",
    "    train_score, test_score = get_metrics(X_tr, y, model_pipe, score)\n",
    "    train_scores.append(train_score)\n",
    "    test_scores.append(test_score)\n",
    "metrics = pd.DataFrame({'Metric': scores,\n",
    "                        'Train': train_scores,\n",
    "                        'Test': test_scores})\n",
    "display(metrics)"
   ]
  },
  {
   "cell_type": "markdown",
   "id": "e5db5852-9b49-4ba8-9ec7-ab177f66a093",
   "metadata": {},
   "source": [
    "## L1"
   ]
  },
  {
   "cell_type": "code",
   "execution_count": 120,
   "id": "1ad714cc-f4b7-4afe-abf1-c7447e11c78b",
   "metadata": {},
   "outputs": [
    {
     "name": "stdout",
     "output_type": "stream",
     "text": [
      "Intercept: -1.730001500781728\n",
      "Coefficients: [-0.18999941 -0.11949603  0.01986609 -0.0572296   0.45999651  0.82797122\n",
      " -0.46144522  0.28912212 -0.17014112  0.47775722 -0.05722748  0.05722748\n",
      " -0.00146297 -0.2359722   0.          0.0307242   0.13812173  0.11809175]\n"
     ]
    }
   ],
   "source": [
    "penalty_a='l1'\n",
    "model = LogisticRegression(solver = 'saga', random_state = 23,penalty=penalty_a)\n",
    "model_pipe = make_pipeline(StandardScaler(), model)\n",
    "model_pipe.fit(X_tr, y)\n",
    "\n",
    "coefficients = model_pipe[-1].coef_[0]\n",
    "print(\"Intercept:\", model_pipe[-1].intercept_[0])\n",
    "print(\"Coefficients:\", model_pipe[-1].coef_[0])"
   ]
  },
  {
   "cell_type": "code",
   "execution_count": 122,
   "id": "59004208-af8a-4965-9559-adabf41db76f",
   "metadata": {},
   "outputs": [
    {
     "name": "stdout",
     "output_type": "stream",
     "text": [
      "Coefficient Confidence Intervals\n",
      "Lower bound: [-0.28674827 -0.26657867 -0.12151075 -0.14364193  0.38586576  0.74325859\n",
      " -0.54890576  0.21546193 -0.26355954  0.38961024 -0.09735308  0.0143069\n",
      " -0.06600158 -0.34194831 -0.08711841 -0.0351187   0.05421903  0.04703058]\n",
      "Upper bound: [-9.52445261e-02  2.09935272e-05  1.56845621e-01  2.05973214e-02\n",
      "  5.51530127e-01  9.27012688e-01 -3.82319579e-01  3.60565048e-01\n",
      " -8.10620597e-02  5.78497869e-01 -1.43068982e-02  9.73530765e-02\n",
      "  4.54297157e-02 -1.56375402e-01  4.93565953e-02  9.39204693e-02\n",
      "  2.07977842e-01  1.79213456e-01]\n"
     ]
    }
   ],
   "source": [
    "# getting confidence interval from coefficents\n",
    "flow_pipe = make_pipeline(transformer, StandardScaler())\n",
    "lower_ci, upper_ci = bootstrap_confidence_interval_logistic(flow_pipe, X, y,1000,'l1')\n",
    "print(\"Coefficient Confidence Intervals\")\n",
    "print(\"Lower bound:\", lower_ci)\n",
    "print(\"Upper bound:\", upper_ci)"
   ]
  },
  {
   "cell_type": "code",
   "execution_count": 123,
   "id": "08aec87d-1d65-444a-9487-5bd671cdcbb0",
   "metadata": {},
   "outputs": [
    {
     "data": {
      "text/html": [
       "<div>\n",
       "<style scoped>\n",
       "    .dataframe tbody tr th:only-of-type {\n",
       "        vertical-align: middle;\n",
       "    }\n",
       "\n",
       "    .dataframe tbody tr th {\n",
       "        vertical-align: top;\n",
       "    }\n",
       "\n",
       "    .dataframe thead th {\n",
       "        text-align: right;\n",
       "    }\n",
       "</style>\n",
       "<table border=\"1\" class=\"dataframe\">\n",
       "  <thead>\n",
       "    <tr style=\"text-align: right;\">\n",
       "      <th></th>\n",
       "      <th>Feature</th>\n",
       "      <th>Coefficient</th>\n",
       "      <th>2.5%</th>\n",
       "      <th>97.5%</th>\n",
       "    </tr>\n",
       "  </thead>\n",
       "  <tbody>\n",
       "    <tr>\n",
       "      <th>0</th>\n",
       "      <td>NUM__LOAN</td>\n",
       "      <td>-0.189999</td>\n",
       "      <td>-0.286748</td>\n",
       "      <td>-0.095245</td>\n",
       "    </tr>\n",
       "    <tr>\n",
       "      <th>1</th>\n",
       "      <td>NUM__MORTDUE</td>\n",
       "      <td>-0.119496</td>\n",
       "      <td>-0.266579</td>\n",
       "      <td>0.000021</td>\n",
       "    </tr>\n",
       "    <tr>\n",
       "      <th>2</th>\n",
       "      <td>NUM__VALUE</td>\n",
       "      <td>0.019866</td>\n",
       "      <td>-0.121511</td>\n",
       "      <td>0.156846</td>\n",
       "    </tr>\n",
       "    <tr>\n",
       "      <th>3</th>\n",
       "      <td>NUM__YOJ</td>\n",
       "      <td>-0.057230</td>\n",
       "      <td>-0.143642</td>\n",
       "      <td>0.020597</td>\n",
       "    </tr>\n",
       "    <tr>\n",
       "      <th>4</th>\n",
       "      <td>NUM__DEROG</td>\n",
       "      <td>0.459997</td>\n",
       "      <td>0.385866</td>\n",
       "      <td>0.551530</td>\n",
       "    </tr>\n",
       "    <tr>\n",
       "      <th>5</th>\n",
       "      <td>NUM__DELINQ</td>\n",
       "      <td>0.827971</td>\n",
       "      <td>0.743259</td>\n",
       "      <td>0.927013</td>\n",
       "    </tr>\n",
       "    <tr>\n",
       "      <th>6</th>\n",
       "      <td>NUM__CLAGE</td>\n",
       "      <td>-0.461445</td>\n",
       "      <td>-0.548906</td>\n",
       "      <td>-0.382320</td>\n",
       "    </tr>\n",
       "    <tr>\n",
       "      <th>7</th>\n",
       "      <td>NUM__NINQ</td>\n",
       "      <td>0.289122</td>\n",
       "      <td>0.215462</td>\n",
       "      <td>0.360565</td>\n",
       "    </tr>\n",
       "    <tr>\n",
       "      <th>8</th>\n",
       "      <td>NUM__CLNO</td>\n",
       "      <td>-0.170141</td>\n",
       "      <td>-0.263560</td>\n",
       "      <td>-0.081062</td>\n",
       "    </tr>\n",
       "    <tr>\n",
       "      <th>9</th>\n",
       "      <td>NUM__DEBTINC</td>\n",
       "      <td>0.477757</td>\n",
       "      <td>0.389610</td>\n",
       "      <td>0.578498</td>\n",
       "    </tr>\n",
       "    <tr>\n",
       "      <th>10</th>\n",
       "      <td>CAT__REASON_DebtCon</td>\n",
       "      <td>-0.057227</td>\n",
       "      <td>-0.097353</td>\n",
       "      <td>-0.014307</td>\n",
       "    </tr>\n",
       "    <tr>\n",
       "      <th>11</th>\n",
       "      <td>CAT__REASON_HomeImp</td>\n",
       "      <td>0.057227</td>\n",
       "      <td>0.014307</td>\n",
       "      <td>0.097353</td>\n",
       "    </tr>\n",
       "    <tr>\n",
       "      <th>12</th>\n",
       "      <td>CAT__JOB_Mgr</td>\n",
       "      <td>-0.001463</td>\n",
       "      <td>-0.066002</td>\n",
       "      <td>0.045430</td>\n",
       "    </tr>\n",
       "    <tr>\n",
       "      <th>13</th>\n",
       "      <td>CAT__JOB_Office</td>\n",
       "      <td>-0.235972</td>\n",
       "      <td>-0.341948</td>\n",
       "      <td>-0.156375</td>\n",
       "    </tr>\n",
       "    <tr>\n",
       "      <th>14</th>\n",
       "      <td>CAT__JOB_Other</td>\n",
       "      <td>0.000000</td>\n",
       "      <td>-0.087118</td>\n",
       "      <td>0.049357</td>\n",
       "    </tr>\n",
       "    <tr>\n",
       "      <th>15</th>\n",
       "      <td>CAT__JOB_ProfExe</td>\n",
       "      <td>0.030724</td>\n",
       "      <td>-0.035119</td>\n",
       "      <td>0.093920</td>\n",
       "    </tr>\n",
       "    <tr>\n",
       "      <th>16</th>\n",
       "      <td>CAT__JOB_Sales</td>\n",
       "      <td>0.138122</td>\n",
       "      <td>0.054219</td>\n",
       "      <td>0.207978</td>\n",
       "    </tr>\n",
       "    <tr>\n",
       "      <th>17</th>\n",
       "      <td>CAT__JOB_Self</td>\n",
       "      <td>0.118092</td>\n",
       "      <td>0.047031</td>\n",
       "      <td>0.179213</td>\n",
       "    </tr>\n",
       "  </tbody>\n",
       "</table>\n",
       "</div>"
      ],
      "text/plain": [
       "                Feature  Coefficient      2.5%     97.5%\n",
       "0             NUM__LOAN    -0.189999 -0.286748 -0.095245\n",
       "1          NUM__MORTDUE    -0.119496 -0.266579  0.000021\n",
       "2            NUM__VALUE     0.019866 -0.121511  0.156846\n",
       "3              NUM__YOJ    -0.057230 -0.143642  0.020597\n",
       "4            NUM__DEROG     0.459997  0.385866  0.551530\n",
       "5           NUM__DELINQ     0.827971  0.743259  0.927013\n",
       "6            NUM__CLAGE    -0.461445 -0.548906 -0.382320\n",
       "7             NUM__NINQ     0.289122  0.215462  0.360565\n",
       "8             NUM__CLNO    -0.170141 -0.263560 -0.081062\n",
       "9          NUM__DEBTINC     0.477757  0.389610  0.578498\n",
       "10  CAT__REASON_DebtCon    -0.057227 -0.097353 -0.014307\n",
       "11  CAT__REASON_HomeImp     0.057227  0.014307  0.097353\n",
       "12         CAT__JOB_Mgr    -0.001463 -0.066002  0.045430\n",
       "13      CAT__JOB_Office    -0.235972 -0.341948 -0.156375\n",
       "14       CAT__JOB_Other     0.000000 -0.087118  0.049357\n",
       "15     CAT__JOB_ProfExe     0.030724 -0.035119  0.093920\n",
       "16       CAT__JOB_Sales     0.138122  0.054219  0.207978\n",
       "17        CAT__JOB_Self     0.118092  0.047031  0.179213"
      ]
     },
     "execution_count": 123,
     "metadata": {},
     "output_type": "execute_result"
    }
   ],
   "source": [
    "bootstrap = pd.DataFrame({'Feature':X_tr.columns.tolist(),\n",
    "                         'Coefficient': coefficients,\n",
    "                          '2.5%': lower_ci,\n",
    "                          '97.5%': upper_ci})\n",
    "\n",
    "bootstrap"
   ]
  },
  {
   "cell_type": "code",
   "execution_count": 124,
   "id": "cfea37c2-d536-4ece-b127-824222aa2edc",
   "metadata": {},
   "outputs": [
    {
     "data": {
      "image/png": "[encoded data removed]",
      "text/plain": [
       "<Figure size 720x432 with 1 Axes>"
      ]
     },
     "metadata": {
      "needs_background": "light"
     },
     "output_type": "display_data"
    }
   ],
   "source": [
    "coefficent_names = X_tr.columns\n",
    "plt.figure(figsize=(10, 6))\n",
    "\n",
    "plt.errorbar(coefficent_names, coefficients, yerr = [coefficients - lower_ci, upper_ci - coefficients],\n",
    "             fmt='o', color='blue', ecolor='orange', capsize=5, elinewidth=2)\n",
    "\n",
    "plt.xlabel('Coefficients')\n",
    "plt.ylabel('Coefficient Value')\n",
    "plt.title('Coefficent values with confidence intervals')\n",
    "\n",
    "plt.xticks(rotation=45)\n",
    "plt.savefig(\"Imagen_Intervalos.png\")\n",
    "plt.show()"
   ]
  },
  {
   "cell_type": "code",
   "execution_count": 125,
   "id": "c0992a0d-33b9-4b02-9e29-6f66e35dee93",
   "metadata": {},
   "outputs": [],
   "source": [
    "# calculating the probabilities\n",
    "X_sc = model_pipe[0].transform(X_tr)\n",
    "prob = model_pipe.predict_proba(X_tr)[:, 1]\n",
    "# getting covariate matrix\n",
    "W = np.diag(prob * (1 - prob))\n",
    "# calculating the standard deviation\n",
    "std = np.sqrt(np.diag(np.linalg.pinv(np.dot(np.dot(X_sc.T, W), X_sc))))\n",
    "# getting confidence intervals\n",
    "lower_interval = coefficients - np.abs(norm.ppf(0.025)) * std\n",
    "upper_interval = coefficients + np.abs(norm.ppf(0.025)) * std"
   ]
  },
  {
   "cell_type": "code",
   "execution_count": 126,
   "id": "fa2ac022-552d-4c65-98b4-b4801c915973",
   "metadata": {},
   "outputs": [
    {
     "data": {
      "text/html": [
       "<div>\n",
       "<style scoped>\n",
       "    .dataframe tbody tr th:only-of-type {\n",
       "        vertical-align: middle;\n",
       "    }\n",
       "\n",
       "    .dataframe tbody tr th {\n",
       "        vertical-align: top;\n",
       "    }\n",
       "\n",
       "    .dataframe thead th {\n",
       "        text-align: right;\n",
       "    }\n",
       "</style>\n",
       "<table border=\"1\" class=\"dataframe\">\n",
       "  <thead>\n",
       "    <tr style=\"text-align: right;\">\n",
       "      <th></th>\n",
       "      <th>Feature</th>\n",
       "      <th>Coefficient</th>\n",
       "      <th>2.5% Boost</th>\n",
       "      <th>97.5% Boost</th>\n",
       "      <th>2.5% Mate</th>\n",
       "      <th>97.5% Mate</th>\n",
       "    </tr>\n",
       "  </thead>\n",
       "  <tbody>\n",
       "    <tr>\n",
       "      <th>0</th>\n",
       "      <td>NUM__LOAN</td>\n",
       "      <td>-0.189999</td>\n",
       "      <td>-0.286748</td>\n",
       "      <td>-0.095245</td>\n",
       "      <td>-0.274824</td>\n",
       "      <td>-0.105175</td>\n",
       "    </tr>\n",
       "    <tr>\n",
       "      <th>1</th>\n",
       "      <td>NUM__MORTDUE</td>\n",
       "      <td>-0.119496</td>\n",
       "      <td>-0.266579</td>\n",
       "      <td>0.000021</td>\n",
       "      <td>-0.256141</td>\n",
       "      <td>0.017149</td>\n",
       "    </tr>\n",
       "    <tr>\n",
       "      <th>2</th>\n",
       "      <td>NUM__VALUE</td>\n",
       "      <td>0.019866</td>\n",
       "      <td>-0.121511</td>\n",
       "      <td>0.156846</td>\n",
       "      <td>-0.122632</td>\n",
       "      <td>0.162364</td>\n",
       "    </tr>\n",
       "    <tr>\n",
       "      <th>3</th>\n",
       "      <td>NUM__YOJ</td>\n",
       "      <td>-0.057230</td>\n",
       "      <td>-0.143642</td>\n",
       "      <td>0.020597</td>\n",
       "      <td>-0.139374</td>\n",
       "      <td>0.024915</td>\n",
       "    </tr>\n",
       "    <tr>\n",
       "      <th>4</th>\n",
       "      <td>NUM__DEROG</td>\n",
       "      <td>0.459997</td>\n",
       "      <td>0.385866</td>\n",
       "      <td>0.551530</td>\n",
       "      <td>0.383580</td>\n",
       "      <td>0.536413</td>\n",
       "    </tr>\n",
       "    <tr>\n",
       "      <th>5</th>\n",
       "      <td>NUM__DELINQ</td>\n",
       "      <td>0.827971</td>\n",
       "      <td>0.743259</td>\n",
       "      <td>0.927013</td>\n",
       "      <td>0.747880</td>\n",
       "      <td>0.908062</td>\n",
       "    </tr>\n",
       "    <tr>\n",
       "      <th>6</th>\n",
       "      <td>NUM__CLAGE</td>\n",
       "      <td>-0.461445</td>\n",
       "      <td>-0.548906</td>\n",
       "      <td>-0.382320</td>\n",
       "      <td>-0.544754</td>\n",
       "      <td>-0.378137</td>\n",
       "    </tr>\n",
       "    <tr>\n",
       "      <th>7</th>\n",
       "      <td>NUM__NINQ</td>\n",
       "      <td>0.289122</td>\n",
       "      <td>0.215462</td>\n",
       "      <td>0.360565</td>\n",
       "      <td>0.219813</td>\n",
       "      <td>0.358431</td>\n",
       "    </tr>\n",
       "    <tr>\n",
       "      <th>8</th>\n",
       "      <td>NUM__CLNO</td>\n",
       "      <td>-0.170141</td>\n",
       "      <td>-0.263560</td>\n",
       "      <td>-0.081062</td>\n",
       "      <td>-0.254399</td>\n",
       "      <td>-0.085883</td>\n",
       "    </tr>\n",
       "    <tr>\n",
       "      <th>9</th>\n",
       "      <td>NUM__DEBTINC</td>\n",
       "      <td>0.477757</td>\n",
       "      <td>0.389610</td>\n",
       "      <td>0.578498</td>\n",
       "      <td>0.393219</td>\n",
       "      <td>0.562296</td>\n",
       "    </tr>\n",
       "    <tr>\n",
       "      <th>10</th>\n",
       "      <td>CAT__REASON_DebtCon</td>\n",
       "      <td>-0.057227</td>\n",
       "      <td>-0.097353</td>\n",
       "      <td>-0.014307</td>\n",
       "      <td>-0.095532</td>\n",
       "      <td>-0.018923</td>\n",
       "    </tr>\n",
       "    <tr>\n",
       "      <th>11</th>\n",
       "      <td>CAT__REASON_HomeImp</td>\n",
       "      <td>0.057227</td>\n",
       "      <td>0.014307</td>\n",
       "      <td>0.097353</td>\n",
       "      <td>0.018923</td>\n",
       "      <td>0.095532</td>\n",
       "    </tr>\n",
       "    <tr>\n",
       "      <th>12</th>\n",
       "      <td>CAT__JOB_Mgr</td>\n",
       "      <td>-0.001463</td>\n",
       "      <td>-0.066002</td>\n",
       "      <td>0.045430</td>\n",
       "      <td>-0.062911</td>\n",
       "      <td>0.059985</td>\n",
       "    </tr>\n",
       "    <tr>\n",
       "      <th>13</th>\n",
       "      <td>CAT__JOB_Office</td>\n",
       "      <td>-0.235972</td>\n",
       "      <td>-0.341948</td>\n",
       "      <td>-0.156375</td>\n",
       "      <td>-0.304779</td>\n",
       "      <td>-0.167166</td>\n",
       "    </tr>\n",
       "    <tr>\n",
       "      <th>14</th>\n",
       "      <td>CAT__JOB_Other</td>\n",
       "      <td>0.000000</td>\n",
       "      <td>-0.087118</td>\n",
       "      <td>0.049357</td>\n",
       "      <td>-0.051346</td>\n",
       "      <td>0.051346</td>\n",
       "    </tr>\n",
       "    <tr>\n",
       "      <th>15</th>\n",
       "      <td>CAT__JOB_ProfExe</td>\n",
       "      <td>0.030724</td>\n",
       "      <td>-0.035119</td>\n",
       "      <td>0.093920</td>\n",
       "      <td>-0.032012</td>\n",
       "      <td>0.093461</td>\n",
       "    </tr>\n",
       "    <tr>\n",
       "      <th>16</th>\n",
       "      <td>CAT__JOB_Sales</td>\n",
       "      <td>0.138122</td>\n",
       "      <td>0.054219</td>\n",
       "      <td>0.207978</td>\n",
       "      <td>0.075430</td>\n",
       "      <td>0.200813</td>\n",
       "    </tr>\n",
       "    <tr>\n",
       "      <th>17</th>\n",
       "      <td>CAT__JOB_Self</td>\n",
       "      <td>0.118092</td>\n",
       "      <td>0.047031</td>\n",
       "      <td>0.179213</td>\n",
       "      <td>0.053472</td>\n",
       "      <td>0.182712</td>\n",
       "    </tr>\n",
       "  </tbody>\n",
       "</table>\n",
       "</div>"
      ],
      "text/plain": [
       "                Feature  Coefficient  2.5% Boost  97.5% Boost  2.5% Mate  \\\n",
       "0             NUM__LOAN    -0.189999   -0.286748    -0.095245  -0.274824   \n",
       "1          NUM__MORTDUE    -0.119496   -0.266579     0.000021  -0.256141   \n",
       "2            NUM__VALUE     0.019866   -0.121511     0.156846  -0.122632   \n",
       "3              NUM__YOJ    -0.057230   -0.143642     0.020597  -0.139374   \n",
       "4            NUM__DEROG     0.459997    0.385866     0.551530   0.383580   \n",
       "5           NUM__DELINQ     0.827971    0.743259     0.927013   0.747880   \n",
       "6            NUM__CLAGE    -0.461445   -0.548906    -0.382320  -0.544754   \n",
       "7             NUM__NINQ     0.289122    0.215462     0.360565   0.219813   \n",
       "8             NUM__CLNO    -0.170141   -0.263560    -0.081062  -0.254399   \n",
       "9          NUM__DEBTINC     0.477757    0.389610     0.578498   0.393219   \n",
       "10  CAT__REASON_DebtCon    -0.057227   -0.097353    -0.014307  -0.095532   \n",
       "11  CAT__REASON_HomeImp     0.057227    0.014307     0.097353   0.018923   \n",
       "12         CAT__JOB_Mgr    -0.001463   -0.066002     0.045430  -0.062911   \n",
       "13      CAT__JOB_Office    -0.235972   -0.341948    -0.156375  -0.304779   \n",
       "14       CAT__JOB_Other     0.000000   -0.087118     0.049357  -0.051346   \n",
       "15     CAT__JOB_ProfExe     0.030724   -0.035119     0.093920  -0.032012   \n",
       "16       CAT__JOB_Sales     0.138122    0.054219     0.207978   0.075430   \n",
       "17        CAT__JOB_Self     0.118092    0.047031     0.179213   0.053472   \n",
       "\n",
       "    97.5% Mate  \n",
       "0    -0.105175  \n",
       "1     0.017149  \n",
       "2     0.162364  \n",
       "3     0.024915  \n",
       "4     0.536413  \n",
       "5     0.908062  \n",
       "6    -0.378137  \n",
       "7     0.358431  \n",
       "8    -0.085883  \n",
       "9     0.562296  \n",
       "10   -0.018923  \n",
       "11    0.095532  \n",
       "12    0.059985  \n",
       "13   -0.167166  \n",
       "14    0.051346  \n",
       "15    0.093461  \n",
       "16    0.200813  \n",
       "17    0.182712  "
      ]
     },
     "execution_count": 126,
     "metadata": {},
     "output_type": "execute_result"
    }
   ],
   "source": [
    "intervalos = pd.DataFrame({'Feature':X_tr.columns.tolist(),\n",
    "                         'Coefficient': coefficients,\n",
    "                          '2.5% Boost': lower_ci,\n",
    "                          '97.5% Boost': upper_ci,\n",
    "                          '2.5% Mate': lower_interval,\n",
    "                          '97.5% Mate': upper_interval})\n",
    "\n",
    "intervalos"
   ]
  },
  {
   "cell_type": "code",
   "execution_count": 127,
   "id": "8534cc75-ebaf-4f68-b119-4344114390b9",
   "metadata": {},
   "outputs": [
    {
     "data": {
      "image/png": "[encoded data removed]",
      "text/plain": [
       "<Figure size 720x432 with 1 Axes>"
      ]
     },
     "metadata": {
      "needs_background": "light"
     },
     "output_type": "display_data"
    }
   ],
   "source": [
    "plot_confidence_intervals(coefficent_names, coefficients, lower_interval, upper_interval, flag_scaled = True)"
   ]
  },
  {
   "cell_type": "code",
   "execution_count": 144,
   "id": "0c08b5b5-6297-4ee9-9680-cd50b2db97f7",
   "metadata": {},
   "outputs": [
    {
     "data": {
      "text/html": [
       "<div>\n",
       "<style scoped>\n",
       "    .dataframe tbody tr th:only-of-type {\n",
       "        vertical-align: middle;\n",
       "    }\n",
       "\n",
       "    .dataframe tbody tr th {\n",
       "        vertical-align: top;\n",
       "    }\n",
       "\n",
       "    .dataframe thead th {\n",
       "        text-align: right;\n",
       "    }\n",
       "</style>\n",
       "<table border=\"1\" class=\"dataframe\">\n",
       "  <thead>\n",
       "    <tr style=\"text-align: right;\">\n",
       "      <th></th>\n",
       "      <th>Metric</th>\n",
       "      <th>Train</th>\n",
       "      <th>Test</th>\n",
       "    </tr>\n",
       "  </thead>\n",
       "  <tbody>\n",
       "    <tr>\n",
       "      <th>0</th>\n",
       "      <td>accuracy</td>\n",
       "      <td>0.841443</td>\n",
       "      <td>0.835906</td>\n",
       "    </tr>\n",
       "    <tr>\n",
       "      <th>1</th>\n",
       "      <td>recall</td>\n",
       "      <td>0.329686</td>\n",
       "      <td>0.306889</td>\n",
       "    </tr>\n",
       "    <tr>\n",
       "      <th>2</th>\n",
       "      <td>precision</td>\n",
       "      <td>0.725739</td>\n",
       "      <td>0.754966</td>\n",
       "    </tr>\n",
       "    <tr>\n",
       "      <th>3</th>\n",
       "      <td>f1</td>\n",
       "      <td>0.453121</td>\n",
       "      <td>0.423462</td>\n",
       "    </tr>\n",
       "    <tr>\n",
       "      <th>4</th>\n",
       "      <td>roc_auc</td>\n",
       "      <td>0.809528</td>\n",
       "      <td>0.785681</td>\n",
       "    </tr>\n",
       "  </tbody>\n",
       "</table>\n",
       "</div>"
      ],
      "text/plain": [
       "      Metric     Train      Test\n",
       "0   accuracy  0.841443  0.835906\n",
       "1     recall  0.329686  0.306889\n",
       "2  precision  0.725739  0.754966\n",
       "3         f1  0.453121  0.423462\n",
       "4    roc_auc  0.809528  0.785681"
      ]
     },
     "metadata": {},
     "output_type": "display_data"
    }
   ],
   "source": [
    "train_scores = list()\n",
    "test_scores = list()\n",
    "scores = ['accuracy', 'recall', 'precision', 'f1', 'roc_auc']\n",
    "for score in scores:\n",
    "    train_score, test_score = get_metrics(X_tr, y, model_pipe, score)\n",
    "    train_scores.append(train_score)\n",
    "    test_scores.append(test_score)\n",
    "metrics = pd.DataFrame({'Metric': scores,\n",
    "                        'Train': train_scores,\n",
    "                        'Test': test_scores})\n",
    "display(metrics)"
   ]
  },
  {
   "cell_type": "markdown",
   "id": "ad2afa84-3b50-4f48-a9c3-073ced7dda37",
   "metadata": {},
   "source": [
    "### Elasticnet"
   ]
  },
  {
   "cell_type": "code",
   "execution_count": 132,
   "id": "80e8ca28-49b0-444b-8094-65026604be0c",
   "metadata": {},
   "outputs": [
    {
     "name": "stdout",
     "output_type": "stream",
     "text": [
      "Intercept: -1.7304304918971434\n",
      "Coefficients: [-0.19062531 -0.12205608  0.02258361 -0.05777132  0.46033175  0.82836643\n",
      " -0.46165445  0.28953909 -0.1706085   0.47827588 -0.05733953  0.05733953\n",
      " -0.00172707 -0.23644665  0.          0.03121837  0.13843186  0.11824901]\n"
     ]
    }
   ],
   "source": [
    "penalty_a='elasticnet'\n",
    "l1_ratio_value = 0.7\n",
    "model = LogisticRegression(solver = 'saga', random_state = 23,penalty=penalty_a,l1_ratio=l1_ratio_value)\n",
    "model_pipe = make_pipeline(StandardScaler(), model)\n",
    "model_pipe.fit(X_tr, y)\n",
    "\n",
    "coefficients = model_pipe[-1].coef_[0]\n",
    "print(\"Intercept:\", model_pipe[-1].intercept_[0])\n",
    "print(\"Coefficients:\", model_pipe[-1].coef_[0])"
   ]
  },
  {
   "cell_type": "code",
   "execution_count": 138,
   "id": "8f2dab59-c168-407d-8bf9-1cfe26fab95e",
   "metadata": {},
   "outputs": [
    {
     "name": "stdout",
     "output_type": "stream",
     "text": [
      "Coefficient Confidence Intervals\n",
      "Lower bound: [-0.2890193  -0.26067126 -0.09981089 -0.14493482  0.38788461  0.73738183\n",
      " -0.54622944  0.22235007 -0.26649408  0.39230863 -0.0984084   0.0191356\n",
      " -0.07462829 -0.34041079 -0.08250775 -0.03279101  0.06259183  0.04886392]\n",
      "Upper bound: [-0.09713271  0.          0.15638887  0.0267231   0.55828621  0.94070498\n",
      " -0.38460761  0.36818934 -0.08376665  0.57917404 -0.0191356   0.0984084\n",
      "  0.04242009 -0.15670828  0.0407445   0.09970799  0.20679815  0.17565398]\n"
     ]
    }
   ],
   "source": [
    "# getting confidence interval from coefficents\n",
    "flow_pipe = make_pipeline(transformer, StandardScaler())\n",
    "lower_ci, upper_ci = bootstrap_confidence_interval_logistic(flow_pipe, X, y,1000,'elasticnet')\n",
    "print(\"Coefficient Confidence Intervals\")\n",
    "print(\"Lower bound:\", lower_ci)\n",
    "print(\"Upper bound:\", upper_ci)"
   ]
  },
  {
   "cell_type": "code",
   "execution_count": 139,
   "id": "3be4d124-f2ec-406c-9313-3e5e53d57534",
   "metadata": {},
   "outputs": [
    {
     "data": {
      "text/html": [
       "<div>\n",
       "<style scoped>\n",
       "    .dataframe tbody tr th:only-of-type {\n",
       "        vertical-align: middle;\n",
       "    }\n",
       "\n",
       "    .dataframe tbody tr th {\n",
       "        vertical-align: top;\n",
       "    }\n",
       "\n",
       "    .dataframe thead th {\n",
       "        text-align: right;\n",
       "    }\n",
       "</style>\n",
       "<table border=\"1\" class=\"dataframe\">\n",
       "  <thead>\n",
       "    <tr style=\"text-align: right;\">\n",
       "      <th></th>\n",
       "      <th>Feature</th>\n",
       "      <th>Coefficient</th>\n",
       "      <th>2.5%</th>\n",
       "      <th>97.5%</th>\n",
       "    </tr>\n",
       "  </thead>\n",
       "  <tbody>\n",
       "    <tr>\n",
       "      <th>0</th>\n",
       "      <td>NUM__LOAN</td>\n",
       "      <td>-0.190625</td>\n",
       "      <td>-0.289019</td>\n",
       "      <td>-0.097133</td>\n",
       "    </tr>\n",
       "    <tr>\n",
       "      <th>1</th>\n",
       "      <td>NUM__MORTDUE</td>\n",
       "      <td>-0.122056</td>\n",
       "      <td>-0.260671</td>\n",
       "      <td>0.000000</td>\n",
       "    </tr>\n",
       "    <tr>\n",
       "      <th>2</th>\n",
       "      <td>NUM__VALUE</td>\n",
       "      <td>0.022584</td>\n",
       "      <td>-0.099811</td>\n",
       "      <td>0.156389</td>\n",
       "    </tr>\n",
       "    <tr>\n",
       "      <th>3</th>\n",
       "      <td>NUM__YOJ</td>\n",
       "      <td>-0.057771</td>\n",
       "      <td>-0.144935</td>\n",
       "      <td>0.026723</td>\n",
       "    </tr>\n",
       "    <tr>\n",
       "      <th>4</th>\n",
       "      <td>NUM__DEROG</td>\n",
       "      <td>0.460332</td>\n",
       "      <td>0.387885</td>\n",
       "      <td>0.558286</td>\n",
       "    </tr>\n",
       "    <tr>\n",
       "      <th>5</th>\n",
       "      <td>NUM__DELINQ</td>\n",
       "      <td>0.828366</td>\n",
       "      <td>0.737382</td>\n",
       "      <td>0.940705</td>\n",
       "    </tr>\n",
       "    <tr>\n",
       "      <th>6</th>\n",
       "      <td>NUM__CLAGE</td>\n",
       "      <td>-0.461654</td>\n",
       "      <td>-0.546229</td>\n",
       "      <td>-0.384608</td>\n",
       "    </tr>\n",
       "    <tr>\n",
       "      <th>7</th>\n",
       "      <td>NUM__NINQ</td>\n",
       "      <td>0.289539</td>\n",
       "      <td>0.222350</td>\n",
       "      <td>0.368189</td>\n",
       "    </tr>\n",
       "    <tr>\n",
       "      <th>8</th>\n",
       "      <td>NUM__CLNO</td>\n",
       "      <td>-0.170608</td>\n",
       "      <td>-0.266494</td>\n",
       "      <td>-0.083767</td>\n",
       "    </tr>\n",
       "    <tr>\n",
       "      <th>9</th>\n",
       "      <td>NUM__DEBTINC</td>\n",
       "      <td>0.478276</td>\n",
       "      <td>0.392309</td>\n",
       "      <td>0.579174</td>\n",
       "    </tr>\n",
       "    <tr>\n",
       "      <th>10</th>\n",
       "      <td>CAT__REASON_DebtCon</td>\n",
       "      <td>-0.057340</td>\n",
       "      <td>-0.098408</td>\n",
       "      <td>-0.019136</td>\n",
       "    </tr>\n",
       "    <tr>\n",
       "      <th>11</th>\n",
       "      <td>CAT__REASON_HomeImp</td>\n",
       "      <td>0.057340</td>\n",
       "      <td>0.019136</td>\n",
       "      <td>0.098408</td>\n",
       "    </tr>\n",
       "    <tr>\n",
       "      <th>12</th>\n",
       "      <td>CAT__JOB_Mgr</td>\n",
       "      <td>-0.001727</td>\n",
       "      <td>-0.074628</td>\n",
       "      <td>0.042420</td>\n",
       "    </tr>\n",
       "    <tr>\n",
       "      <th>13</th>\n",
       "      <td>CAT__JOB_Office</td>\n",
       "      <td>-0.236447</td>\n",
       "      <td>-0.340411</td>\n",
       "      <td>-0.156708</td>\n",
       "    </tr>\n",
       "    <tr>\n",
       "      <th>14</th>\n",
       "      <td>CAT__JOB_Other</td>\n",
       "      <td>0.000000</td>\n",
       "      <td>-0.082508</td>\n",
       "      <td>0.040744</td>\n",
       "    </tr>\n",
       "    <tr>\n",
       "      <th>15</th>\n",
       "      <td>CAT__JOB_ProfExe</td>\n",
       "      <td>0.031218</td>\n",
       "      <td>-0.032791</td>\n",
       "      <td>0.099708</td>\n",
       "    </tr>\n",
       "    <tr>\n",
       "      <th>16</th>\n",
       "      <td>CAT__JOB_Sales</td>\n",
       "      <td>0.138432</td>\n",
       "      <td>0.062592</td>\n",
       "      <td>0.206798</td>\n",
       "    </tr>\n",
       "    <tr>\n",
       "      <th>17</th>\n",
       "      <td>CAT__JOB_Self</td>\n",
       "      <td>0.118249</td>\n",
       "      <td>0.048864</td>\n",
       "      <td>0.175654</td>\n",
       "    </tr>\n",
       "  </tbody>\n",
       "</table>\n",
       "</div>"
      ],
      "text/plain": [
       "                Feature  Coefficient      2.5%     97.5%\n",
       "0             NUM__LOAN    -0.190625 -0.289019 -0.097133\n",
       "1          NUM__MORTDUE    -0.122056 -0.260671  0.000000\n",
       "2            NUM__VALUE     0.022584 -0.099811  0.156389\n",
       "3              NUM__YOJ    -0.057771 -0.144935  0.026723\n",
       "4            NUM__DEROG     0.460332  0.387885  0.558286\n",
       "5           NUM__DELINQ     0.828366  0.737382  0.940705\n",
       "6            NUM__CLAGE    -0.461654 -0.546229 -0.384608\n",
       "7             NUM__NINQ     0.289539  0.222350  0.368189\n",
       "8             NUM__CLNO    -0.170608 -0.266494 -0.083767\n",
       "9          NUM__DEBTINC     0.478276  0.392309  0.579174\n",
       "10  CAT__REASON_DebtCon    -0.057340 -0.098408 -0.019136\n",
       "11  CAT__REASON_HomeImp     0.057340  0.019136  0.098408\n",
       "12         CAT__JOB_Mgr    -0.001727 -0.074628  0.042420\n",
       "13      CAT__JOB_Office    -0.236447 -0.340411 -0.156708\n",
       "14       CAT__JOB_Other     0.000000 -0.082508  0.040744\n",
       "15     CAT__JOB_ProfExe     0.031218 -0.032791  0.099708\n",
       "16       CAT__JOB_Sales     0.138432  0.062592  0.206798\n",
       "17        CAT__JOB_Self     0.118249  0.048864  0.175654"
      ]
     },
     "execution_count": 139,
     "metadata": {},
     "output_type": "execute_result"
    }
   ],
   "source": [
    "bootstrap = pd.DataFrame({'Feature':X_tr.columns.tolist(),\n",
    "                         'Coefficient': coefficients,\n",
    "                          '2.5%': lower_ci,\n",
    "                          '97.5%': upper_ci})\n",
    "\n",
    "bootstrap"
   ]
  },
  {
   "cell_type": "code",
   "execution_count": 140,
   "id": "5aa3b448-7c92-47f1-b994-eb097473f8d4",
   "metadata": {},
   "outputs": [
    {
     "data": {
      "image/png": "[encoded data removed]",
      "text/plain": [
       "<Figure size 720x432 with 1 Axes>"
      ]
     },
     "metadata": {
      "needs_background": "light"
     },
     "output_type": "display_data"
    }
   ],
   "source": [
    "coefficent_names = X_tr.columns\n",
    "plt.figure(figsize=(10, 6))\n",
    "\n",
    "plt.errorbar(coefficent_names, coefficients, yerr = [coefficients - lower_ci, upper_ci - coefficients],\n",
    "             fmt='o', color='blue', ecolor='orange', capsize=5, elinewidth=2)\n",
    "\n",
    "plt.xlabel('Coefficients')\n",
    "plt.ylabel('Coefficient Value')\n",
    "plt.title('Coefficent values with confidence intervals')\n",
    "\n",
    "plt.xticks(rotation=45)\n",
    "plt.savefig(\"Imagen_Intervalos.png\")\n",
    "plt.show()"
   ]
  },
  {
   "cell_type": "code",
   "execution_count": 141,
   "id": "288c7e23-e179-464d-a12c-1ca6a29f4bee",
   "metadata": {},
   "outputs": [],
   "source": [
    "# calculating the probabilities\n",
    "X_sc = model_pipe[0].transform(X_tr)\n",
    "prob = model_pipe.predict_proba(X_tr)[:, 1]\n",
    "# getting covariate matrix\n",
    "W = np.diag(prob * (1 - prob))\n",
    "# calculating the standard deviation\n",
    "std = np.sqrt(np.diag(np.linalg.pinv(np.dot(np.dot(X_sc.T, W), X_sc))))\n",
    "# getting confidence intervals\n",
    "lower_interval = coefficients - np.abs(norm.ppf(0.025)) * std\n",
    "upper_interval = coefficients + np.abs(norm.ppf(0.025)) * std"
   ]
  },
  {
   "cell_type": "code",
   "execution_count": 142,
   "id": "6eece466-7e72-42f6-beae-c49e049b7faf",
   "metadata": {},
   "outputs": [
    {
     "data": {
      "text/html": [
       "<div>\n",
       "<style scoped>\n",
       "    .dataframe tbody tr th:only-of-type {\n",
       "        vertical-align: middle;\n",
       "    }\n",
       "\n",
       "    .dataframe tbody tr th {\n",
       "        vertical-align: top;\n",
       "    }\n",
       "\n",
       "    .dataframe thead th {\n",
       "        text-align: right;\n",
       "    }\n",
       "</style>\n",
       "<table border=\"1\" class=\"dataframe\">\n",
       "  <thead>\n",
       "    <tr style=\"text-align: right;\">\n",
       "      <th></th>\n",
       "      <th>Feature</th>\n",
       "      <th>Coefficient</th>\n",
       "      <th>2.5% Boost</th>\n",
       "      <th>97.5% Boost</th>\n",
       "      <th>2.5% Mate</th>\n",
       "      <th>97.5% Mate</th>\n",
       "    </tr>\n",
       "  </thead>\n",
       "  <tbody>\n",
       "    <tr>\n",
       "      <th>0</th>\n",
       "      <td>NUM__LOAN</td>\n",
       "      <td>-0.190625</td>\n",
       "      <td>-0.289019</td>\n",
       "      <td>-0.097133</td>\n",
       "      <td>-0.275470</td>\n",
       "      <td>-0.105780</td>\n",
       "    </tr>\n",
       "    <tr>\n",
       "      <th>1</th>\n",
       "      <td>NUM__MORTDUE</td>\n",
       "      <td>-0.122056</td>\n",
       "      <td>-0.260671</td>\n",
       "      <td>0.000000</td>\n",
       "      <td>-0.258752</td>\n",
       "      <td>0.014640</td>\n",
       "    </tr>\n",
       "    <tr>\n",
       "      <th>2</th>\n",
       "      <td>NUM__VALUE</td>\n",
       "      <td>0.022584</td>\n",
       "      <td>-0.099811</td>\n",
       "      <td>0.156389</td>\n",
       "      <td>-0.119975</td>\n",
       "      <td>0.165143</td>\n",
       "    </tr>\n",
       "    <tr>\n",
       "      <th>3</th>\n",
       "      <td>NUM__YOJ</td>\n",
       "      <td>-0.057771</td>\n",
       "      <td>-0.144935</td>\n",
       "      <td>0.026723</td>\n",
       "      <td>-0.139939</td>\n",
       "      <td>0.024396</td>\n",
       "    </tr>\n",
       "    <tr>\n",
       "      <th>4</th>\n",
       "      <td>NUM__DEROG</td>\n",
       "      <td>0.460332</td>\n",
       "      <td>0.387885</td>\n",
       "      <td>0.558286</td>\n",
       "      <td>0.383889</td>\n",
       "      <td>0.536775</td>\n",
       "    </tr>\n",
       "    <tr>\n",
       "      <th>5</th>\n",
       "      <td>NUM__DELINQ</td>\n",
       "      <td>0.828366</td>\n",
       "      <td>0.737382</td>\n",
       "      <td>0.940705</td>\n",
       "      <td>0.748252</td>\n",
       "      <td>0.908481</td>\n",
       "    </tr>\n",
       "    <tr>\n",
       "      <th>6</th>\n",
       "      <td>NUM__CLAGE</td>\n",
       "      <td>-0.461654</td>\n",
       "      <td>-0.546229</td>\n",
       "      <td>-0.384608</td>\n",
       "      <td>-0.544969</td>\n",
       "      <td>-0.378340</td>\n",
       "    </tr>\n",
       "    <tr>\n",
       "      <th>7</th>\n",
       "      <td>NUM__NINQ</td>\n",
       "      <td>0.289539</td>\n",
       "      <td>0.222350</td>\n",
       "      <td>0.368189</td>\n",
       "      <td>0.220224</td>\n",
       "      <td>0.358854</td>\n",
       "    </tr>\n",
       "    <tr>\n",
       "      <th>8</th>\n",
       "      <td>NUM__CLNO</td>\n",
       "      <td>-0.170608</td>\n",
       "      <td>-0.266494</td>\n",
       "      <td>-0.083767</td>\n",
       "      <td>-0.254878</td>\n",
       "      <td>-0.086339</td>\n",
       "    </tr>\n",
       "    <tr>\n",
       "      <th>9</th>\n",
       "      <td>NUM__DEBTINC</td>\n",
       "      <td>0.478276</td>\n",
       "      <td>0.392309</td>\n",
       "      <td>0.579174</td>\n",
       "      <td>0.393719</td>\n",
       "      <td>0.562832</td>\n",
       "    </tr>\n",
       "    <tr>\n",
       "      <th>10</th>\n",
       "      <td>CAT__REASON_DebtCon</td>\n",
       "      <td>-0.057340</td>\n",
       "      <td>-0.098408</td>\n",
       "      <td>-0.019136</td>\n",
       "      <td>-0.095647</td>\n",
       "      <td>-0.019032</td>\n",
       "    </tr>\n",
       "    <tr>\n",
       "      <th>11</th>\n",
       "      <td>CAT__REASON_HomeImp</td>\n",
       "      <td>0.057340</td>\n",
       "      <td>0.019136</td>\n",
       "      <td>0.098408</td>\n",
       "      <td>0.019032</td>\n",
       "      <td>0.095647</td>\n",
       "    </tr>\n",
       "    <tr>\n",
       "      <th>12</th>\n",
       "      <td>CAT__JOB_Mgr</td>\n",
       "      <td>-0.001727</td>\n",
       "      <td>-0.074628</td>\n",
       "      <td>0.042420</td>\n",
       "      <td>-0.063196</td>\n",
       "      <td>0.059742</td>\n",
       "    </tr>\n",
       "    <tr>\n",
       "      <th>13</th>\n",
       "      <td>CAT__JOB_Office</td>\n",
       "      <td>-0.236447</td>\n",
       "      <td>-0.340411</td>\n",
       "      <td>-0.156708</td>\n",
       "      <td>-0.305279</td>\n",
       "      <td>-0.167614</td>\n",
       "    </tr>\n",
       "    <tr>\n",
       "      <th>14</th>\n",
       "      <td>CAT__JOB_Other</td>\n",
       "      <td>0.000000</td>\n",
       "      <td>-0.082508</td>\n",
       "      <td>0.040744</td>\n",
       "      <td>-0.051354</td>\n",
       "      <td>0.051354</td>\n",
       "    </tr>\n",
       "    <tr>\n",
       "      <th>15</th>\n",
       "      <td>CAT__JOB_ProfExe</td>\n",
       "      <td>0.031218</td>\n",
       "      <td>-0.032791</td>\n",
       "      <td>0.099708</td>\n",
       "      <td>-0.031516</td>\n",
       "      <td>0.093953</td>\n",
       "    </tr>\n",
       "    <tr>\n",
       "      <th>16</th>\n",
       "      <td>CAT__JOB_Sales</td>\n",
       "      <td>0.138432</td>\n",
       "      <td>0.062592</td>\n",
       "      <td>0.206798</td>\n",
       "      <td>0.075749</td>\n",
       "      <td>0.201115</td>\n",
       "    </tr>\n",
       "    <tr>\n",
       "      <th>17</th>\n",
       "      <td>CAT__JOB_Self</td>\n",
       "      <td>0.118249</td>\n",
       "      <td>0.048864</td>\n",
       "      <td>0.175654</td>\n",
       "      <td>0.053636</td>\n",
       "      <td>0.182862</td>\n",
       "    </tr>\n",
       "  </tbody>\n",
       "</table>\n",
       "</div>"
      ],
      "text/plain": [
       "                Feature  Coefficient  2.5% Boost  97.5% Boost  2.5% Mate  \\\n",
       "0             NUM__LOAN    -0.190625   -0.289019    -0.097133  -0.275470   \n",
       "1          NUM__MORTDUE    -0.122056   -0.260671     0.000000  -0.258752   \n",
       "2            NUM__VALUE     0.022584   -0.099811     0.156389  -0.119975   \n",
       "3              NUM__YOJ    -0.057771   -0.144935     0.026723  -0.139939   \n",
       "4            NUM__DEROG     0.460332    0.387885     0.558286   0.383889   \n",
       "5           NUM__DELINQ     0.828366    0.737382     0.940705   0.748252   \n",
       "6            NUM__CLAGE    -0.461654   -0.546229    -0.384608  -0.544969   \n",
       "7             NUM__NINQ     0.289539    0.222350     0.368189   0.220224   \n",
       "8             NUM__CLNO    -0.170608   -0.266494    -0.083767  -0.254878   \n",
       "9          NUM__DEBTINC     0.478276    0.392309     0.579174   0.393719   \n",
       "10  CAT__REASON_DebtCon    -0.057340   -0.098408    -0.019136  -0.095647   \n",
       "11  CAT__REASON_HomeImp     0.057340    0.019136     0.098408   0.019032   \n",
       "12         CAT__JOB_Mgr    -0.001727   -0.074628     0.042420  -0.063196   \n",
       "13      CAT__JOB_Office    -0.236447   -0.340411    -0.156708  -0.305279   \n",
       "14       CAT__JOB_Other     0.000000   -0.082508     0.040744  -0.051354   \n",
       "15     CAT__JOB_ProfExe     0.031218   -0.032791     0.099708  -0.031516   \n",
       "16       CAT__JOB_Sales     0.138432    0.062592     0.206798   0.075749   \n",
       "17        CAT__JOB_Self     0.118249    0.048864     0.175654   0.053636   \n",
       "\n",
       "    97.5% Mate  \n",
       "0    -0.105780  \n",
       "1     0.014640  \n",
       "2     0.165143  \n",
       "3     0.024396  \n",
       "4     0.536775  \n",
       "5     0.908481  \n",
       "6    -0.378340  \n",
       "7     0.358854  \n",
       "8    -0.086339  \n",
       "9     0.562832  \n",
       "10   -0.019032  \n",
       "11    0.095647  \n",
       "12    0.059742  \n",
       "13   -0.167614  \n",
       "14    0.051354  \n",
       "15    0.093953  \n",
       "16    0.201115  \n",
       "17    0.182862  "
      ]
     },
     "execution_count": 142,
     "metadata": {},
     "output_type": "execute_result"
    }
   ],
   "source": [
    "intervalos = pd.DataFrame({'Feature':X_tr.columns.tolist(),\n",
    "                         'Coefficient': coefficients,\n",
    "                          '2.5% Boost': lower_ci,\n",
    "                          '97.5% Boost': upper_ci,\n",
    "                          '2.5% Mate': lower_interval,\n",
    "                          '97.5% Mate': upper_interval})\n",
    "\n",
    "intervalos"
   ]
  },
  {
   "cell_type": "code",
   "execution_count": 143,
   "id": "e6ee8576-25ae-4a64-ba63-e80fbb9b574f",
   "metadata": {},
   "outputs": [
    {
     "data": {
      "image/png": "[encoded data removed]",
      "text/plain": [
       "<Figure size 720x432 with 1 Axes>"
      ]
     },
     "metadata": {
      "needs_background": "light"
     },
     "output_type": "display_data"
    }
   ],
   "source": [
    "plot_confidence_intervals(coefficent_names, coefficients, lower_interval, upper_interval, flag_scaled = True)"
   ]
  },
  {
   "cell_type": "code",
   "execution_count": 168,
   "id": "61910609-1700-4913-91d3-d3d338e7d10b",
   "metadata": {},
   "outputs": [
    {
     "data": {
      "text/html": [
       "<div>\n",
       "<style scoped>\n",
       "    .dataframe tbody tr th:only-of-type {\n",
       "        vertical-align: middle;\n",
       "    }\n",
       "\n",
       "    .dataframe tbody tr th {\n",
       "        vertical-align: top;\n",
       "    }\n",
       "\n",
       "    .dataframe thead th {\n",
       "        text-align: right;\n",
       "    }\n",
       "</style>\n",
       "<table border=\"1\" class=\"dataframe\">\n",
       "  <thead>\n",
       "    <tr style=\"text-align: right;\">\n",
       "      <th></th>\n",
       "      <th>Metric</th>\n",
       "      <th>Train</th>\n",
       "      <th>Test</th>\n",
       "    </tr>\n",
       "  </thead>\n",
       "  <tbody>\n",
       "    <tr>\n",
       "      <th>0</th>\n",
       "      <td>accuracy</td>\n",
       "      <td>0.841275</td>\n",
       "      <td>0.836074</td>\n",
       "    </tr>\n",
       "    <tr>\n",
       "      <th>1</th>\n",
       "      <td>recall</td>\n",
       "      <td>0.330527</td>\n",
       "      <td>0.308574</td>\n",
       "    </tr>\n",
       "    <tr>\n",
       "      <th>2</th>\n",
       "      <td>precision</td>\n",
       "      <td>0.723557</td>\n",
       "      <td>0.754244</td>\n",
       "    </tr>\n",
       "    <tr>\n",
       "      <th>3</th>\n",
       "      <td>f1</td>\n",
       "      <td>0.453520</td>\n",
       "      <td>0.425126</td>\n",
       "    </tr>\n",
       "    <tr>\n",
       "      <th>4</th>\n",
       "      <td>roc_auc</td>\n",
       "      <td>0.809492</td>\n",
       "      <td>0.785519</td>\n",
       "    </tr>\n",
       "  </tbody>\n",
       "</table>\n",
       "</div>"
      ],
      "text/plain": [
       "      Metric     Train      Test\n",
       "0   accuracy  0.841275  0.836074\n",
       "1     recall  0.330527  0.308574\n",
       "2  precision  0.723557  0.754244\n",
       "3         f1  0.453520  0.425126\n",
       "4    roc_auc  0.809492  0.785519"
      ]
     },
     "metadata": {},
     "output_type": "display_data"
    }
   ],
   "source": [
    "model = LogisticRegression(solver = 'saga', random_state = 23, penalty = None)\n",
    "regular_pipe = make_pipeline(StandardScaler(), model)\n",
    "train_scores = list()\n",
    "test_scores = list()\n",
    "scores = ['accuracy', 'recall', 'precision', 'f1', 'roc_auc']\n",
    "for score in scores:\n",
    "    train_score, test_score = get_metrics(X_tr, y, regular_pipe, score)\n",
    "    train_scores.append(train_score)\n",
    "    test_scores.append(test_score)\n",
    "\n",
    "metrics = pd.DataFrame({'Metric': scores, \n",
    "                        'Train': train_scores,\n",
    "                        'Test': test_scores})\n",
    "display(metrics)"
   ]
  },
  {
   "cell_type": "markdown",
   "id": "e36c1fd9-c95a-4354-9167-e7b42c42069b",
   "metadata": {},
   "source": [
    "# Verifying assumptions"
   ]
  },
  {
   "cell_type": "markdown",
   "id": "2e623671-192c-4da1-b06b-a6f9d685f978",
   "metadata": {},
   "source": [
    "Fitting selected model"
   ]
  },
  {
   "cell_type": "code",
   "execution_count": 172,
   "id": "3116449c-c94b-4845-a128-a25061e455e6",
   "metadata": {},
   "outputs": [],
   "source": [
    "regular_pipe.fit(X_tr, y)\n",
    "X_sc = pd.DataFrame(regular_pipe[0].transform(X_tr), columns = X_tr.columns)"
   ]
  },
  {
   "cell_type": "markdown",
   "id": "c8536851-de6a-423e-907c-5f8b3f62441f",
   "metadata": {},
   "source": [
    "**Target Assumption (Bernoulli Distribution)**"
   ]
  },
  {
   "cell_type": "code",
   "execution_count": 173,
   "id": "8960744e-4b65-4dc9-901b-e3dc9df344dc",
   "metadata": {},
   "outputs": [
    {
     "data": {
      "image/png": "[encoded data removed]",
      "text/plain": [
       "<Figure size 432x288 with 1 Axes>"
      ]
     },
     "metadata": {
      "needs_background": "light"
     },
     "output_type": "display_data"
    }
   ],
   "source": [
    "y.value_counts().plot(kind = 'bar', rot = 0, color = ['lightcoral', 'deepskyblue'])\n",
    "plt.show()"
   ]
  },
  {
   "cell_type": "markdown",
   "id": "d5531a13-c808-4c4d-863f-53355da042dd",
   "metadata": {},
   "source": [
    "**Indepence of Observations Assumption**"
   ]
  },
  {
   "cell_type": "code",
   "execution_count": 174,
   "id": "531074b6-ab36-44a8-b42e-c795f52d6852",
   "metadata": {},
   "outputs": [
    {
     "name": "stdout",
     "output_type": "stream",
     "text": [
      "Chi-square p-value test: 0.0\n"
     ]
    }
   ],
   "source": [
    "_, p_value, _, _ = chi2_contingency(X_tr)\n",
    "\n",
    "print(\"Chi-square p-value test:\", p_value)"
   ]
  },
  {
   "cell_type": "markdown",
   "id": "d251b6d5-5f1b-498c-bca9-7936e25db2cb",
   "metadata": {},
   "source": [
    "**Absence of Multicolinearity**"
   ]
  },
  {
   "cell_type": "code",
   "execution_count": 175,
   "id": "ab3e923e-d0eb-4aca-a497-266a622b9096",
   "metadata": {},
   "outputs": [
    {
     "data": {
      "text/html": [
       "<div>\n",
       "<style scoped>\n",
       "    .dataframe tbody tr th:only-of-type {\n",
       "        vertical-align: middle;\n",
       "    }\n",
       "\n",
       "    .dataframe tbody tr th {\n",
       "        vertical-align: top;\n",
       "    }\n",
       "\n",
       "    .dataframe thead th {\n",
       "        text-align: right;\n",
       "    }\n",
       "</style>\n",
       "<table border=\"1\" class=\"dataframe\">\n",
       "  <thead>\n",
       "    <tr style=\"text-align: right;\">\n",
       "      <th></th>\n",
       "      <th>feature</th>\n",
       "      <th>VIF</th>\n",
       "    </tr>\n",
       "  </thead>\n",
       "  <tbody>\n",
       "    <tr>\n",
       "      <th>0</th>\n",
       "      <td>NUM__LOAN</td>\n",
       "      <td>5.504762</td>\n",
       "    </tr>\n",
       "    <tr>\n",
       "      <th>1</th>\n",
       "      <td>NUM__MORTDUE</td>\n",
       "      <td>16.599262</td>\n",
       "    </tr>\n",
       "    <tr>\n",
       "      <th>2</th>\n",
       "      <td>NUM__VALUE</td>\n",
       "      <td>20.647647</td>\n",
       "    </tr>\n",
       "    <tr>\n",
       "      <th>3</th>\n",
       "      <td>NUM__YOJ</td>\n",
       "      <td>2.604697</td>\n",
       "    </tr>\n",
       "    <tr>\n",
       "      <th>4</th>\n",
       "      <td>NUM__DEROG</td>\n",
       "      <td>1.142806</td>\n",
       "    </tr>\n",
       "    <tr>\n",
       "      <th>5</th>\n",
       "      <td>NUM__DELINQ</td>\n",
       "      <td>1.213577</td>\n",
       "    </tr>\n",
       "    <tr>\n",
       "      <th>6</th>\n",
       "      <td>NUM__CLAGE</td>\n",
       "      <td>6.507489</td>\n",
       "    </tr>\n",
       "    <tr>\n",
       "      <th>7</th>\n",
       "      <td>NUM__NINQ</td>\n",
       "      <td>1.830566</td>\n",
       "    </tr>\n",
       "    <tr>\n",
       "      <th>8</th>\n",
       "      <td>NUM__CLNO</td>\n",
       "      <td>7.698969</td>\n",
       "    </tr>\n",
       "    <tr>\n",
       "      <th>9</th>\n",
       "      <td>NUM__DEBTINC</td>\n",
       "      <td>11.498306</td>\n",
       "    </tr>\n",
       "  </tbody>\n",
       "</table>\n",
       "</div>"
      ],
      "text/plain": [
       "        feature        VIF\n",
       "0     NUM__LOAN   5.504762\n",
       "1  NUM__MORTDUE  16.599262\n",
       "2    NUM__VALUE  20.647647\n",
       "3      NUM__YOJ   2.604697\n",
       "4    NUM__DEROG   1.142806\n",
       "5   NUM__DELINQ   1.213577\n",
       "6    NUM__CLAGE   6.507489\n",
       "7     NUM__NINQ   1.830566\n",
       "8     NUM__CLNO   7.698969\n",
       "9  NUM__DEBTINC  11.498306"
      ]
     },
     "metadata": {},
     "output_type": "display_data"
    }
   ],
   "source": [
    "# numerical values\n",
    "num_col = [column for column in X_tr.columns if 'NUM' in column]\n",
    "num_values = X_tr[num_col].values\n",
    "# VIF dataframe \n",
    "vif_data = pd.DataFrame()\n",
    "vif_data[\"feature\"] = num_col\n",
    "  \n",
    "# calculating VIF for each feature \n",
    "vif_data[\"VIF\"] = [variance_inflation_factor(num_values, i) \n",
    "                          for i in range(len(num_col))]\n",
    "\n",
    "display(vif_data)"
   ]
  },
  {
   "cell_type": "markdown",
   "id": "a9cb9691-89c5-4081-8130-8d1a74aaf99c",
   "metadata": {},
   "source": [
    "**Linearity of log odds and Independent Features Assumption**"
   ]
  },
  {
   "cell_type": "code",
   "execution_count": 176,
   "id": "acd79cb2-3a4d-4ae3-aa66-5f0910ac4b67",
   "metadata": {},
   "outputs": [
    {
     "data": {
      "image/png": "[encoded data removed]",
      "text/plain": [
       "<Figure size 864x432 with 18 Axes>"
      ]
     },
     "metadata": {
      "needs_background": "light"
     },
     "output_type": "display_data"
    }
   ],
   "source": [
    "fig, axis = plt.subplots(3, 6, figsize = (12, 6))\n",
    "log_odds = regular_pipe.predict_log_proba(X_tr)[:, 1]\n",
    "for index, column in enumerate(X_sc.columns.tolist()):\n",
    "    row = index // 6\n",
    "    col = index % 6\n",
    "    ax = axis[row][col]\n",
    "    sns.scatterplot(x = X_sc[column], y = log_odds, ax = ax)\n",
    "    ax.set_xlabel(column)\n",
    "    ax.set_ylabel('Log odds')\n",
    "plt.tight_layout()\n",
    "plt.show()"
   ]
  },
  {
   "cell_type": "markdown",
   "id": "a30e3d81-16ae-43db-9a34-2022f3fcebb5",
   "metadata": {},
   "source": [
    "**Great sample size Assumption**"
   ]
  },
  {
   "cell_type": "code",
   "execution_count": 177,
   "id": "b136ca1b-3e09-4859-af3c-df6216d8179f",
   "metadata": {},
   "outputs": [
    {
     "data": {
      "text/plain": [
       "True"
      ]
     },
     "execution_count": 177,
     "metadata": {},
     "output_type": "execute_result"
    }
   ],
   "source": [
    "n_features = len(X_tr.columns)\n",
    "p_lower = y.mean()\n",
    "optimal_size = int(np.ceil((10 * n_features / p_lower)))\n",
    "X_tr.shape[0] > optimal_size"
   ]
  },
  {
   "cell_type": "markdown",
   "id": "9a4dc800-ada6-437f-b301-22f5c3659693",
   "metadata": {},
   "source": [
    "## USE CASE"
   ]
  },
  {
   "cell_type": "markdown",
   "id": "1a75f43c-8800-4cd7-b074-feea2de299b1",
   "metadata": {},
   "source": [
    "<div style=\"text-align: justify\">\n",
    "As the banks desire to understand how much their Expected Credit Loss (ECL) will vary, they analyze their possibilities with three\n",
    "scenarios: base, optimistic, and pessimistic. This is achieved by considering the lower and upper edges of the coefficient confidence intervals. Finally, a weighted average is performed to obtain a unique value known as the normal scenario. To facilitate the calculation, it is assumed that the two parameters of the ECL, Loss Given Default (LGD) and Exposure at Default (EAD), are fixed at $1,000,000.00. Therefore, the Probability of Default (PD) is the variable used to explore different scenarios. This probability is obtained by quantiling 0.5 the entire dataset's output by considering it belongs to the first Q.\n",
    "</div>"
   ]
  },
  {
   "cell_type": "code",
   "execution_count": 155,
   "id": "69ad8009-c9b7-4c9a-8028-57bf3b40dbb8",
   "metadata": {},
   "outputs": [],
   "source": [
    "# defining a function to calculate probability\n",
    "def sigmoid(betas, X):\n",
    "    return 1 / (1 + np.exp(-(np.dot(X_sc, betas))))"
   ]
  },
  {
   "cell_type": "code",
   "execution_count": 156,
   "id": "f8b042fb-3b7c-4148-8dda-f709b308b6ea",
   "metadata": {},
   "outputs": [],
   "source": [
    "# declaring fixed parameters\n",
    "amount = 1000000\n",
    "# calculating per scenario\n",
    "prob_base = np.quantile(sigmoid(coefficients, X_sc), 0.5)\n",
    "prob_opti = np.quantile(sigmoid(upper_interval, X_sc), 0.5)\n",
    "prob_pesi = np.quantile(sigmoid(lower_interval, X_sc), 0.5)"
   ]
  },
  {
   "cell_type": "markdown",
   "id": "38ae5f2f-de7a-4719-ab84-234daca04e16",
   "metadata": {},
   "source": [
    "Using the 2020 probabilities to compute the normal escenario\n",
    "\n",
    "| Portfolio Scenario | Average Weights in 2019 | Average Weights in 2020 |\n",
    "|:-------------------:|:-----------------------:|:-----------------------:|\n",
    "| Optimistic          |           18%           |           18%           |\n",
    "| Base                |           59%           |           56%           |\n",
    "| Pessimistic         |           23%           |           26%           |"
   ]
  },
  {
   "cell_type": "code",
   "execution_count": 157,
   "id": "07fd7422-7043-4652-9693-b0c2a8650470",
   "metadata": {},
   "outputs": [],
   "source": [
    "prob_normal = 0.18 * prob_opti + 0.56 * prob_base + 0.26 * prob_pesi"
   ]
  },
  {
   "cell_type": "markdown",
   "id": "09fbf344-5910-41cb-8d84-58ce46db1d28",
   "metadata": {},
   "source": [
    "Finally, the ECL is calculated on each scenario"
   ]
  },
  {
   "cell_type": "code",
   "execution_count": 158,
   "id": "60ca31ca-6301-44cf-a748-9d76c1b8f21e",
   "metadata": {},
   "outputs": [],
   "source": [
    "ecl_normal = prob_normal * amount\n",
    "ecl_base = prob_base * amount\n",
    "ecl_optimistic = prob_opti * amount\n",
    "ecl_pessimistic = prob_pesi * amount\n",
    "ecl_tbl = pd.DataFrame({'Scenario': ['Normal', 'Base', 'Optimistic', 'Pessimistic'],\n",
    "                      'ECL': [ecl_normal, ecl_base, ecl_optimistic, ecl_pessimistic]})"
   ]
  },
  {
   "cell_type": "markdown",
   "id": "495fcf0e-a2a3-4214-ab87-e893a054f8f6",
   "metadata": {},
   "source": [
    "Plotting results"
   ]
  },
  {
   "cell_type": "code",
   "execution_count": 159,
   "id": "b8abef55-9441-46cb-9e19-d45860582e68",
   "metadata": {},
   "outputs": [
    {
     "data": {
      "image/png": "[encoded data removed]",
      "text/plain": [
       "<Figure size 432x288 with 1 Axes>"
      ]
     },
     "metadata": {
      "needs_background": "light"
     },
     "output_type": "display_data"
    }
   ],
   "source": [
    "colors = ['lightcoral', 'deepskyblue', 'lightgreen', 'bisque']\n",
    "plt.bar(ecl_tbl.Scenario, ecl_tbl.ECL, color = colors)\n",
    "plt.title('ECL in first Q in different scenarios')\n",
    "for x_pos, y_pos in enumerate(ecl_tbl.ECL.values.tolist()):\n",
    "    plt.text(x_pos, 0.9 * y_pos, round((y_pos // 1000) * 1000), ha = 'center')\n",
    "plt.show()"
   ]
  },
  {
   "cell_type": "code",
   "execution_count": null,
   "id": "fe8be07a-f541-40ef-a690-b1e900b6cec4",
   "metadata": {},
   "outputs": [],
   "source": []
  },
  {
   "cell_type": "code",
   "execution_count": null,
   "id": "c8cbfe86-7248-4abb-9dbe-c25ffba23d36",
   "metadata": {},
   "outputs": [],
   "source": []
  },
  {
   "cell_type": "code",
   "execution_count": null,
   "id": "6eb16aab-129a-4ef0-ac3c-a98393757620",
   "metadata": {},
   "outputs": [],
   "source": []
  },
  {
   "cell_type": "code",
   "execution_count": null,
   "id": "c0660d37-2d7f-4ad0-8651-35712501f4be",
   "metadata": {},
   "outputs": [],
   "source": []
  },
  {
   "cell_type": "code",
   "execution_count": null,
   "id": "faea5f34-2093-41db-9a4f-733d4a62b839",
   "metadata": {},
   "outputs": [],
   "source": []
  },
  {
   "cell_type": "code",
   "execution_count": null,
   "id": "a6b54f72-dd81-4eef-8719-74af5f406f15",
   "metadata": {},
   "outputs": [],
   "source": []
  },
  {
   "cell_type": "code",
   "execution_count": null,
   "id": "1b4cee67-9641-439a-a4bb-140f79fd6f5a",
   "metadata": {},
   "outputs": [],
   "source": []
  },
  {
   "cell_type": "code",
   "execution_count": null,
   "id": "9eb2c1e0-23fb-4d84-9a30-5638115c680a",
   "metadata": {},
   "outputs": [],
   "source": []
  },
  {
   "cell_type": "code",
   "execution_count": null,
   "id": "aa630ba8-d5db-40b9-ae20-c1b5f075e536",
   "metadata": {},
   "outputs": [],
   "source": []
  },
  {
   "cell_type": "code",
   "execution_count": null,
   "id": "726e2661-8709-46f4-8e35-55af46a85236",
   "metadata": {},
   "outputs": [],
   "source": []
  },
  {
   "cell_type": "code",
   "execution_count": 27,
   "id": "7092e3b4-510d-4511-91bf-d32018050615",
   "metadata": {
    "tags": []
   },
   "outputs": [
    {
     "data": {
      "text/plain": [
       "<AxesSubplot:>"
      ]
     },
     "execution_count": 27,
     "metadata": {},
     "output_type": "execute_result"
    },
    {
     "data": {
      "image/png": "[encoded data removed]",
      "text/plain": [
       "<Figure size 432x288 with 1 Axes>"
      ]
     },
     "metadata": {
      "needs_background": "light"
     },
     "output_type": "display_data"
    }
   ],
   "source": [
    "percentages = (Base['REASON'].value_counts() / len(Base)) * 100\n",
    "sns.barplot(x=percentages.index, y=percentages.values)"
   ]
  },
  {
   "cell_type": "code",
   "execution_count": 30,
   "id": "bac19f9d-faa3-4601-97f5-5deab51de10d",
   "metadata": {
    "tags": []
   },
   "outputs": [
    {
     "data": {
      "text/plain": [
       "<AxesSubplot:>"
      ]
     },
     "execution_count": 30,
     "metadata": {},
     "output_type": "execute_result"
    },
    {
     "data": {
      "image/png": "[encoded data removed]",
      "text/plain": [
       "<Figure size 432x288 with 1 Axes>"
      ]
     },
     "metadata": {
      "needs_background": "light"
     },
     "output_type": "display_data"
    }
   ],
   "source": [
    "percentages = (Base['JOB'].value_counts() / len(Base)) * 100\n",
    "sns.barplot(x=percentages.index, y=percentages.values)"
   ]
  },
  {
   "cell_type": "code",
   "execution_count": 43,
   "id": "9721f07f-5395-43b2-a6f3-fd732d8cf56d",
   "metadata": {
    "tags": []
   },
   "outputs": [
    {
     "data": {
      "text/plain": [
       "count    5623.000000\n",
       "mean      177.502074\n",
       "std        79.142034\n",
       "min         0.000000\n",
       "25%       114.906479\n",
       "50%       172.767888\n",
       "75%       230.254451\n",
       "max       440.421254\n",
       "Name: CLAGE, dtype: float64"
      ]
     },
     "execution_count": 43,
     "metadata": {},
     "output_type": "execute_result"
    }
   ],
   "source": [
    "Base[Base['CLAGE']<450]['CLAGE'].describe()"
   ]
  },
  {
   "cell_type": "code",
   "execution_count": 44,
   "id": "b7cb6989-3739-461d-b6be-49e6d90e00ae",
   "metadata": {
    "tags": []
   },
   "outputs": [
    {
     "name": "stdout",
     "output_type": "stream",
     "text": [
      "29800.0\n"
     ]
    }
   ],
   "source": [
    "Imputar_CLAGE=Base[Base['CLAGE']<450]['CLAGE'].mean()\n",
    "print(Imputar_Value)\n",
    "Base['CLAGE'] =  np.where(Base['CLAGE']>450,Imputar_CLAGE,Base['CLAGE'])\n",
    "Base['CLAGE'] = np.where(Base['CLAGE'].isnull(), 150, Base['CLAGE'])"
   ]
  },
  {
   "cell_type": "code",
   "execution_count": 45,
   "id": "e1fda347-13ee-4eea-9da5-6e25cd20a3b0",
   "metadata": {
    "tags": []
   },
   "outputs": [
    {
     "name": "stdout",
     "output_type": "stream",
     "text": [
      "0.08557046979865772\n"
     ]
    },
    {
     "data": {
      "text/html": [
       "<div>\n",
       "<style scoped>\n",
       "    .dataframe tbody tr th:only-of-type {\n",
       "        vertical-align: middle;\n",
       "    }\n",
       "\n",
       "    .dataframe tbody tr th {\n",
       "        vertical-align: top;\n",
       "    }\n",
       "\n",
       "    .dataframe thead th {\n",
       "        text-align: right;\n",
       "    }\n",
       "</style>\n",
       "<table border=\"1\" class=\"dataframe\">\n",
       "  <thead>\n",
       "    <tr style=\"text-align: right;\">\n",
       "      <th></th>\n",
       "      <th>BAD</th>\n",
       "      <th>LOAN</th>\n",
       "      <th>MORTDUE</th>\n",
       "      <th>VALUE</th>\n",
       "      <th>REASON</th>\n",
       "      <th>JOB</th>\n",
       "      <th>YOJ</th>\n",
       "      <th>DEROG</th>\n",
       "      <th>DELINQ</th>\n",
       "      <th>CLAGE</th>\n",
       "      <th>NINQ</th>\n",
       "      <th>CLNO</th>\n",
       "      <th>DEBTINC</th>\n",
       "    </tr>\n",
       "  </thead>\n",
       "  <tbody>\n",
       "    <tr>\n",
       "      <th>3</th>\n",
       "      <td>1</td>\n",
       "      <td>1500.000000</td>\n",
       "      <td>16262.771937</td>\n",
       "      <td>25000.0</td>\n",
       "      <td>DebtCon</td>\n",
       "      <td>Other</td>\n",
       "      <td>9.362174</td>\n",
       "      <td>NaN</td>\n",
       "      <td>0.0</td>\n",
       "      <td>150.000000</td>\n",
       "      <td>NaN</td>\n",
       "      <td>NaN</td>\n",
       "      <td>NaN</td>\n",
       "    </tr>\n",
       "    <tr>\n",
       "      <th>10</th>\n",
       "      <td>1</td>\n",
       "      <td>2000.000000</td>\n",
       "      <td>22608.000000</td>\n",
       "      <td>25000.0</td>\n",
       "      <td>DebtCon</td>\n",
       "      <td>Other</td>\n",
       "      <td>18.000000</td>\n",
       "      <td>NaN</td>\n",
       "      <td>0.0</td>\n",
       "      <td>150.000000</td>\n",
       "      <td>NaN</td>\n",
       "      <td>NaN</td>\n",
       "      <td>NaN</td>\n",
       "    </tr>\n",
       "    <tr>\n",
       "      <th>17</th>\n",
       "      <td>1</td>\n",
       "      <td>2200.000000</td>\n",
       "      <td>23030.000000</td>\n",
       "      <td>25000.0</td>\n",
       "      <td>DebtCon</td>\n",
       "      <td>Other</td>\n",
       "      <td>19.000000</td>\n",
       "      <td>NaN</td>\n",
       "      <td>0.0</td>\n",
       "      <td>150.000000</td>\n",
       "      <td>NaN</td>\n",
       "      <td>NaN</td>\n",
       "      <td>3.711312</td>\n",
       "    </tr>\n",
       "    <tr>\n",
       "      <th>51</th>\n",
       "      <td>0</td>\n",
       "      <td>3100.000000</td>\n",
       "      <td>16262.771937</td>\n",
       "      <td>29800.0</td>\n",
       "      <td>DebtCon</td>\n",
       "      <td>Other</td>\n",
       "      <td>9.362174</td>\n",
       "      <td>NaN</td>\n",
       "      <td>0.0</td>\n",
       "      <td>150.000000</td>\n",
       "      <td>NaN</td>\n",
       "      <td>NaN</td>\n",
       "      <td>NaN</td>\n",
       "    </tr>\n",
       "    <tr>\n",
       "      <th>63</th>\n",
       "      <td>1</td>\n",
       "      <td>3600.000000</td>\n",
       "      <td>16262.771937</td>\n",
       "      <td>29800.0</td>\n",
       "      <td>HomeImp</td>\n",
       "      <td>ProfExe</td>\n",
       "      <td>10.000000</td>\n",
       "      <td>NaN</td>\n",
       "      <td>0.0</td>\n",
       "      <td>150.000000</td>\n",
       "      <td>NaN</td>\n",
       "      <td>NaN</td>\n",
       "      <td>NaN</td>\n",
       "    </tr>\n",
       "    <tr>\n",
       "      <th>...</th>\n",
       "      <td>...</td>\n",
       "      <td>...</td>\n",
       "      <td>...</td>\n",
       "      <td>...</td>\n",
       "      <td>...</td>\n",
       "      <td>...</td>\n",
       "      <td>...</td>\n",
       "      <td>...</td>\n",
       "      <td>...</td>\n",
       "      <td>...</td>\n",
       "      <td>...</td>\n",
       "      <td>...</td>\n",
       "      <td>...</td>\n",
       "    </tr>\n",
       "    <tr>\n",
       "      <th>5759</th>\n",
       "      <td>0</td>\n",
       "      <td>16935.114236</td>\n",
       "      <td>16262.771937</td>\n",
       "      <td>29800.0</td>\n",
       "      <td>DebtCon</td>\n",
       "      <td>Other</td>\n",
       "      <td>9.362174</td>\n",
       "      <td>5.0</td>\n",
       "      <td>0.0</td>\n",
       "      <td>116.437035</td>\n",
       "      <td>NaN</td>\n",
       "      <td>19.0</td>\n",
       "      <td>26.070435</td>\n",
       "    </tr>\n",
       "    <tr>\n",
       "      <th>5762</th>\n",
       "      <td>0</td>\n",
       "      <td>16935.114236</td>\n",
       "      <td>16262.771937</td>\n",
       "      <td>29800.0</td>\n",
       "      <td>DebtCon</td>\n",
       "      <td>Other</td>\n",
       "      <td>9.362174</td>\n",
       "      <td>5.0</td>\n",
       "      <td>0.0</td>\n",
       "      <td>130.496983</td>\n",
       "      <td>NaN</td>\n",
       "      <td>19.0</td>\n",
       "      <td>27.105116</td>\n",
       "    </tr>\n",
       "    <tr>\n",
       "      <th>5765</th>\n",
       "      <td>0</td>\n",
       "      <td>16935.114236</td>\n",
       "      <td>16262.771937</td>\n",
       "      <td>29800.0</td>\n",
       "      <td>DebtCon</td>\n",
       "      <td>Other</td>\n",
       "      <td>9.362174</td>\n",
       "      <td>5.0</td>\n",
       "      <td>0.0</td>\n",
       "      <td>128.656393</td>\n",
       "      <td>NaN</td>\n",
       "      <td>20.0</td>\n",
       "      <td>28.187140</td>\n",
       "    </tr>\n",
       "    <tr>\n",
       "      <th>5808</th>\n",
       "      <td>1</td>\n",
       "      <td>16935.114236</td>\n",
       "      <td>16262.771937</td>\n",
       "      <td>29800.0</td>\n",
       "      <td>HomeImp</td>\n",
       "      <td>Other</td>\n",
       "      <td>1.300000</td>\n",
       "      <td>0.0</td>\n",
       "      <td>1.0</td>\n",
       "      <td>103.133333</td>\n",
       "      <td>NaN</td>\n",
       "      <td>13.0</td>\n",
       "      <td>NaN</td>\n",
       "    </tr>\n",
       "    <tr>\n",
       "      <th>5837</th>\n",
       "      <td>1</td>\n",
       "      <td>16935.114236</td>\n",
       "      <td>16262.771937</td>\n",
       "      <td>29800.0</td>\n",
       "      <td>HomeImp</td>\n",
       "      <td>Other</td>\n",
       "      <td>0.000000</td>\n",
       "      <td>0.0</td>\n",
       "      <td>1.0</td>\n",
       "      <td>106.201099</td>\n",
       "      <td>NaN</td>\n",
       "      <td>13.0</td>\n",
       "      <td>25.845264</td>\n",
       "    </tr>\n",
       "  </tbody>\n",
       "</table>\n",
       "<p>510 rows × 13 columns</p>\n",
       "</div>"
      ],
      "text/plain": [
       "      BAD          LOAN       MORTDUE    VALUE   REASON      JOB        YOJ  \\\n",
       "3       1   1500.000000  16262.771937  25000.0  DebtCon    Other   9.362174   \n",
       "10      1   2000.000000  22608.000000  25000.0  DebtCon    Other  18.000000   \n",
       "17      1   2200.000000  23030.000000  25000.0  DebtCon    Other  19.000000   \n",
       "51      0   3100.000000  16262.771937  29800.0  DebtCon    Other   9.362174   \n",
       "63      1   3600.000000  16262.771937  29800.0  HomeImp  ProfExe  10.000000   \n",
       "...   ...           ...           ...      ...      ...      ...        ...   \n",
       "5759    0  16935.114236  16262.771937  29800.0  DebtCon    Other   9.362174   \n",
       "5762    0  16935.114236  16262.771937  29800.0  DebtCon    Other   9.362174   \n",
       "5765    0  16935.114236  16262.771937  29800.0  DebtCon    Other   9.362174   \n",
       "5808    1  16935.114236  16262.771937  29800.0  HomeImp    Other   1.300000   \n",
       "5837    1  16935.114236  16262.771937  29800.0  HomeImp    Other   0.000000   \n",
       "\n",
       "      DEROG  DELINQ       CLAGE  NINQ  CLNO    DEBTINC  \n",
       "3       NaN     0.0  150.000000   NaN   NaN        NaN  \n",
       "10      NaN     0.0  150.000000   NaN   NaN        NaN  \n",
       "17      NaN     0.0  150.000000   NaN   NaN   3.711312  \n",
       "51      NaN     0.0  150.000000   NaN   NaN        NaN  \n",
       "63      NaN     0.0  150.000000   NaN   NaN        NaN  \n",
       "...     ...     ...         ...   ...   ...        ...  \n",
       "5759    5.0     0.0  116.437035   NaN  19.0  26.070435  \n",
       "5762    5.0     0.0  130.496983   NaN  19.0  27.105116  \n",
       "5765    5.0     0.0  128.656393   NaN  20.0  28.187140  \n",
       "5808    0.0     1.0  103.133333   NaN  13.0        NaN  \n",
       "5837    0.0     1.0  106.201099   NaN  13.0  25.845264  \n",
       "\n",
       "[510 rows x 13 columns]"
      ]
     },
     "execution_count": 45,
     "metadata": {},
     "output_type": "execute_result"
    }
   ],
   "source": [
    "print(Base[Base['NINQ'].isna()].shape[0]/Base.shape[0])\n",
    "Base[Base['NINQ'].isna()]"
   ]
  },
  {
   "cell_type": "code",
   "execution_count": 47,
   "id": "ac9ab1ca-a9f2-4b57-9034-e07686439f99",
   "metadata": {
    "tags": []
   },
   "outputs": [
    {
     "name": "stdout",
     "output_type": "stream",
     "text": [
      "1.108583055863855\n"
     ]
    }
   ],
   "source": [
    "Imputar_NINQ=Base[Base['NINQ']<10]['NINQ'].mean()\n",
    "print(Imputar_NINQ)\n",
    "Base['NINQ'] =  np.where(Base['NINQ']>10,Imputar_NINQ,Base['NINQ'])\n",
    "Base['NINQ'] = np.where(Base['NINQ'].isnull(), 5, Base['NINQ'])"
   ]
  },
  {
   "cell_type": "code",
   "execution_count": 48,
   "id": "9cd7973f-4e8c-425e-9b62-e5683728d0df",
   "metadata": {
    "tags": []
   },
   "outputs": [
    {
     "data": {
      "text/plain": [
       "array([ 9., 14., 10., nan,  8., 17., 12., 13., 25., 24., 16., 22.,  0.,\n",
       "        4., 21., 19., 45., 26., 37.,  3.,  2., 27., 20.,  7., 36., 33.,\n",
       "        6., 28., 11., 31., 15., 18., 23.,  5., 30., 34., 42., 50., 47.,\n",
       "       32., 29., 46., 38., 40., 49., 43., 35.,  1., 56., 39., 51., 55.,\n",
       "       65., 57., 41., 71., 48., 53., 64., 52., 63., 44., 58.])"
      ]
     },
     "execution_count": 48,
     "metadata": {},
     "output_type": "execute_result"
    }
   ],
   "source": [
    "Base['CLNO'].unique()"
   ]
  },
  {
   "cell_type": "code",
   "execution_count": 49,
   "id": "97365879-8c0c-45c9-9309-7b6a8c14f4da",
   "metadata": {
    "tags": []
   },
   "outputs": [
    {
     "data": {
      "text/plain": [
       "count     5960.000000\n",
       "mean     16265.703893\n",
       "std       1653.534536\n",
       "min       2063.000000\n",
       "25%      16262.771937\n",
       "50%      16262.771937\n",
       "75%      16262.771937\n",
       "max      25000.000000\n",
       "Name: MORTDUE, dtype: float64"
      ]
     },
     "execution_count": 49,
     "metadata": {},
     "output_type": "execute_result"
    }
   ],
   "source": [
    "Base['MORTDUE'].describe()"
   ]
  },
  {
   "cell_type": "code",
   "execution_count": 50,
   "id": "286d5730-059c-464c-ad35-cdd9f53a9537",
   "metadata": {
    "tags": []
   },
   "outputs": [
    {
     "data": {
      "image/png": "[encoded data removed]",
      "text/plain": [
       "<Figure size 720x432 with 1 Axes>"
      ]
     },
     "metadata": {},
     "output_type": "display_data"
    }
   ],
   "source": [
    "sns.set(style=\"whitegrid\")\n",
    "plt.figure(figsize=(10, 6))\n",
    "\n",
    "sns.kdeplot(data=Base['MORTDUE'], fill=True, color=\"blue\")\n",
    "\n",
    "plt.title(\"Gráfico de Densidad de MORTDUE\")\n",
    "plt.xlabel(\"MORTDUE\")\n",
    "plt.ylabel(\"Densidad\")\n",
    "\n",
    "plt.show()"
   ]
  },
  {
   "cell_type": "code",
   "execution_count": 51,
   "id": "d697fba0-08a7-45a0-869e-13ec29b24145",
   "metadata": {},
   "outputs": [
    {
     "data": {
      "text/html": [
       "<div>\n",
       "<style scoped>\n",
       "    .dataframe tbody tr th:only-of-type {\n",
       "        vertical-align: middle;\n",
       "    }\n",
       "\n",
       "    .dataframe tbody tr th {\n",
       "        vertical-align: top;\n",
       "    }\n",
       "\n",
       "    .dataframe thead th {\n",
       "        text-align: right;\n",
       "    }\n",
       "</style>\n",
       "<table border=\"1\" class=\"dataframe\">\n",
       "  <thead>\n",
       "    <tr style=\"text-align: right;\">\n",
       "      <th></th>\n",
       "      <th>BAD</th>\n",
       "      <th>LOAN</th>\n",
       "      <th>MORTDUE</th>\n",
       "      <th>VALUE</th>\n",
       "      <th>REASON</th>\n",
       "      <th>JOB</th>\n",
       "      <th>YOJ</th>\n",
       "      <th>DEROG</th>\n",
       "      <th>DELINQ</th>\n",
       "      <th>CLAGE</th>\n",
       "      <th>NINQ</th>\n",
       "      <th>CLNO</th>\n",
       "      <th>DEBTINC</th>\n",
       "    </tr>\n",
       "  </thead>\n",
       "  <tbody>\n",
       "    <tr>\n",
       "      <th>0</th>\n",
       "      <td>1</td>\n",
       "      <td>1100.000000</td>\n",
       "      <td>16262.771937</td>\n",
       "      <td>29800.0</td>\n",
       "      <td>HomeImp</td>\n",
       "      <td>Other</td>\n",
       "      <td>10.500000</td>\n",
       "      <td>0.0</td>\n",
       "      <td>0.0</td>\n",
       "      <td>94.366667</td>\n",
       "      <td>1.0</td>\n",
       "      <td>9.0</td>\n",
       "      <td>NaN</td>\n",
       "    </tr>\n",
       "    <tr>\n",
       "      <th>1</th>\n",
       "      <td>1</td>\n",
       "      <td>1300.000000</td>\n",
       "      <td>16262.771937</td>\n",
       "      <td>29800.0</td>\n",
       "      <td>HomeImp</td>\n",
       "      <td>Other</td>\n",
       "      <td>7.000000</td>\n",
       "      <td>0.0</td>\n",
       "      <td>2.0</td>\n",
       "      <td>121.833333</td>\n",
       "      <td>0.0</td>\n",
       "      <td>14.0</td>\n",
       "      <td>NaN</td>\n",
       "    </tr>\n",
       "    <tr>\n",
       "      <th>2</th>\n",
       "      <td>1</td>\n",
       "      <td>1500.000000</td>\n",
       "      <td>13500.000000</td>\n",
       "      <td>16700.0</td>\n",
       "      <td>HomeImp</td>\n",
       "      <td>Other</td>\n",
       "      <td>4.000000</td>\n",
       "      <td>0.0</td>\n",
       "      <td>0.0</td>\n",
       "      <td>149.466667</td>\n",
       "      <td>1.0</td>\n",
       "      <td>10.0</td>\n",
       "      <td>NaN</td>\n",
       "    </tr>\n",
       "    <tr>\n",
       "      <th>3</th>\n",
       "      <td>1</td>\n",
       "      <td>1500.000000</td>\n",
       "      <td>16262.771937</td>\n",
       "      <td>25000.0</td>\n",
       "      <td>DebtCon</td>\n",
       "      <td>Other</td>\n",
       "      <td>9.362174</td>\n",
       "      <td>NaN</td>\n",
       "      <td>0.0</td>\n",
       "      <td>150.000000</td>\n",
       "      <td>5.0</td>\n",
       "      <td>NaN</td>\n",
       "      <td>NaN</td>\n",
       "    </tr>\n",
       "    <tr>\n",
       "      <th>4</th>\n",
       "      <td>0</td>\n",
       "      <td>1700.000000</td>\n",
       "      <td>16262.771937</td>\n",
       "      <td>29800.0</td>\n",
       "      <td>HomeImp</td>\n",
       "      <td>Office</td>\n",
       "      <td>3.000000</td>\n",
       "      <td>0.0</td>\n",
       "      <td>0.0</td>\n",
       "      <td>93.333333</td>\n",
       "      <td>0.0</td>\n",
       "      <td>14.0</td>\n",
       "      <td>NaN</td>\n",
       "    </tr>\n",
       "    <tr>\n",
       "      <th>...</th>\n",
       "      <td>...</td>\n",
       "      <td>...</td>\n",
       "      <td>...</td>\n",
       "      <td>...</td>\n",
       "      <td>...</td>\n",
       "      <td>...</td>\n",
       "      <td>...</td>\n",
       "      <td>...</td>\n",
       "      <td>...</td>\n",
       "      <td>...</td>\n",
       "      <td>...</td>\n",
       "      <td>...</td>\n",
       "      <td>...</td>\n",
       "    </tr>\n",
       "    <tr>\n",
       "      <th>5930</th>\n",
       "      <td>1</td>\n",
       "      <td>16935.114236</td>\n",
       "      <td>16262.771937</td>\n",
       "      <td>29800.0</td>\n",
       "      <td>DebtCon</td>\n",
       "      <td>Other</td>\n",
       "      <td>1.000000</td>\n",
       "      <td>0.0</td>\n",
       "      <td>0.0</td>\n",
       "      <td>117.166667</td>\n",
       "      <td>9.0</td>\n",
       "      <td>23.0</td>\n",
       "      <td>NaN</td>\n",
       "    </tr>\n",
       "    <tr>\n",
       "      <th>5932</th>\n",
       "      <td>1</td>\n",
       "      <td>16935.114236</td>\n",
       "      <td>16262.771937</td>\n",
       "      <td>29800.0</td>\n",
       "      <td>DebtCon</td>\n",
       "      <td>Other</td>\n",
       "      <td>12.000000</td>\n",
       "      <td>0.0</td>\n",
       "      <td>0.0</td>\n",
       "      <td>134.900000</td>\n",
       "      <td>0.0</td>\n",
       "      <td>26.0</td>\n",
       "      <td>NaN</td>\n",
       "    </tr>\n",
       "    <tr>\n",
       "      <th>5933</th>\n",
       "      <td>1</td>\n",
       "      <td>16935.114236</td>\n",
       "      <td>16262.771937</td>\n",
       "      <td>29800.0</td>\n",
       "      <td>HomeImp</td>\n",
       "      <td>Self</td>\n",
       "      <td>8.000000</td>\n",
       "      <td>1.0</td>\n",
       "      <td>2.0</td>\n",
       "      <td>71.533132</td>\n",
       "      <td>3.0</td>\n",
       "      <td>14.0</td>\n",
       "      <td>NaN</td>\n",
       "    </tr>\n",
       "    <tr>\n",
       "      <th>5935</th>\n",
       "      <td>0</td>\n",
       "      <td>16935.114236</td>\n",
       "      <td>13900.000000</td>\n",
       "      <td>29800.0</td>\n",
       "      <td>HomeImp</td>\n",
       "      <td>Other</td>\n",
       "      <td>27.000000</td>\n",
       "      <td>0.0</td>\n",
       "      <td>1.0</td>\n",
       "      <td>138.000000</td>\n",
       "      <td>0.0</td>\n",
       "      <td>14.0</td>\n",
       "      <td>NaN</td>\n",
       "    </tr>\n",
       "    <tr>\n",
       "      <th>5948</th>\n",
       "      <td>0</td>\n",
       "      <td>16935.114236</td>\n",
       "      <td>16262.771937</td>\n",
       "      <td>29800.0</td>\n",
       "      <td>DebtCon</td>\n",
       "      <td>Other</td>\n",
       "      <td>15.000000</td>\n",
       "      <td>0.0</td>\n",
       "      <td>0.0</td>\n",
       "      <td>210.966667</td>\n",
       "      <td>0.0</td>\n",
       "      <td>16.0</td>\n",
       "      <td>NaN</td>\n",
       "    </tr>\n",
       "  </tbody>\n",
       "</table>\n",
       "<p>1267 rows × 13 columns</p>\n",
       "</div>"
      ],
      "text/plain": [
       "      BAD          LOAN       MORTDUE    VALUE   REASON     JOB        YOJ  \\\n",
       "0       1   1100.000000  16262.771937  29800.0  HomeImp   Other  10.500000   \n",
       "1       1   1300.000000  16262.771937  29800.0  HomeImp   Other   7.000000   \n",
       "2       1   1500.000000  13500.000000  16700.0  HomeImp   Other   4.000000   \n",
       "3       1   1500.000000  16262.771937  25000.0  DebtCon   Other   9.362174   \n",
       "4       0   1700.000000  16262.771937  29800.0  HomeImp  Office   3.000000   \n",
       "...   ...           ...           ...      ...      ...     ...        ...   \n",
       "5930    1  16935.114236  16262.771937  29800.0  DebtCon   Other   1.000000   \n",
       "5932    1  16935.114236  16262.771937  29800.0  DebtCon   Other  12.000000   \n",
       "5933    1  16935.114236  16262.771937  29800.0  HomeImp    Self   8.000000   \n",
       "5935    0  16935.114236  13900.000000  29800.0  HomeImp   Other  27.000000   \n",
       "5948    0  16935.114236  16262.771937  29800.0  DebtCon   Other  15.000000   \n",
       "\n",
       "      DEROG  DELINQ       CLAGE  NINQ  CLNO  DEBTINC  \n",
       "0       0.0     0.0   94.366667   1.0   9.0      NaN  \n",
       "1       0.0     2.0  121.833333   0.0  14.0      NaN  \n",
       "2       0.0     0.0  149.466667   1.0  10.0      NaN  \n",
       "3       NaN     0.0  150.000000   5.0   NaN      NaN  \n",
       "4       0.0     0.0   93.333333   0.0  14.0      NaN  \n",
       "...     ...     ...         ...   ...   ...      ...  \n",
       "5930    0.0     0.0  117.166667   9.0  23.0      NaN  \n",
       "5932    0.0     0.0  134.900000   0.0  26.0      NaN  \n",
       "5933    1.0     2.0   71.533132   3.0  14.0      NaN  \n",
       "5935    0.0     1.0  138.000000   0.0  14.0      NaN  \n",
       "5948    0.0     0.0  210.966667   0.0  16.0      NaN  \n",
       "\n",
       "[1267 rows x 13 columns]"
      ]
     },
     "execution_count": 51,
     "metadata": {},
     "output_type": "execute_result"
    }
   ],
   "source": [
    "Base[Base['DEBTINC'].isna()]"
   ]
  },
  {
   "cell_type": "code",
   "execution_count": 52,
   "id": "bec850f3-cb50-4335-988b-6647e5018503",
   "metadata": {},
   "outputs": [
    {
     "name": "stdout",
     "output_type": "stream",
     "text": [
      "(1267, 13)\n"
     ]
    }
   ],
   "source": [
    "print(Base[Base['DEBTINC'].isna()].shape)"
   ]
  },
  {
   "cell_type": "code",
   "execution_count": 53,
   "id": "02960efc-0898-47e6-aa48-d7eec25026fd",
   "metadata": {
    "tags": []
   },
   "outputs": [],
   "source": [
    "bins = [0, 5000,10000,15000,20000,float('inf')] \n",
    "labels = ['0-5k', '5k-10k', '10k-15k', '15k-20k', '20k+']\n",
    "Base['MORTDUE_Rango'] = pd.cut(Base['MORTDUE'], bins=bins, labels=labels, include_lowest=True)\n",
    "media_debtinc_por_rango = Base.groupby('MORTDUE_Rango')['DEBTINC'].mean()"
   ]
  },
  {
   "cell_type": "code",
   "execution_count": 54,
   "id": "06cd2a36-d59a-425e-aa0c-21fb495ba645",
   "metadata": {
    "tags": []
   },
   "outputs": [
    {
     "data": {
      "text/plain": [
       "MORTDUE_Rango\n",
       "0-5k       40.836453\n",
       "5k-10k     26.971794\n",
       "10k-15k    29.518648\n",
       "15k-20k    34.010981\n",
       "20k+       30.286589\n",
       "Name: DEBTINC, dtype: float64"
      ]
     },
     "execution_count": 54,
     "metadata": {},
     "output_type": "execute_result"
    }
   ],
   "source": [
    "media_debtinc_por_rango"
   ]
  },
  {
   "cell_type": "code",
   "execution_count": 55,
   "id": "3974146a-c89f-4a32-af66-05f9861012a4",
   "metadata": {
    "tags": []
   },
   "outputs": [
    {
     "data": {
      "text/plain": [
       "{'0-5k': 40.836452556,\n",
       " '5k-10k': 26.971793721019594,\n",
       " '10k-15k': 29.518648409799997,\n",
       " '15k-20k': 34.0109811076626,\n",
       " '20k+': 30.286588966964054}"
      ]
     },
     "execution_count": 55,
     "metadata": {},
     "output_type": "execute_result"
    }
   ],
   "source": [
    "media_por_rango = {}\n",
    "for rango in labels:\n",
    "    media = Base[Base['MORTDUE_Rango'] == rango]['DEBTINC'].mean()\n",
    "    media_por_rango[rango] = media\n",
    "media_por_rango"
   ]
  },
  {
   "cell_type": "code",
   "execution_count": 56,
   "id": "1fba8deb-a162-40b2-921f-976c84fa6a23",
   "metadata": {
    "tags": []
   },
   "outputs": [],
   "source": [
    "for rango, media in media_por_rango.items():\n",
    "    Base.loc[(Base['DEBTINC'].isnull()) & (Base['MORTDUE_Rango'] == rango), 'DEBTINC'] = media"
   ]
  },
  {
   "cell_type": "code",
   "execution_count": 60,
   "id": "a0bae5b2-02af-47fb-9e18-81a4b43a2152",
   "metadata": {
    "tags": []
   },
   "outputs": [
    {
     "data": {
      "text/plain": [
       "array([ 0., nan,  3.,  2.,  1.,  4.,  5.,  6.,  7.,  8.,  9., 10.])"
      ]
     },
     "execution_count": 60,
     "metadata": {},
     "output_type": "execute_result"
    }
   ],
   "source": [
    "Base.DEROG.unique()"
   ]
  },
  {
   "cell_type": "code",
   "execution_count": 59,
   "id": "cc265b7b-6172-48bb-9276-be3d7c79c996",
   "metadata": {},
   "outputs": [
    {
     "data": {
      "image/png": "[encoded data removed]",
      "text/plain": [
       "<Figure size 864x288 with 2 Axes>"
      ]
     },
     "metadata": {},
     "output_type": "display_data"
    }
   ],
   "source": [
    "fig, axes = plt.subplots(nrows=1, ncols=2, figsize=(12, 4))\n",
    "axes[0].hist(Base['DEROG'], bins=20, color='blue', alpha=0.5)\n",
    "axes[0].set_title('DEROG')\n",
    "axes[1].hist(Base[Base['DEROG']<10]['DEROG'], bins=20, color='green', alpha=0.5)\n",
    "axes[1].set_title('DEROG<10')\n",
    "plt.tight_layout()\n",
    "plt.show()"
   ]
  },
  {
   "cell_type": "code",
   "execution_count": 61,
   "id": "1551cba3-d728-44bb-b8f8-0d8aabf18502",
   "metadata": {},
   "outputs": [],
   "source": [
    "#Base['DEROG'] =  np.where(Base['NINQ']>10,Imputar_NINQ,Base['NINQ'])\n",
    "Base['DEROG'] = np.where(Base['DEROG'].isnull(), 0, Base['DEROG'])"
   ]
  },
  {
   "cell_type": "code",
   "execution_count": 62,
   "id": "0aa22da7-6664-4b98-8ce4-fdefedd2f2c5",
   "metadata": {},
   "outputs": [
    {
     "data": {
      "text/plain": [
       "BAD                0\n",
       "LOAN               0\n",
       "MORTDUE            0\n",
       "VALUE              0\n",
       "REASON             0\n",
       "JOB                0\n",
       "YOJ                0\n",
       "DEROG              0\n",
       "DELINQ             0\n",
       "CLAGE              0\n",
       "NINQ               0\n",
       "CLNO             222\n",
       "DEBTINC            0\n",
       "MORTDUE_Rango      0\n",
       "dtype: int64"
      ]
     },
     "execution_count": 62,
     "metadata": {},
     "output_type": "execute_result"
    }
   ],
   "source": [
    "Base.isnull().sum()"
   ]
  },
  {
   "cell_type": "code",
   "execution_count": 66,
   "id": "8f96887a-95cb-43a1-b369-c98db91fc585",
   "metadata": {},
   "outputs": [
    {
     "data": {
      "image/png": "[encoded data removed]",
      "text/plain": [
       "<Figure size 864x288 with 2 Axes>"
      ]
     },
     "metadata": {},
     "output_type": "display_data"
    }
   ],
   "source": [
    "fig, axes = plt.subplots(nrows=1, ncols=2, figsize=(12, 4))\n",
    "axes[0].hist(Base['CLNO'], bins=20, color='blue', alpha=0.5)\n",
    "axes[0].set_title('CLNO')\n",
    "axes[1].hist(Base[Base['CLNO']<45]['CLNO'], bins=20, color='green', alpha=0.5)\n",
    "axes[1].set_title('CLNO<10')\n",
    "plt.tight_layout()\n",
    "plt.show()"
   ]
  },
  {
   "cell_type": "code",
   "execution_count": 64,
   "id": "935b1117-f7e9-4e75-9fbc-ffe3d84ec1a3",
   "metadata": {},
   "outputs": [
    {
     "name": "stdout",
     "output_type": "stream",
     "text": [
      "Primer cuartil (Q1): 15.0\n",
      "Tercer cuartil (Q3): 26.0\n",
      "Rango Intercuartílico (IQR): 11.0\n"
     ]
    },
    {
     "data": {
      "text/plain": [
       "(42.5, 9.5)"
      ]
     },
     "execution_count": 64,
     "metadata": {},
     "output_type": "execute_result"
    }
   ],
   "source": [
    "Q1 = Base['CLNO'].describe()['25%']\n",
    "Q3 = Base['CLNO'].describe()['75%']\n",
    "IQR = Q3 - Q1\n",
    "\n",
    "print(\"Primer cuartil (Q1):\", Q1)\n",
    "print(\"Tercer cuartil (Q3):\", Q3)\n",
    "print(\"Rango Intercuartílico (IQR):\", IQR)\n",
    "\n",
    "Q3+1.5*IQR,Q3-1.5*IQR"
   ]
  },
  {
   "cell_type": "code",
   "execution_count": 67,
   "id": "19545b44-6ca7-49ab-a417-fa0e6fd245a3",
   "metadata": {},
   "outputs": [
    {
     "name": "stdout",
     "output_type": "stream",
     "text": [
      "20.296917252568957\n"
     ]
    }
   ],
   "source": [
    "Imputar_CLNO=Base[Base['CLNO']<45]['CLNO'].mean()\n",
    "print(Imputar_CLNO)\n",
    "Base['CLNO'] =  np.where(Base['CLNO']>45,Imputar_CLNO,Base['CLNO'])\n",
    "Base['CLNO'] = np.where(Base['CLNO'].isnull(), 5, Base['CLNO'])"
   ]
  },
  {
   "cell_type": "code",
   "execution_count": 68,
   "id": "a51bc9d9-313c-4c58-8cae-9e281eb2c92f",
   "metadata": {},
   "outputs": [
    {
     "data": {
      "text/plain": [
       "BAD              0\n",
       "LOAN             0\n",
       "MORTDUE          0\n",
       "VALUE            0\n",
       "REASON           0\n",
       "JOB              0\n",
       "YOJ              0\n",
       "DEROG            0\n",
       "DELINQ           0\n",
       "CLAGE            0\n",
       "NINQ             0\n",
       "CLNO             0\n",
       "DEBTINC          0\n",
       "MORTDUE_Rango    0\n",
       "dtype: int64"
      ]
     },
     "execution_count": 68,
     "metadata": {},
     "output_type": "execute_result"
    }
   ],
   "source": [
    "Base.isnull().sum()"
   ]
  },
  {
   "cell_type": "code",
   "execution_count": 85,
   "id": "231c523f-d404-445b-8c3d-93dc694a894c",
   "metadata": {},
   "outputs": [
    {
     "data": {
      "text/html": [
       "<div>\n",
       "<style scoped>\n",
       "    .dataframe tbody tr th:only-of-type {\n",
       "        vertical-align: middle;\n",
       "    }\n",
       "\n",
       "    .dataframe tbody tr th {\n",
       "        vertical-align: top;\n",
       "    }\n",
       "\n",
       "    .dataframe thead th {\n",
       "        text-align: right;\n",
       "    }\n",
       "</style>\n",
       "<table border=\"1\" class=\"dataframe\">\n",
       "  <thead>\n",
       "    <tr style=\"text-align: right;\">\n",
       "      <th></th>\n",
       "      <th>BAD</th>\n",
       "      <th>LOAN</th>\n",
       "      <th>MORTDUE</th>\n",
       "      <th>VALUE</th>\n",
       "      <th>REASON</th>\n",
       "      <th>JOB</th>\n",
       "      <th>YOJ</th>\n",
       "      <th>DEROG</th>\n",
       "      <th>DELINQ</th>\n",
       "      <th>CLAGE</th>\n",
       "      <th>...</th>\n",
       "      <th>JOB_ProfExe</th>\n",
       "      <th>JOB_Sales</th>\n",
       "      <th>JOB_Self</th>\n",
       "      <th>REASON_DebtCon</th>\n",
       "      <th>REASON_HomeImp</th>\n",
       "      <th>MORTDUE_Rango_0-5k</th>\n",
       "      <th>MORTDUE_Rango_5k-10k</th>\n",
       "      <th>MORTDUE_Rango_10k-15k</th>\n",
       "      <th>MORTDUE_Rango_15k-20k</th>\n",
       "      <th>MORTDUE_Rango_20k+</th>\n",
       "    </tr>\n",
       "  </thead>\n",
       "  <tbody>\n",
       "    <tr>\n",
       "      <th>0</th>\n",
       "      <td>1</td>\n",
       "      <td>1100.000000</td>\n",
       "      <td>16262.771937</td>\n",
       "      <td>29800.0</td>\n",
       "      <td>HomeImp</td>\n",
       "      <td>Other</td>\n",
       "      <td>10.500000</td>\n",
       "      <td>0.0</td>\n",
       "      <td>0.0</td>\n",
       "      <td>94.366667</td>\n",
       "      <td>...</td>\n",
       "      <td>0</td>\n",
       "      <td>0</td>\n",
       "      <td>0</td>\n",
       "      <td>0</td>\n",
       "      <td>1</td>\n",
       "      <td>0</td>\n",
       "      <td>0</td>\n",
       "      <td>0</td>\n",
       "      <td>1</td>\n",
       "      <td>0</td>\n",
       "    </tr>\n",
       "    <tr>\n",
       "      <th>1</th>\n",
       "      <td>1</td>\n",
       "      <td>1300.000000</td>\n",
       "      <td>16262.771937</td>\n",
       "      <td>29800.0</td>\n",
       "      <td>HomeImp</td>\n",
       "      <td>Other</td>\n",
       "      <td>7.000000</td>\n",
       "      <td>0.0</td>\n",
       "      <td>2.0</td>\n",
       "      <td>121.833333</td>\n",
       "      <td>...</td>\n",
       "      <td>0</td>\n",
       "      <td>0</td>\n",
       "      <td>0</td>\n",
       "      <td>0</td>\n",
       "      <td>1</td>\n",
       "      <td>0</td>\n",
       "      <td>0</td>\n",
       "      <td>0</td>\n",
       "      <td>1</td>\n",
       "      <td>0</td>\n",
       "    </tr>\n",
       "    <tr>\n",
       "      <th>2</th>\n",
       "      <td>1</td>\n",
       "      <td>1500.000000</td>\n",
       "      <td>13500.000000</td>\n",
       "      <td>16700.0</td>\n",
       "      <td>HomeImp</td>\n",
       "      <td>Other</td>\n",
       "      <td>4.000000</td>\n",
       "      <td>0.0</td>\n",
       "      <td>0.0</td>\n",
       "      <td>149.466667</td>\n",
       "      <td>...</td>\n",
       "      <td>0</td>\n",
       "      <td>0</td>\n",
       "      <td>0</td>\n",
       "      <td>0</td>\n",
       "      <td>1</td>\n",
       "      <td>0</td>\n",
       "      <td>0</td>\n",
       "      <td>1</td>\n",
       "      <td>0</td>\n",
       "      <td>0</td>\n",
       "    </tr>\n",
       "    <tr>\n",
       "      <th>3</th>\n",
       "      <td>1</td>\n",
       "      <td>1500.000000</td>\n",
       "      <td>16262.771937</td>\n",
       "      <td>25000.0</td>\n",
       "      <td>DebtCon</td>\n",
       "      <td>Other</td>\n",
       "      <td>9.362174</td>\n",
       "      <td>0.0</td>\n",
       "      <td>0.0</td>\n",
       "      <td>150.000000</td>\n",
       "      <td>...</td>\n",
       "      <td>0</td>\n",
       "      <td>0</td>\n",
       "      <td>0</td>\n",
       "      <td>1</td>\n",
       "      <td>0</td>\n",
       "      <td>0</td>\n",
       "      <td>0</td>\n",
       "      <td>0</td>\n",
       "      <td>1</td>\n",
       "      <td>0</td>\n",
       "    </tr>\n",
       "    <tr>\n",
       "      <th>4</th>\n",
       "      <td>0</td>\n",
       "      <td>1700.000000</td>\n",
       "      <td>16262.771937</td>\n",
       "      <td>29800.0</td>\n",
       "      <td>HomeImp</td>\n",
       "      <td>Office</td>\n",
       "      <td>3.000000</td>\n",
       "      <td>0.0</td>\n",
       "      <td>0.0</td>\n",
       "      <td>93.333333</td>\n",
       "      <td>...</td>\n",
       "      <td>0</td>\n",
       "      <td>0</td>\n",
       "      <td>0</td>\n",
       "      <td>0</td>\n",
       "      <td>1</td>\n",
       "      <td>0</td>\n",
       "      <td>0</td>\n",
       "      <td>0</td>\n",
       "      <td>1</td>\n",
       "      <td>0</td>\n",
       "    </tr>\n",
       "    <tr>\n",
       "      <th>...</th>\n",
       "      <td>...</td>\n",
       "      <td>...</td>\n",
       "      <td>...</td>\n",
       "      <td>...</td>\n",
       "      <td>...</td>\n",
       "      <td>...</td>\n",
       "      <td>...</td>\n",
       "      <td>...</td>\n",
       "      <td>...</td>\n",
       "      <td>...</td>\n",
       "      <td>...</td>\n",
       "      <td>...</td>\n",
       "      <td>...</td>\n",
       "      <td>...</td>\n",
       "      <td>...</td>\n",
       "      <td>...</td>\n",
       "      <td>...</td>\n",
       "      <td>...</td>\n",
       "      <td>...</td>\n",
       "      <td>...</td>\n",
       "      <td>...</td>\n",
       "    </tr>\n",
       "    <tr>\n",
       "      <th>5955</th>\n",
       "      <td>0</td>\n",
       "      <td>16935.114236</td>\n",
       "      <td>16262.771937</td>\n",
       "      <td>29800.0</td>\n",
       "      <td>DebtCon</td>\n",
       "      <td>Other</td>\n",
       "      <td>16.000000</td>\n",
       "      <td>0.0</td>\n",
       "      <td>0.0</td>\n",
       "      <td>221.808718</td>\n",
       "      <td>...</td>\n",
       "      <td>0</td>\n",
       "      <td>0</td>\n",
       "      <td>0</td>\n",
       "      <td>1</td>\n",
       "      <td>0</td>\n",
       "      <td>0</td>\n",
       "      <td>0</td>\n",
       "      <td>0</td>\n",
       "      <td>1</td>\n",
       "      <td>0</td>\n",
       "    </tr>\n",
       "    <tr>\n",
       "      <th>5956</th>\n",
       "      <td>0</td>\n",
       "      <td>16935.114236</td>\n",
       "      <td>16262.771937</td>\n",
       "      <td>29800.0</td>\n",
       "      <td>DebtCon</td>\n",
       "      <td>Other</td>\n",
       "      <td>16.000000</td>\n",
       "      <td>0.0</td>\n",
       "      <td>0.0</td>\n",
       "      <td>208.692070</td>\n",
       "      <td>...</td>\n",
       "      <td>0</td>\n",
       "      <td>0</td>\n",
       "      <td>0</td>\n",
       "      <td>1</td>\n",
       "      <td>0</td>\n",
       "      <td>0</td>\n",
       "      <td>0</td>\n",
       "      <td>0</td>\n",
       "      <td>1</td>\n",
       "      <td>0</td>\n",
       "    </tr>\n",
       "    <tr>\n",
       "      <th>5957</th>\n",
       "      <td>0</td>\n",
       "      <td>16935.114236</td>\n",
       "      <td>16262.771937</td>\n",
       "      <td>29800.0</td>\n",
       "      <td>DebtCon</td>\n",
       "      <td>Other</td>\n",
       "      <td>15.000000</td>\n",
       "      <td>0.0</td>\n",
       "      <td>0.0</td>\n",
       "      <td>212.279697</td>\n",
       "      <td>...</td>\n",
       "      <td>0</td>\n",
       "      <td>0</td>\n",
       "      <td>0</td>\n",
       "      <td>1</td>\n",
       "      <td>0</td>\n",
       "      <td>0</td>\n",
       "      <td>0</td>\n",
       "      <td>0</td>\n",
       "      <td>1</td>\n",
       "      <td>0</td>\n",
       "    </tr>\n",
       "    <tr>\n",
       "      <th>5958</th>\n",
       "      <td>0</td>\n",
       "      <td>16935.114236</td>\n",
       "      <td>16262.771937</td>\n",
       "      <td>29800.0</td>\n",
       "      <td>DebtCon</td>\n",
       "      <td>Other</td>\n",
       "      <td>14.000000</td>\n",
       "      <td>0.0</td>\n",
       "      <td>0.0</td>\n",
       "      <td>213.892709</td>\n",
       "      <td>...</td>\n",
       "      <td>0</td>\n",
       "      <td>0</td>\n",
       "      <td>0</td>\n",
       "      <td>1</td>\n",
       "      <td>0</td>\n",
       "      <td>0</td>\n",
       "      <td>0</td>\n",
       "      <td>0</td>\n",
       "      <td>1</td>\n",
       "      <td>0</td>\n",
       "    </tr>\n",
       "    <tr>\n",
       "      <th>5959</th>\n",
       "      <td>0</td>\n",
       "      <td>16935.114236</td>\n",
       "      <td>16262.771937</td>\n",
       "      <td>29800.0</td>\n",
       "      <td>DebtCon</td>\n",
       "      <td>Other</td>\n",
       "      <td>15.000000</td>\n",
       "      <td>0.0</td>\n",
       "      <td>0.0</td>\n",
       "      <td>219.601002</td>\n",
       "      <td>...</td>\n",
       "      <td>0</td>\n",
       "      <td>0</td>\n",
       "      <td>0</td>\n",
       "      <td>1</td>\n",
       "      <td>0</td>\n",
       "      <td>0</td>\n",
       "      <td>0</td>\n",
       "      <td>0</td>\n",
       "      <td>1</td>\n",
       "      <td>0</td>\n",
       "    </tr>\n",
       "  </tbody>\n",
       "</table>\n",
       "<p>5960 rows × 27 columns</p>\n",
       "</div>"
      ],
      "text/plain": [
       "      BAD          LOAN       MORTDUE    VALUE   REASON     JOB        YOJ  \\\n",
       "0       1   1100.000000  16262.771937  29800.0  HomeImp   Other  10.500000   \n",
       "1       1   1300.000000  16262.771937  29800.0  HomeImp   Other   7.000000   \n",
       "2       1   1500.000000  13500.000000  16700.0  HomeImp   Other   4.000000   \n",
       "3       1   1500.000000  16262.771937  25000.0  DebtCon   Other   9.362174   \n",
       "4       0   1700.000000  16262.771937  29800.0  HomeImp  Office   3.000000   \n",
       "...   ...           ...           ...      ...      ...     ...        ...   \n",
       "5955    0  16935.114236  16262.771937  29800.0  DebtCon   Other  16.000000   \n",
       "5956    0  16935.114236  16262.771937  29800.0  DebtCon   Other  16.000000   \n",
       "5957    0  16935.114236  16262.771937  29800.0  DebtCon   Other  15.000000   \n",
       "5958    0  16935.114236  16262.771937  29800.0  DebtCon   Other  14.000000   \n",
       "5959    0  16935.114236  16262.771937  29800.0  DebtCon   Other  15.000000   \n",
       "\n",
       "      DEROG  DELINQ       CLAGE  ...  JOB_ProfExe  JOB_Sales  JOB_Self  \\\n",
       "0       0.0     0.0   94.366667  ...            0          0         0   \n",
       "1       0.0     2.0  121.833333  ...            0          0         0   \n",
       "2       0.0     0.0  149.466667  ...            0          0         0   \n",
       "3       0.0     0.0  150.000000  ...            0          0         0   \n",
       "4       0.0     0.0   93.333333  ...            0          0         0   \n",
       "...     ...     ...         ...  ...          ...        ...       ...   \n",
       "5955    0.0     0.0  221.808718  ...            0          0         0   \n",
       "5956    0.0     0.0  208.692070  ...            0          0         0   \n",
       "5957    0.0     0.0  212.279697  ...            0          0         0   \n",
       "5958    0.0     0.0  213.892709  ...            0          0         0   \n",
       "5959    0.0     0.0  219.601002  ...            0          0         0   \n",
       "\n",
       "     REASON_DebtCon  REASON_HomeImp  MORTDUE_Rango_0-5k  MORTDUE_Rango_5k-10k  \\\n",
       "0                 0               1                   0                     0   \n",
       "1                 0               1                   0                     0   \n",
       "2                 0               1                   0                     0   \n",
       "3                 1               0                   0                     0   \n",
       "4                 0               1                   0                     0   \n",
       "...             ...             ...                 ...                   ...   \n",
       "5955              1               0                   0                     0   \n",
       "5956              1               0                   0                     0   \n",
       "5957              1               0                   0                     0   \n",
       "5958              1               0                   0                     0   \n",
       "5959              1               0                   0                     0   \n",
       "\n",
       "      MORTDUE_Rango_10k-15k  MORTDUE_Rango_15k-20k  MORTDUE_Rango_20k+  \n",
       "0                         0                      1                   0  \n",
       "1                         0                      1                   0  \n",
       "2                         1                      0                   0  \n",
       "3                         0                      1                   0  \n",
       "4                         0                      1                   0  \n",
       "...                     ...                    ...                 ...  \n",
       "5955                      0                      1                   0  \n",
       "5956                      0                      1                   0  \n",
       "5957                      0                      1                   0  \n",
       "5958                      0                      1                   0  \n",
       "5959                      0                      1                   0  \n",
       "\n",
       "[5960 rows x 27 columns]"
      ]
     },
     "execution_count": 85,
     "metadata": {},
     "output_type": "execute_result"
    }
   ],
   "source": [
    "Base_F = pd.merge(Base, pd.get_dummies(Base[['JOB','REASON','MORTDUE_Rango']]), left_index=True, right_index=True)\n",
    "Base_F"
   ]
  },
  {
   "cell_type": "code",
   "execution_count": 86,
   "id": "33ddbc9f-98bb-43ed-ab27-a9fdb91a0f5f",
   "metadata": {},
   "outputs": [
    {
     "name": "stdout",
     "output_type": "stream",
     "text": [
      "<class 'pandas.core.frame.DataFrame'>\n",
      "RangeIndex: 5960 entries, 0 to 5959\n",
      "Data columns (total 27 columns):\n",
      " #   Column                 Non-Null Count  Dtype   \n",
      "---  ------                 --------------  -----   \n",
      " 0   BAD                    5960 non-null   int64   \n",
      " 1   LOAN                   5960 non-null   float64 \n",
      " 2   MORTDUE                5960 non-null   float64 \n",
      " 3   VALUE                  5960 non-null   float64 \n",
      " 4   REASON                 5960 non-null   object  \n",
      " 5   JOB                    5960 non-null   object  \n",
      " 6   YOJ                    5960 non-null   float64 \n",
      " 7   DEROG                  5960 non-null   float64 \n",
      " 8   DELINQ                 5960 non-null   float64 \n",
      " 9   CLAGE                  5960 non-null   float64 \n",
      " 10  NINQ                   5960 non-null   float64 \n",
      " 11  CLNO                   5960 non-null   float64 \n",
      " 12  DEBTINC                5960 non-null   float64 \n",
      " 13  MORTDUE_Rango          5960 non-null   category\n",
      " 14  JOB_Mgr                5960 non-null   uint8   \n",
      " 15  JOB_Office             5960 non-null   uint8   \n",
      " 16  JOB_Other              5960 non-null   uint8   \n",
      " 17  JOB_ProfExe            5960 non-null   uint8   \n",
      " 18  JOB_Sales              5960 non-null   uint8   \n",
      " 19  JOB_Self               5960 non-null   uint8   \n",
      " 20  REASON_DebtCon         5960 non-null   uint8   \n",
      " 21  REASON_HomeImp         5960 non-null   uint8   \n",
      " 22  MORTDUE_Rango_0-5k     5960 non-null   uint8   \n",
      " 23  MORTDUE_Rango_5k-10k   5960 non-null   uint8   \n",
      " 24  MORTDUE_Rango_10k-15k  5960 non-null   uint8   \n",
      " 25  MORTDUE_Rango_15k-20k  5960 non-null   uint8   \n",
      " 26  MORTDUE_Rango_20k+     5960 non-null   uint8   \n",
      "dtypes: category(1), float64(10), int64(1), object(2), uint8(13)\n",
      "memory usage: 687.1+ KB\n"
     ]
    }
   ],
   "source": [
    "Base_F.info()"
   ]
  },
  {
   "cell_type": "code",
   "execution_count": 87,
   "id": "bc59451e-19eb-400b-85e1-75d8f221a7bb",
   "metadata": {},
   "outputs": [
    {
     "name": "stdout",
     "output_type": "stream",
     "text": [
      "(5960, 23) (5960, 1)\n"
     ]
    }
   ],
   "source": [
    "X=Base_F.drop(['BAD','REASON','JOB','MORTDUE_Rango'],axis=1)\n",
    "y=Base_F[['BAD']]\n",
    "print(X.shape,y.shape)"
   ]
  },
  {
   "cell_type": "code",
   "execution_count": 88,
   "id": "5767ae1d-4066-4daa-9790-5465ee5e6cee",
   "metadata": {},
   "outputs": [
    {
     "name": "stdout",
     "output_type": "stream",
     "text": [
      "Intercepto: 0.0009566097258696862\n",
      "Coeficientes: [-3.31821353e-05  1.03706040e-04 -1.32877420e-04 -1.43514585e-03\n",
      "  3.37101608e-02  6.06117003e-02 -5.37247847e-03  2.75711511e-02\n",
      " -2.02067496e-03  6.48620210e-02  1.91867076e-03 -4.35453126e-03\n",
      "  2.07350184e-03 -1.13247910e-03  1.03123324e-03  1.42021425e-03\n",
      " -8.01551234e-04  1.75816096e-03  4.51066736e-04  9.06303611e-04\n",
      "  5.14261762e-04 -5.45400598e-04 -3.69621785e-04]\n"
     ]
    },
    {
     "name": "stderr",
     "output_type": "stream",
     "text": [
      "/Users/jorgefernandez/opt/anaconda3/lib/python3.9/site-packages/sklearn/utils/validation.py:63: DataConversionWarning: A column-vector y was passed when a 1d array was expected. Please change the shape of y to (n_samples, ), for example using ravel().\n",
      "  return f(*args, **kwargs)\n"
     ]
    }
   ],
   "source": [
    "from sklearn.linear_model import LogisticRegression\n",
    "model = LogisticRegression(solver='liblinear')\n",
    "model.fit(X, y)\n",
    "\n",
    "print(\"Intercepto:\", model.intercept_[0])\n",
    "import warnings\n",
    "print(\"Coeficientes:\", model.coef_[0])"
   ]
  },
  {
   "cell_type": "code",
   "execution_count": 90,
   "id": "55b2e6c1-5c0e-4a7a-87b2-92d472241a5f",
   "metadata": {
    "collapsed": true,
    "jupyter": {
     "outputs_hidden": true
    },
    "tags": []
   },
   "outputs": [
    {
     "name": "stdout",
     "output_type": "stream",
     "text": [
      "Intervalos de confianza de los coeficientes:\n",
      "Intervalo Inferior: [-4.36411928e-05  5.02451990e-05 -1.79516504e-04 -1.97396258e-02\n",
      "  1.54275639e-02  2.79622132e-02 -6.74291519e-03  1.28515057e-02\n",
      " -2.06657266e-02  3.83818022e-02  1.65021594e-04 -1.37462428e-01\n",
      " -5.78469416e-03 -2.24853280e-02  4.25109540e-04  5.99350768e-04\n",
      " -5.07216436e-02  1.25986666e-04  1.72332136e-04  3.46457002e-04\n",
      "  5.74702506e-05 -3.92371045e-02 -1.26302703e-02]\n",
      "Intervalo Superior: [-2.23883527e-05  1.57489802e-04 -9.96318825e-05  1.44792982e-02\n",
      "  5.52015919e-01  7.86299813e-01 -4.46796242e-03  1.42340516e-01\n",
      "  1.66402290e-02  8.87671034e-02  5.03792584e-02 -1.92496677e-03\n",
      "  5.63000464e-02  2.74256975e-02  4.55236665e-02  4.99586612e-02\n",
      "  6.75559696e-03  7.12842026e-02  1.49429116e-02  3.41008039e-02\n",
      "  1.76157434e-02  1.84540484e-03  8.96261256e-03]\n"
     ]
    }
   ],
   "source": [
    "\n",
    "model = LogisticRegression(solver='liblinear')\n",
    "model.fit(X, y)\n",
    "\n",
    "print(\"Intercepto:\", model.intercept_[0])\n",
    "\n",
    "print(\"Coeficientes:\", model.coef_[0])\n",
    "\n",
    "def bootstrap_confidence_interval_logistic(X, y, num_simulations=10000):\n",
    "    coefs = []\n",
    "    num_samples = len(X)\n",
    "    for _ in range(num_simulations):\n",
    "        # Muestreo bootstrap\n",
    "        idx = np.random.choice(range(num_samples), size=num_samples, replace=True)\n",
    "        X_sampled, y_sampled = X.iloc[idx], y.iloc[idx]\n",
    "        \n",
    "        # Ajustar el modelo en la muestra\n",
    "        model.fit(X_sampled, y_sampled)\n",
    "        coefs.append(model.coef_[0])\n",
    "    \n",
    "    coefs = np.array(coefs)\n",
    "    lower_percentile = np.percentile(coefs, 2.5, axis=0)\n",
    "    upper_percentile = np.percentile(coefs, 97.5, axis=0)\n",
    "    \n",
    "    return lower_percentile, upper_percentile\n",
    "\n",
    "# Obtener intervalos de confianza de los coeficientes\n",
    "lower_ci, upper_ci = bootstrap_confidence_interval_logistic(X, y)\n",
    "\n",
    "print(\"Intervalos de confianza de los coeficientes:\")\n",
    "print(\"Intervalo Inferior:\", lower_ci)\n",
    "print(\"Intervalo Superior:\", upper_ci)"
   ]
  },
  {
   "cell_type": "code",
   "execution_count": 94,
   "id": "a3e867e9-a1c1-4389-9f94-bfa26264ba86",
   "metadata": {},
   "outputs": [
    {
     "data": {
      "image/png": "[encoded data removed]",
      "text/plain": [
       "<Figure size 720x432 with 1 Axes>"
      ]
     },
     "metadata": {},
     "output_type": "display_data"
    }
   ],
   "source": [
    "coeficientes = model.coef_[0]\n",
    "nombres_coeficientes=X.columns\n",
    "plt.figure(figsize=(10, 6))\n",
    "\n",
    "plt.errorbar(nombres_coeficientes, coeficientes, yerr=[coeficientes - lower_ci, upper_ci - coeficientes],\n",
    "             fmt='o', color='blue', ecolor='orange', capsize=5, elinewidth=2)\n",
    "\n",
    "plt.xlabel('Coeficientes')\n",
    "plt.ylabel('Valor del coeficiente')\n",
    "plt.title('Valores del Coeficiente con Intervalos de Confianza')\n",
    "\n",
    "plt.xticks(rotation=45)  # Rotación de las etiquetas del eje x para una mejor visualización\n",
    "\n",
    "plt.show()"
   ]
  },
  {
   "cell_type": "code",
   "execution_count": null,
   "id": "3f5fa863-abf8-4577-9dc4-857e78939e0a",
   "metadata": {},
   "outputs": [],
   "source": []
  },
  {
   "cell_type": "code",
   "execution_count": null,
   "id": "e9f3625c-589e-4174-b8ee-97a4f1422693",
   "metadata": {},
   "outputs": [],
   "source": [
    "import statsmodels.api as sm\n",
    "import statsmodels.formula.api as smf\n",
    "import pandas as pd\n",
    "\n",
    "model = smf.ols('y ~ X', data=X.columns).fit()  # Ejemplo para regresión lineal\n",
    "\n",
    "# O suponiendo que has ajustado el modelo directamente con sm (sm.OLS o sm.Logit)\n",
    "model = sm.OLS(y, X).fit()  # Ejemplo para regresión lineal\n",
    "\n",
    "# Obtener el resumen del modelo\n",
    "summary = model.summary()\n",
    "\n",
    "# Obtener los coeficientes y sus intervalos de confianza del resumen del modelo\n",
    "conf_int = summary.tables[1]  # Obtener la segunda tabla del resumen que contiene los coeficientes e intervalos de confianza\n",
    "conf_int = pd.DataFrame(conf_int.data[1:], columns=conf_int.data[0])  # Convertir la tabla en un DataFrame\n",
    "\n",
    "print(conf_int)\n"
   ]
  },
  {
   "cell_type": "code",
   "execution_count": null,
   "id": "37f89c71-f2cc-40a5-801e-302bd917ef47",
   "metadata": {},
   "outputs": [],
   "source": []
  }
 ],
 "metadata": {
  "kernelspec": {
   "display_name": "Python 3 (ipykernel)",
   "language": "python",
   "name": "python3"
  },
  "language_info": {
   "codemirror_mode": {
    "name": "ipython",
    "version": 3
   },
   "file_extension": ".py",
   "mimetype": "text/x-python",
   "name": "python",
   "nbconvert_exporter": "python",
   "pygments_lexer": "ipython3",
   "version": "3.9.7"
  }
 },
 "nbformat": 4,
 "nbformat_minor": 5
}
